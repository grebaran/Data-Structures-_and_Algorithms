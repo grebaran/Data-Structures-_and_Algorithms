{
 "cells": [
  {
   "cell_type": "markdown",
   "metadata": {},
   "source": [
    "# Google - Facebook - Amazon İş Mülakat Algoritmaları"
   ]
  },
  {
   "cell_type": "markdown",
   "metadata": {},
   "source": [
    "## İçerik:\n",
    "* [Google](#1)\n",
    "    * [Stock Maximum Profit](#2)\n",
    "    * [Step Counting Using Recursion](#3)\n",
    "    * [String Combinations Consisting only of 0, 1 and ?](#4)\n",
    "* [Facebook](#5)\n",
    "    * [Find All Duplicates in Array in Linear Time](#6)\n",
    "    * [Dutch National Flag Sorting Problem](#7)\n",
    "* [Amazon](#8)\n",
    "    * [Generate Primes Up To N Using Sieve of Eratosthenes Algorithm](#9)\n",
    "* [Neler Öğrendik](#10)"
   ]
  },
  {
   "cell_type": "markdown",
   "metadata": {},
   "source": [
    "<a id=\"1\"></a>\n",
    "## Google\n",
    "* [Stock Maximum Profit](#2)\n",
    "* [Step Counting Using Recursion](#3)\n",
    "* [String Combinations Consisting only of 0, 1 and ?](#4)"
   ]
  },
  {
   "cell_type": "markdown",
   "metadata": {},
   "source": [
    "<a id=\"2\"></a>\n",
    "### Stock Maximum Profit"
   ]
  },
  {
   "cell_type": "markdown",
   "metadata": {},
   "source": [
    "* English : You will be given a list of stock prices for a given day and your goal is to return the maximum profit that could have been made by buying a stock at the given price and then selling the stock later on. For example if the input is: [45, 24, 35, 31, 40, 38, 11] then your program should return 16 because if you bought the stock at dolar 24 and sold it at dolar 40, a profit of dolar 16 was made and this is the largest profit that could be made. If no profit could have been made, return -1.\n",
    "\n",
    "* Türkçe :  Size bir gün boyunca hisse senedi fiyatlarını içeren bir liste verilecek ve amacınız, hisse senedini verilen fiyattan satın alıp daha sonra satarak elde edilebilecek maksimum karı bulmak olacak. Örneğin, eğer giriş şu şekildeyse: [45, 24, 35, 31, 40, 38, 11], programınız 16 döndürmeli, çünkü hisseyi 24 dolardan alıp 40 dolardan sattığınızda 16 dolar kar elde ediliyor ve bu yapılabilecek en büyük kar. Eğer hiç kar edilemeyecekse, -1 döndürün.\n",
    "\n",
    "* Örneğin: buy_price = 24, sell_price = 35, max_profit = 11"
   ]
  },
  {
   "cell_type": "code",
   "execution_count": 20,
   "metadata": {},
   "outputs": [
    {
     "data": {
      "text/plain": [
       "16"
      ]
     },
     "execution_count": 20,
     "metadata": {},
     "output_type": "execute_result"
    }
   ],
   "source": [
    "def stockPrice(arr):\n",
    "    \n",
    "    min_price = arr[0]\n",
    "    max_profit = -1\n",
    "    \n",
    "    for price in arr[1:]:\n",
    "        # Mevcut fiyatla en düşük fiyat arasındaki karı hesapla\n",
    "        profit = price - min_price\n",
    "        \n",
    "        # Eğer bu kar, şimdiye kadar bulunan en yüksek kardan büyükse güncelle\n",
    "        if profit > max_profit:\n",
    "            max_profit = profit\n",
    "        \n",
    "        # Şu ana kadar bulunan en düşük fiyatı güncelle\n",
    "        if price < min_price:\n",
    "            min_price = price\n",
    "    \n",
    "    return max_profit\n",
    "stockPrice([45,24,35,31,40,38,11])"
   ]
  },
  {
   "cell_type": "code",
   "execution_count": 21,
   "metadata": {},
   "outputs": [
    {
     "name": "stdout",
     "output_type": "stream",
     "text": [
      "974 ns ± 129 ns per loop (mean ± std. dev. of 7 runs, 100,000 loops each)\n"
     ]
    }
   ],
   "source": [
    "%timeit stockPrice([45,24,35,31,40,38,11])"
   ]
  },
  {
   "cell_type": "markdown",
   "metadata": {},
   "source": [
    "<a id=\"3\"></a>\n",
    "### Step Counting Using Recursion"
   ]
  },
  {
   "cell_type": "markdown",
   "metadata": {},
   "source": [
    "* Suppose you want climb a staircase of N steps, and on each step you can take either 1 or 2 steps. How many distinct ways are there to climb the staircase? For example, if you wanted to climb 4 steps, you can take the following distinct number of steps\n",
    "\n",
    "* Diyelim ki N basamaklı bir merdiveni tırmanmak istiyorsunuz ve her adımda ya 1 ya da 2 basamak çıkabilirsiniz. Bu merdiveni tırmanmanın kaç farklı yolu vardır? Örneğin, 4 basamaklı bir merdiveni çıkmak isterseniz, şu farklı adım kombinasyonlarını kullanabilirsiniz:\n",
    "\n",
    "* 1) 1, 1, 1, 1\n",
    "* 2) 1, 1, 2\n",
    "* 3) 1, 2, 1\n",
    "* 4) 2, 1, 1\n",
    "* 5) 2, 2"
   ]
  },
  {
   "cell_type": "markdown",
   "metadata": {},
   "source": [
    "1 1 1 1 1\n",
    "1 1 1 2\n",
    "1 1 2 1\n",
    "1 2 1 1\n",
    "2 1 1 1\n",
    "2 2 1\n",
    "2 1 2\n",
    "1 2 2\n",
    "\n",
    "1 1 1\n",
    "1 2\n",
    "2 1\n"
   ]
  },
  {
   "cell_type": "code",
   "execution_count": 37,
   "metadata": {},
   "outputs": [
    {
     "data": {
      "text/plain": [
       "8"
      ]
     },
     "execution_count": 37,
     "metadata": {},
     "output_type": "execute_result"
    }
   ],
   "source": [
    "def countStep(arr):\n",
    "    if arr<=1:\n",
    "        return 1\n",
    "    return countStep(arr-1)+countStep(arr-2)\n",
    "countStep(5)"
   ]
  },
  {
   "cell_type": "code",
   "execution_count": null,
   "metadata": {},
   "outputs": [],
   "source": [
    "# N = 4\n",
    "#          countStep(3)             +   countStep(2)\n",
    "# countStep(2) + countStep(1)       +        2\n",
    "#      2       +      1 "
   ]
  },
  {
   "cell_type": "markdown",
   "metadata": {},
   "source": [
    "<a id=\"4\"></a>\n",
    "### String Combinations Consisting only of 0, 1 and ?\n",
    "* For this popular algorithm interview question, the input will be a string consisting only of the characters 0, 1 and ?, where the ? acts as a wildcard that can be either a 0 or 1, and your goal is to print all possible combinations of the string. For example, if the string is \"011?0\" then your program should output a set of all strings, which are: [\"01100\", \"01110\"].\n",
    "\n",
    "### Sadece 0, 1 ve ? Karakterlerinden Oluşan String Kombinasyonları\n",
    "* Bu popüler algoritma mülakat sorusunda, giriş yalnızca 0, 1 ve ? karakterlerinden oluşan bir string olacaktır. Burada ? karakteri bir joker (wildcard) olarak davranır ve hem 0 hem de 1 olabilir. Amacınız, stringin tüm olası kombinasyonlarını yazdırmaktır. Örneğin, eğer string \"011?0\" ise, programınız şu stringlerin tüm kombinasyonlarını üretmelidir: [\"01100\", \"01110\"]."
   ]
  },
  {
   "cell_type": "code",
   "execution_count": 69,
   "metadata": {},
   "outputs": [
    {
     "name": "stdout",
     "output_type": "stream",
     "text": [
      "1010001100\n",
      "1010001101\n",
      "1010011100\n",
      "1010011101\n",
      "1011001100\n",
      "1011001101\n",
      "1011011100\n",
      "1011011101\n",
      "0.0005362000083550811\n"
     ]
    }
   ],
   "source": [
    "\n",
    "from itertools import product\n",
    "\n",
    "def patterns(string):\n",
    "    indexes = [i for i, char in enumerate(string) if char == '?']\n",
    "    combinations = product('01', repeat=len(indexes))  # 0 ve 1 kombinasyonlarını üretir\n",
    "    liste = list(string)\n",
    "    \n",
    "    for comb in combinations:\n",
    "        for i, index in enumerate(indexes):\n",
    "            liste[index] = comb[i]\n",
    "        print(''.join(liste))\n",
    "\n",
    "patterns(\"101?0?110?\")\n",
    "\n"
   ]
  },
  {
   "cell_type": "code",
   "execution_count": 93,
   "metadata": {},
   "outputs": [
    {
     "name": "stdout",
     "output_type": "stream",
     "text": [
      "1010001101\n",
      "1010011100\n",
      "1010011101\n",
      "1011001100\n",
      "1011001101\n",
      "1011011100\n",
      "1011011101\n",
      "1010001100\n"
     ]
    }
   ],
   "source": [
    "\n",
    "def patterns(string):\n",
    "    indexes=[i for i in range(0,len(string)) if string[i]==\"?\"]\n",
    "    liste=list(string)\n",
    "    soru_isareti=[0]*string.count(\"?\")\n",
    "    for _ in range(2**len(soru_isareti)):\n",
    "       \n",
    "        for i in range(len(soru_isareti)-1,-1,-1):\n",
    "            if soru_isareti[i]==0:\n",
    "                soru_isareti[i]=1\n",
    "                break\n",
    "            else:\n",
    "                soru_isareti[i]=0\n",
    "        sayac=0\n",
    "        for k in indexes:\n",
    "            liste[k]=soru_isareti[sayac]\n",
    "            sayac+=1\n",
    "        print(\"\".join(map(str,liste)))\n",
    "patterns(\"101?0?110?\")"
   ]
  },
  {
   "cell_type": "markdown",
   "metadata": {},
   "source": [
    "<a id=\"5\"></a>\n",
    "## Facebook\n",
    "* [Find All Duplicates in Array in Linear Time](#6)\n",
    "* [Dutch National Flag Sorting Problem](#7)"
   ]
  },
  {
   "cell_type": "markdown",
   "metadata": {},
   "source": [
    "<a id=\"6\"></a>\n",
    "### Find All Duplicates in Array in Linear Time\n",
    "* This is a common interview question where you need to write a program to find all duplicates in an array where the numbers in the array are in the range of 0 to n-1 where n is the size of the array. For example: [1, 2, 3, 3] is okay but [1, 2, 6, 3] is not. In this version of the challenge there can be multiple duplicate numbers as well.\n",
    "\n",
    "### Dizi İçindeki Tüm Tekrarları Bulma (Doğrusal Zaman)\n",
    "\n",
    "* Bu, bir mülakat sorusu olarak sıkça karşınıza çıkabilecek bir problemdir. Burada, bir dizideki tüm tekrarları bulmanız gereken bir program yazmalısınız. Dizideki sayılar, 0 ile n-1 arasındadır ve n, dizinin boyutudur. Örneğin: [1, 2, 3, 3] geçerlidir ama [1, 2, 6, 3] geçerli değildir. Bu sürümde, birden fazla tekrar eden sayılar da olabilir.\n"
   ]
  },
  {
   "cell_type": "code",
   "execution_count": 7,
   "metadata": {},
   "outputs": [
    {
     "name": "stdout",
     "output_type": "stream",
     "text": [
      "2\n",
      "3\n"
     ]
    }
   ],
   "source": [
    "def duplicates(arr):\n",
    "    arr=sorted(arr)\n",
    "    for i in range(0,len(arr)-1):\n",
    "        if arr[i]==arr[i+1]:\n",
    "            print(arr[i])\n",
    "duplicates([2,0,1,3,5,6,4,2,3,14])"
   ]
  },
  {
   "cell_type": "markdown",
   "metadata": {},
   "source": [
    "<a id=\"7\"></a>\n",
    "### Dutch National Flag Sorting Problem\n",
    "* For this problem, your goal is to sort an array of 0, 1 and 2's but you must do this in place, in linear time and without any extra space (such as creating an extra array). This is called the Dutch national flag sorting problem. For example, if the input array is [2,0,0,1,2,1] then your program should output [0,0,1,1,2,2] and the algorithm should run in O(n) time.\n",
    "\n",
    "* Bu problemde amacınız, bir dizideki 0, 1 ve 2'leri sıralamaktır. Ancak bunu yerinde (in place) yapmalı, lineer zamanda çalıştırmalı ve ekstra bir alan kullanmamalısınız (yani ekstra bir dizi oluşturamazsınız). Bu, Hollanda ulusal bayrağı sıralama problemi olarak adlandırılır. Örneğin, giriş dizisi [2,0,0,1,2,1] ise, programınız [0,0,1,1,2,2] çıktısını vermelidir ve algoritma O(n) zamanında çalışmalıdır."
   ]
  },
  {
   "cell_type": "code",
   "execution_count": 8,
   "metadata": {},
   "outputs": [
    {
     "data": {
      "text/plain": [
       "[1, 3]"
      ]
     },
     "execution_count": 8,
     "metadata": {},
     "output_type": "execute_result"
    }
   ],
   "source": [
    "a=[1,2,3]\n",
    "a.remove(a[1])\n",
    "a"
   ]
  },
  {
   "cell_type": "code",
   "execution_count": 13,
   "metadata": {},
   "outputs": [],
   "source": [
    "def swap(arr):\n",
    "    for i in range(0,len(arr)):\n",
    "        if arr[i]==0:\n",
    "            arr.remove(arr[i])\n",
    "            arr.insert(0,0)\n",
    "        elif arr[i]==2:\n",
    "            arr.remove(arr[i])\n",
    "            arr.append(2)\n",
    "    return arr\n"
   ]
  },
  {
   "cell_type": "code",
   "execution_count": 14,
   "metadata": {},
   "outputs": [
    {
     "name": "stdout",
     "output_type": "stream",
     "text": [
      "2.02 µs ± 240 ns per loop (mean ± std. dev. of 7 runs, 1,000,000 loops each)\n"
     ]
    }
   ],
   "source": [
    "%timeit swap([2,0,0,1,2,1])"
   ]
  },
  {
   "cell_type": "code",
   "execution_count": 25,
   "metadata": {},
   "outputs": [],
   "source": [
    "def swap(arr,i1,i2):\n",
    "    arr[i1],arr[i2]=arr[i2],arr[i1]\n",
    "\n",
    "def natFlag(arr):\n",
    "    low=0\n",
    "    mid=0\n",
    "    high=len(arr)-1\n",
    "\n",
    "    while mid<=high:\n",
    "        if arr[mid]==0:\n",
    "            swap(arr,low,mid)\n",
    "            mid+=1\n",
    "            low+=1\n",
    "        elif arr[mid]==2:\n",
    "            swap(arr,mid,high)\n",
    "            high-=1\n",
    "        elif arr[mid]==1:\n",
    "            mid+=1\n",
    "    return arr"
   ]
  },
  {
   "cell_type": "code",
   "execution_count": 26,
   "metadata": {},
   "outputs": [
    {
     "data": {
      "text/plain": [
       "[0, 0, 1, 1, 2, 2]"
      ]
     },
     "execution_count": 26,
     "metadata": {},
     "output_type": "execute_result"
    }
   ],
   "source": [
    "natFlag([2,0,0,1,2,1])"
   ]
  },
  {
   "cell_type": "markdown",
   "metadata": {},
   "source": [
    "<a id=\"8\"></a>\n",
    "## Amazon\n",
    "* [Generate Primes Up To N Using Sieve of Eratosthenes Algorithm](#9)"
   ]
  },
  {
   "cell_type": "markdown",
   "metadata": {},
   "source": [
    "<a id=\"9\"></a>\n",
    "### Generate Primes Up To N Using Sieve of Eratosthenes Algorithm\n",
    "* The sieve of Eratosthenes algorithm generates all the primes up to a given limit. This is a common and fast algorithm used to generate a list of primes up to a given limit. It works by making a list from 1 to N, and then iterating through the list and progressively removing non-prime, composite numbers until only primes are left in a list.\n",
    "* 1  2  3  4  5  6  7  8  9  10 11 12 13 14 15 16 17 18 19 20 21 22 23 24 25 26 27 28 29 30\n",
    "* 2  3  5  7  11  13  17  19   23  29\n",
    "\n",
    "### Eratosthenes Kalburu Algoritması ile N'e Kadar Asal Sayıları Üretme\n",
    "* Eratosthenes kalburu algoritması, verilen bir limite kadar tüm asal sayıları üretir. Bu, yaygın ve hızlı bir algoritma olup, belirli bir limite kadar asal sayıların listesini oluşturmak için kullanılır. Algoritma, 1'den N'e kadar bir liste yaparak başlar ve bu liste üzerinde ilerleyerek asal olmayan, bileşik sayıları kademeli olarak listeden çıkarır. Sonuçta yalnızca asal sayılar listede kalır."
   ]
  },
  {
   "cell_type": "code",
   "execution_count": null,
   "metadata": {},
   "outputs": [],
   "source": []
  },
  {
   "cell_type": "code",
   "execution_count": 46,
   "metadata": {},
   "outputs": [
    {
     "data": {
      "text/plain": [
       "[2, 3, 5, 7, 11, 13, 17, 19, 23, 29]"
      ]
     },
     "execution_count": 46,
     "metadata": {},
     "output_type": "execute_result"
    }
   ],
   "source": [
    "def sieve(limit):\n",
    "    arr = [True] * (limit + 1)\n",
    "    arr[0] = arr[1] = False  # 0 ve 1 asal değildir\n",
    "\n",
    "    for i in range(2, int(limit ** 0.5) + 1): # burada aslında en son değerin karekökünü alarak işleme sokuyoruz. mesala limit 36 olsaydı bizim 7 adım gitmemiz gerekirdi\n",
    "        if arr[i]:\n",
    "            \n",
    "            for j in range(i * i, limit + 1, i):  # i'nin katlarını eler mesala 2 ise [4,6,8,10,12] şeklinde elenecek\n",
    "                arr[j] = False\n",
    "\n",
    "    # True kalan indeksler asal sayıları temsil eder\n",
    "    return [i for i in range(limit + 1) if arr[i]]\n",
    "sieve(30)"
   ]
  },
  {
   "cell_type": "markdown",
   "metadata": {},
   "source": [
    "<a id=\"10\"></a>\n",
    "## Neler Öğrendik\n",
    "* Google\n",
    "    * Stock Maximum Profit\n",
    "    * Step Counting Using Recursion\n",
    "    * String Combinations Consisting only of 0, 1 and ?\n",
    "* Facebook\n",
    "    * Find All Duplicates in Array in Linear Time\n",
    "    * Dutch National Flag Sorting Problem\n",
    "* Amazon\n",
    "    * Generate Primes Up To N Using Sieve of Eratosthenes Algorithm\n",
    "    "
   ]
  },
  {
   "cell_type": "markdown",
   "metadata": {},
   "source": []
  }
 ],
 "metadata": {
  "kernelspec": {
   "display_name": "Python 3",
   "language": "python",
   "name": "python3"
  },
  "language_info": {
   "codemirror_mode": {
    "name": "ipython",
    "version": 3
   },
   "file_extension": ".py",
   "mimetype": "text/x-python",
   "name": "python",
   "nbconvert_exporter": "python",
   "pygments_lexer": "ipython3",
   "version": "3.12.0"
  }
 },
 "nbformat": 4,
 "nbformat_minor": 2
}
