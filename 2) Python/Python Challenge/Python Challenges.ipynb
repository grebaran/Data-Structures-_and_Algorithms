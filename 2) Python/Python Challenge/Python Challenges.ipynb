{
 "cells": [
  {
   "cell_type": "markdown",
   "metadata": {},
   "source": [
    "# Python Challenges"
   ]
  },
  {
   "cell_type": "markdown",
   "metadata": {},
   "source": [
    "## İçerik:\n",
    "* [KOLAY](#1)\n",
    "    * [Faktöriyel](#2)\n",
    "    * [Kelimenin Tersi](#3)\n",
    "    * [Saat Çevirme](#4)\n",
    "    * [Baş Harf Büyütme](#5)\n",
    "* [ORTA](#6)\n",
    "    * [Kelime Karıştırmak](#7)\n",
    "    * [Sıklık Bulma](#8)\n",
    "    * [Kayıp Basamak](#9)\n",
    "* [ZOR](#10)\n",
    "    * [Array Rotasyonu](#11)\n",
    "    * [Array Çiftleri](#12)\n",
    "* [Neler Öğrendik](#1100)"
   ]
  },
  {
   "cell_type": "markdown",
   "metadata": {},
   "source": [
    "<a id=\"1\"></a> <br>\n",
    "## KOLAY"
   ]
  },
  {
   "cell_type": "markdown",
   "metadata": {},
   "source": [
    "<a id=\"2\"></a> <br>\n",
    "### 1) Faktöriyel\n",
    "* Örnek\n",
    "    * Faktöriyel => 4! = 4.3.2.1 = 24\n",
    "    * input = 4\n",
    "    * output = 24"
   ]
  },
  {
   "cell_type": "code",
   "execution_count": 14,
   "metadata": {},
   "outputs": [],
   "source": [
    "def factorial(num):\n",
    "    \n",
    "    f = 1\n",
    "    for i in range(1,num+1):\n",
    "        f = f*i \n",
    "    return f"
   ]
  },
  {
   "cell_type": "code",
   "execution_count": 2,
   "metadata": {},
   "outputs": [
    {
     "name": "stdout",
     "output_type": "stream",
     "text": [
      "5! =  120\n",
      "4! =  24\n",
      "1! =  1\n",
      "0! =  1\n",
      "15! =  1307674368000\n"
     ]
    }
   ],
   "source": [
    "print(\"5! = \",factorial(5))\n",
    "print(\"4! = \",factorial(4))\n",
    "print(\"1! = \",factorial(1))\n",
    "print(\"0! = \",factorial(0))\n",
    "print(\"15! = \",factorial(15))"
   ]
  },
  {
   "cell_type": "code",
   "execution_count": 26,
   "metadata": {},
   "outputs": [
    {
     "name": "stdout",
     "output_type": "stream",
     "text": [
      "5! =  120\n"
     ]
    }
   ],
   "source": [
    "def factorial2(num):\n",
    "    if num<1:\n",
    "        return True\n",
    "    return num*factorial2(num-1)\n",
    "# Burada özyinelemeli (recursive fuctions kullanarak daha kısa şekilde yazdık)\n",
    "print(\"5! = \",factorial2(5))"
   ]
  },
  {
   "cell_type": "markdown",
   "metadata": {},
   "source": [
    "<a id=\"3\"></a> <br>\n",
    "### 2) Kelimenin Tersi\n",
    "* Örnek\n",
    "    * input = \"istanbul\"\n",
    "    * output = \"lubnatsi\""
   ]
  },
  {
   "cell_type": "code",
   "execution_count": 28,
   "metadata": {},
   "outputs": [],
   "source": [
    "def reverse(str):\n",
    "    \n",
    "    # str[start:stop:step]\n",
    "    return str[::-1]"
   ]
  },
  {
   "cell_type": "code",
   "execution_count": 30,
   "metadata": {},
   "outputs": [
    {
     "name": "stdout",
     "output_type": "stream",
     "text": [
      "istanbul:  lubnatsi\n",
      "ankara:  arakna\n"
     ]
    }
   ],
   "source": [
    "print(\"istanbul: \",reverse(\"istanbul\"))\n",
    "print(\"ankara: \",reverse(\"ankara\"))"
   ]
  },
  {
   "cell_type": "markdown",
   "metadata": {},
   "source": [
    "<a id=\"4\"></a> <br>\n",
    "### 3) Saat Çevirme\n",
    "* Örnek\n",
    "    * input = 128\n",
    "    * output = \"2:8\""
   ]
  },
  {
   "cell_type": "code",
   "execution_count": 36,
   "metadata": {},
   "outputs": [],
   "source": [
    "import math\n",
    "def convertTime(num):\n",
    "    \n",
    "    # saati bulmak 128/60 = 2.15 saat\n",
    "    saat = int(math.floor(num/60))# ya da num//60 kullanırsın\n",
    "    \n",
    "    # dakika 128/60 kalanı bul 128 % 60\n",
    "    dakika = num % 60\n",
    "    \n",
    "    # string(saati + : + dakika)\n",
    "    return str(saat)+\" (saat) :\"+str(dakika) + \" (dakika)\""
   ]
  },
  {
   "cell_type": "code",
   "execution_count": 38,
   "metadata": {},
   "outputs": [
    {
     "name": "stdout",
     "output_type": "stream",
     "text": [
      "128 =>   2 (saat) :8 (dakika)\n",
      "59 =>   0 (saat) :59 (dakika)\n",
      "361 =>   6 (saat) :1 (dakika)\n"
     ]
    }
   ],
   "source": [
    "print(\"128 =>  \",convertTime(128))\n",
    "print(\"59 =>  \",convertTime(59))\n",
    "print(\"361 =>  \",convertTime(361))"
   ]
  },
  {
   "cell_type": "markdown",
   "metadata": {},
   "source": [
    "<a id=\"5\"></a> <br>\n",
    "### 4) Baş Harf Büyütme\n",
    "* Örnek\n",
    "    * input = \"kod yazmak cok zevkli\"\n",
    "    * output = \"Kod Yazmak Cok Zevkli\""
   ]
  },
  {
   "cell_type": "code",
   "execution_count": 68,
   "metadata": {},
   "outputs": [],
   "source": [
    "def basHarfiBuyukYap(str):\n",
    "    \n",
    "    # split\n",
    "    kelimeler = str.split(\" \")\n",
    "    \n",
    "    # bu kelimelerin bas harfini buyut\n",
    "    for i in range(0,len(kelimeler)):\n",
    "        kelimeler[i] = kelimeler[i][0].upper() + kelimeler[i][1:]\n",
    "        \n",
    "    # birlestir ve return et\n",
    "    return \" \".join(kelimeler)"
   ]
  },
  {
   "cell_type": "code",
   "execution_count": 70,
   "metadata": {},
   "outputs": [
    {
     "name": "stdout",
     "output_type": "stream",
     "text": [
      "Kod Yazmak Cok Zevkli\n",
      "ikinci secenek:  Kod Yazmak Cok Zevkli\n"
     ]
    }
   ],
   "source": [
    "print(basHarfiBuyukYap(\"kod yazmak cok zevkli\"))\n",
    "\n",
    "deneme_str = \"kod yazmak cok zevkli\"\n",
    "print(\"ikinci secenek: \",deneme_str.title())"
   ]
  },
  {
   "cell_type": "markdown",
   "metadata": {},
   "source": [
    "<a id=\"6\"></a> <br>\n",
    "## ORTA"
   ]
  },
  {
   "cell_type": "markdown",
   "metadata": {},
   "source": [
    "<a id=\"7\"></a> <br>\n",
    "### 5) Kelime Karıştırmak\n",
    "* Örnek\n",
    "    * input = \"ankara\" == \"kaarna\"\n",
    "    * output = true\n",
    "    * input = \"ankara\" == \"zarks\"\n",
    "    * output = false"
   ]
  },
  {
   "cell_type": "code",
   "execution_count": 72,
   "metadata": {},
   "outputs": [],
   "source": [
    "def kelimeKaristirma(str1,str2):\n",
    "    \n",
    "    # str2 de ki harflere erisim saglamam lazim (for dongusu)\n",
    "    for i in str2:\n",
    "        \n",
    "        # str 2 içinde ki harfler str 1 içinde var mı?\n",
    "        \n",
    "        if i not in str1:\n",
    "            return False\n",
    "\n",
    "    return True"
   ]
  },
  {
   "cell_type": "code",
   "execution_count": 76,
   "metadata": {},
   "outputs": [
    {
     "name": "stdout",
     "output_type": "stream",
     "text": [
      "True\n",
      "False\n"
     ]
    }
   ],
   "source": [
    "print(kelimeKaristirma(\"ankara\",\"kaarna\"))\n",
    "print(kelimeKaristirma(\"ankara\",\"xasd\"))"
   ]
  },
  {
   "cell_type": "markdown",
   "metadata": {},
   "source": [
    "<a id=\"8\"></a> <br>\n",
    "### 6) Sıklık Bulma\n",
    "* Örnek\n",
    "    * input = \"kkwcccddee\"\n",
    "    * Output = \"2kk1w3ccc2dd2ee\""
   ]
  },
  {
   "cell_type": "code",
   "execution_count": 104,
   "metadata": {},
   "outputs": [],
   "source": [
    "def frequency(string):\n",
    "    \n",
    "    i = 0\n",
    "    final_string = \"\"\n",
    "    # stringin harflerine eris\n",
    "    while i < len(string):\n",
    "        \n",
    "        c = string[i]# stringin i. değerini c değişkenine atıyoruz\n",
    "        \n",
    "        j = i + 1 # daha sonra j  değerini i değerinin 1 fazlasını veriyoruz\n",
    "    \n",
    "        compressed = [1,c] # en son birleştirme işlemi yapacağımız için böyle bir liste oluşturuyoruz\n",
    "    \n",
    "        while j < len(string):\n",
    "            if string[j] == c: # burada ise j değerini kontrol ediyoruz yani kısacası ana karakterimizden sonraki karakter aynı mı sorusu var burada?\n",
    "                compressed[0] += 1 #varsa 1 arttırıyoruz\n",
    "            else: \n",
    "                break # yoksa kırıyoruz\n",
    "            j += 1 # burada bir sonraki değere bakmak için j değerini arttırıyoruz\n",
    "        # [2,k]  [3,c]  Böyle ifadeler gelicek bunlarıda alıyor ve final_String ile birleştiriyoruz\n",
    "        final_string += \"\".join(map(str,compressed))\n",
    "        #map fonksiyonu belirli bir değişkene belirli bir fonksiyon uygular tek tek. Örneğin burada compressed ifadesi içindeki her değeri string yaptı\n",
    "        i = j\n",
    "    \n",
    "    # return\n",
    "    return final_string"
   ]
  },
  {
   "cell_type": "code",
   "execution_count": 106,
   "metadata": {},
   "outputs": [
    {
     "data": {
      "text/plain": [
       "'2k1w3c2d2e'"
      ]
     },
     "execution_count": 106,
     "metadata": {},
     "output_type": "execute_result"
    }
   ],
   "source": [
    "frequency(\"kkwcccddee\")"
   ]
  },
  {
   "cell_type": "markdown",
   "metadata": {},
   "source": [
    "<a id=\"9\"></a> <br>\n",
    "### 7) Kayıp Basamak\n",
    "* Örnek\n",
    "    * input = \"10 - x = 4\"\n",
    "    * Output = \"6\"\n",
    "    * input = \"1x * 11 = 121\"\n",
    "    * Output = \"1\"\n",
    "    * input = \"1x0 / 3 = 50\"\n",
    "    * Output = \"5\""
   ]
  },
  {
   "cell_type": "markdown",
   "metadata": {},
   "source": [
    "Aşşağıda eval fonksiyonu kullanıcaz bu fonksiyon ile string ile alınmış python kodları işlemi yaparız. Ayrıca asla kullanmamak gerekli büyük projelerde çünkü şeytani bir fonksiyondur"
   ]
  },
  {
   "cell_type": "code",
   "execution_count": 110,
   "metadata": {},
   "outputs": [],
   "source": [
    "def kayipBas(string):\n",
    "    \n",
    "    # x bul replace et ne ile? 0-9\n",
    "    # bul = \n",
    "    # ='den önceki kısım ve sonraki kısmı karsilastır eval() metodu kullan\n",
    "    # return\n",
    "    \n",
    "    for i in range(10):  # 0,1,2,3,...,9\n",
    "        c = string.replace(\"x\",str(i))\n",
    "        x = string.index(\"=\")\n",
    "        if eval(c[:x]) == eval(c[x+1:]): # eval(\"150 / 3\") == eval(\"50\")\n",
    "            return str(i)"
   ]
  },
  {
   "cell_type": "code",
   "execution_count": 112,
   "metadata": {},
   "outputs": [
    {
     "name": "stdout",
     "output_type": "stream",
     "text": [
      "6\n",
      "1\n",
      "5\n"
     ]
    }
   ],
   "source": [
    "print(kayipBas(\"10 - x = 4\"))\n",
    "print(kayipBas(\"1x * 11 = 121\"))\n",
    "print(kayipBas(\"1x0 / 3 = 50\"))"
   ]
  },
  {
   "cell_type": "markdown",
   "metadata": {},
   "source": [
    "<a id=\"10\"></a> <br>\n",
    "## ZOR"
   ]
  },
  {
   "cell_type": "markdown",
   "metadata": {},
   "source": [
    "<a id=\"11\"></a> <br>\n",
    "### 8) Array Rotasyonu\n",
    "* Array rotasyonu problemi, bir dizi veya array'in (dizi) elemanlarının belirli bir sayıda kaydırılması veya döndürülmesi ile ilgili bir problemdir. Bu işlem genellikle bir diziyi \"sola\" veya \"sağa\" kaydırmak şeklinde gerçekleştirilir.\n",
    "\n",
    "* Problemin Tanımı:\n",
    "Bir dizi (arr) ve bir kaydırma sayısı (k) verildiğinde, diziyi k kadar döndürmeniz istenir. Döndürme işlemi, dizinin elemanlarını belirli bir yönde kaydırmayı içerir.\n",
    "    "
   ]
  },
  {
   "cell_type": "code",
   "execution_count": 33,
   "metadata": {},
   "outputs": [],
   "source": [
    "def rotateArray(array,k):\n",
    "    if len(array)<k:\n",
    "        k%=len(array)\n",
    "        \n",
    "    array[:]=array[k:]+array[:k]\n",
    "    \n",
    "    return array,k\n",
    "    \n",
    "        \n",
    "            \n",
    "    "
   ]
  },
  {
   "cell_type": "code",
   "execution_count": 41,
   "metadata": {},
   "outputs": [
    {
     "name": "stdout",
     "output_type": "stream",
     "text": [
      "([5, 2, 3, 4], 3)\n"
     ]
    }
   ],
   "source": [
    "print(rotateArray([2,3,4,5],11))"
   ]
  },
  {
   "cell_type": "markdown",
   "metadata": {},
   "source": [
    "<a id=\"12\"></a> <br>\n",
    "### 9) Array Çiftleri\n",
    "* Örnek\n",
    "    * input = [5,6,6,5,3,3]\n",
    "    * Output = \"3,3\"\n",
    "    * input = [7,8,8,7,9,1,1,9]\n",
    "    * Output = \"ok\"\n",
    "  "
   ]
  },
  {
   "cell_type": "code",
   "execution_count": 123,
   "metadata": {},
   "outputs": [],
   "source": [
    "def arrayCouple(array):\n",
    "    new_list=[array[i:i+2] for i in range(0,len(array)-2,2)]\n",
    "    str_arr=\"\"\n",
    "    for i in new_list:\n",
    "        str_arr+=\" \".join(map(str,i))\n",
    "        str_arr+=\",\"\n",
    "    str_arr=str_arr.split(\",\")\n",
    "    \n",
    "    results=[]\n",
    "    for i in str_arr:\n",
    "        if str_arr.count(i)<1:\n",
    "            results.append(str_arr)\n",
    "    if results==[]:\n",
    "        return \"ok\"\n",
    "    return results"
   ]
  },
  {
   "cell_type": "code",
   "execution_count": 125,
   "metadata": {},
   "outputs": [
    {
     "name": "stdout",
     "output_type": "stream",
     "text": [
      "ok\n",
      "ok\n"
     ]
    }
   ],
   "source": [
    "print(arrayCouple([5,6,6,5,3,3]))\n",
    "print(arrayCouple([7,8,8,7,9,1,1,9]))"
   ]
  },
  {
   "cell_type": "markdown",
   "metadata": {},
   "source": [
    "<a id=\"1100\"></a> <br>\n",
    "## Neler Öğrendik\n",
    "* KOLAY\n",
    "   * Faktöriyel\n",
    "   * Kelimenin Tersi\n",
    "   * Saat Çevirme\n",
    "   * Baş Harf Büyütme\n",
    "* ORTA\n",
    "   * Kelime Karıştırmak\n",
    "   * Sıklık Bulma\n",
    "   * Kayıp Basamak\n",
    "* ZOR\n",
    "   * Array Rotasyonu\n",
    "   * Array Çiftleri\n",
    "   \n",
    "<br>TAVSİYE: \n",
    "   * Algoritmaları tek tek çalışın \n",
    "   * Başka algoritmalar kendiniz çözmeye çalışın\n",
    "   * https://www.hackerrank.com/"
   ]
  }
 ],
 "metadata": {
  "kernelspec": {
   "display_name": "Python 3 (ipykernel)",
   "language": "python",
   "name": "python3"
  },
  "language_info": {
   "codemirror_mode": {
    "name": "ipython",
    "version": 3
   },
   "file_extension": ".py",
   "mimetype": "text/x-python",
   "name": "python",
   "nbconvert_exporter": "python",
   "pygments_lexer": "ipython3",
   "version": "3.11.9"
  }
 },
 "nbformat": 4,
 "nbformat_minor": 4
}
