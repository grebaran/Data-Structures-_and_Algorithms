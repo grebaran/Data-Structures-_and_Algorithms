{
 "cells": [
  {
   "cell_type": "markdown",
   "metadata": {},
   "source": [
    "## Python İş Mülakat Soru-Cevapları"
   ]
  },
  {
   "cell_type": "markdown",
   "metadata": {},
   "source": [
    "1) Python Nedir?\n",
    "* Python high-level (insan diline yakın), etkileşimli ve nesne tabanlı bir dildir .\n",
    "* Ayrıca python dilinin okunabilirliği çok kolaydır."
   ]
  },
  {
   "cell_type": "markdown",
   "metadata": {},
   "source": [
    "2) Python'ın bazı temel özellikleri nelerdir?\n",
    "* Nesne Tabanlı\n",
    "* Free - open source\n",
    "* Büyük bir topluluğu var\n",
    "* Basit ve anlaşılır"
   ]
  },
  {
   "cell_type": "markdown",
   "metadata": {},
   "source": [
    "3) Deep Copy ve Shallow Copy arasındaki farklar?\n",
    "* Deep copy: orijinal objeyi başka yeni bir objeye kopyalar ama orijinal obje değiştirilirse yeni obje değişmez.\n",
    "\n",
    "* Örneğin a değerini b değerine direkt olarak kopyalarsam bu shallow copy olur ve a değeri değiştiğinde b değeri de değişir.Ama a değerini b değerine deep copy ile kopyalarsa a değeri değişse de b değeri asla değişmez aynı kalır\n",
    "\n",
    "* Bunun böyle olmasının sebebi ise shallow copy de bellek üzerinde işlem yapılır yani değişkenlerin bellek değerleri eşitlenir ve sonuçta biz bir değişkeni değiştirdiğimizde o bellek değerine ait başka değişkenlerde otomatik olarak değişecektir. Deep copy de ise bellekler eşitlenmez yeni bellek oluşturulur ve sadece içerik kopyalanır bu yüzden birbirine bağlı değildir."
   ]
  },
  {
   "cell_type": "code",
   "execution_count": 1,
   "metadata": {},
   "outputs": [
    {
     "name": "stdout",
     "output_type": "stream",
     "text": [
      "Old list: [[1, 1, 1], [100, 2, 2]]\n",
      "New list: [[1, 1, 1], [2, 2, 2]]\n"
     ]
    }
   ],
   "source": [
    "import copy\n",
    "old_list = [[1, 1, 1], [2, 2, 2]]\n",
    "new_list = copy.deepcopy(old_list)\n",
    "old_list[1][0] = 100\n",
    "print(\"Old list:\", old_list)\n",
    "print(\"New list:\", new_list)"
   ]
  },
  {
   "cell_type": "code",
   "execution_count": 2,
   "metadata": {},
   "outputs": [
    {
     "name": "stdout",
     "output_type": "stream",
     "text": [
      "Old list:  [[125, 1, 1], [2, 2, 2]]\n",
      "New list:  [[1, 1, 1], [100, 2, 2]]\n"
     ]
    }
   ],
   "source": [
    "old_list2 = [[1, 1, 1], [2, 2, 2]]\n",
    "new_list2= old_list.copy()\n",
    "old_list2[0][0]=125\n",
    "print(\"Old list: \" , old_list2)\n",
    "print(\"New list: \", new_list2)"
   ]
  },
  {
   "cell_type": "markdown",
   "metadata": {},
   "source": [
    "Yukarıda ki her iki yöntemde kullanışlıdır hangisi işinize geliyorsa onu kullanabilirsiniz"
   ]
  },
  {
   "cell_type": "markdown",
   "metadata": {},
   "source": [
    "* Shallow copy: orijinal objeyi başka yeni bir objeye kopyalar ama orijinal obje değiştirilirse yeni obje de değişir."
   ]
  },
  {
   "cell_type": "code",
   "execution_count": 3,
   "metadata": {},
   "outputs": [
    {
     "name": "stdout",
     "output_type": "stream",
     "text": [
      "Old list: [[1, 1, 1], [2, 100, 2]]\n",
      "New list: [[1, 1, 1], [2, 100, 2]]\n"
     ]
    }
   ],
   "source": [
    "old_list2 = [[1, 1, 1], [2, 2, 2]]\n",
    "new_list2 = copy.copy(old_list2)\n",
    "\n",
    "old_list2[1][1] = 100\n",
    "\n",
    "print(\"Old list:\", old_list2)\n",
    "print(\"New list:\", new_list2)"
   ]
  },
  {
   "cell_type": "code",
   "execution_count": 4,
   "metadata": {},
   "outputs": [
    {
     "name": "stdout",
     "output_type": "stream",
     "text": [
      "Old list: [[1, 1, 1], [2, 100, 2]]\n",
      "New list: [[1, 1, 1], [2, 100, 2]]\n"
     ]
    }
   ],
   "source": [
    "old_list2 = [[1, 1, 1], [2, 2, 2]]\n",
    "new_list2 = old_list2\n",
    "old_list2[1][1] = 100\n",
    "\n",
    "\n",
    "print(\"Old list:\", old_list2)\n",
    "print(\"New list:\", new_list2)"
   ]
  },
  {
   "cell_type": "markdown",
   "metadata": {},
   "source": [
    "istediğiniz yöntemi kullanabilirsiniz\n"
   ]
  },
  {
   "cell_type": "markdown",
   "metadata": {},
   "source": [
    "4) Liste ve Tuple arası fark nedir?\n",
    "* List(liste) değişkendir yani mutable'dır ve içerisini değiştirebiliriz\n",
    "* Tuple değişmez yani unmutable'dır ve içeriğini asla değiştiremeyiz."
   ]
  },
  {
   "cell_type": "code",
   "execution_count": 5,
   "metadata": {},
   "outputs": [
    {
     "name": "stdout",
     "output_type": "stream",
     "text": [
      "[100, 2, 3]\n"
     ]
    }
   ],
   "source": [
    "liste = [1,2,3]\n",
    "liste[0] = 100\n",
    "print(liste)\n",
    "tup = (1,2,3)\n",
    "# tup[0] = 100  # bu satır çalışırsa hata alırız"
   ]
  },
  {
   "cell_type": "markdown",
   "metadata": {},
   "source": [
    "Aşşağıda ki kod da hata yönetimi ile bakalım değiştirilme işlemi olucakmı yoksa çalıaşcakmı?"
   ]
  },
  {
   "cell_type": "code",
   "execution_count": 9,
   "metadata": {},
   "outputs": [
    {
     "name": "stdout",
     "output_type": "stream",
     "text": [
      "Tuple değiştirilemez\n"
     ]
    }
   ],
   "source": [
    "try:\n",
    "    tup = (1,2,3)\n",
    "    tup[0]=100\n",
    "except Exception:\n",
    "    print(\"Tuple değiştirilemez\") # yukarıdaki kod çalışmadığı yani hata verdiği zaman bu satır çalışır ve bize \"Tuple Değiştirilemez\" yazısı verir."
   ]
  },
  {
   "cell_type": "markdown",
   "metadata": {},
   "source": [
    "5) Flask nedir?\n",
    "* Python da kullanılan bir web framework kitidir."
   ]
  },
  {
   "cell_type": "markdown",
   "metadata": {},
   "source": [
    "6) Python da Memory Yönetimi nasıl?\n",
    "* Python, özel bir \"heap space\" (yığın alanı) yönetimine sahiptir. Bu, Python'un bellek yönetimi ve nesne yaşam döngüsü hakkında bizlere doğrudan erişim sağlamadığı anlamına gelir. Yani, Python programcıları olarak bu yığın alanına doğrudan müdahale edemeyiz.\n",
    "\n",
    "* Ancak, Python'un sunduğu bazı çekirdek API'ler (Core API) sayesinde, bu yığın alanıyla ilgili belirli özelliklere ve bilgilere erişim sağlayabiliriz. Bu API'ler, bellek kullanımını izleme, nesne yönetimini daha iyi anlama veya belirli bellek yönetimi detaylarını gözlemleme gibi işlemleri gerçekleştirmemize olanak tanır."
   ]
  },
  {
   "cell_type": "markdown",
   "metadata": {},
   "source": [
    "7) help() ve dir() fonksiyonu arasındaki farklar nelerdir?\n",
    "* help() fonksiyonu dokümanı( üç tırnak ile fonksiyon içine yazdığımız yerdir.) string olarak sergiler\n",
    "* dir() fonksiyonu istenilen objenin tüm özelliklerini metotlarını sergiler"
   ]
  },
  {
   "cell_type": "code",
   "execution_count": 10,
   "metadata": {},
   "outputs": [
    {
     "name": "stdout",
     "output_type": "stream",
     "text": [
      "Help on function copy in module copy:\n",
      "\n",
      "copy(x)\n",
      "    Shallow copy operation on arbitrary Python objects.\n",
      "\n",
      "    See the module's __doc__ string for more info.\n",
      "\n"
     ]
    }
   ],
   "source": [
    "help(copy.copy)"
   ]
  },
  {
   "cell_type": "code",
   "execution_count": 15,
   "metadata": {},
   "outputs": [
    {
     "name": "stdout",
     "output_type": "stream",
     "text": [
      "Help on function baran in module __main__:\n",
      "\n",
      "baran()\n",
      "    Python Mülakat\n",
      "\n"
     ]
    }
   ],
   "source": [
    "# Burada help fonksiyonun aslında nerenin çıktısını verdiğini gösterdik\n",
    "def baran():\n",
    "    \"\"\"\n",
    "    Python Mülakat\n",
    "    \n",
    "    \"\"\"\n",
    "\n",
    "help(baran)"
   ]
  },
  {
   "cell_type": "code",
   "execution_count": 5,
   "metadata": {},
   "outputs": [
    {
     "data": {
      "text/plain": [
       "['__annotations__',\n",
       " '__call__',\n",
       " '__class__',\n",
       " '__closure__',\n",
       " '__code__',\n",
       " '__defaults__',\n",
       " '__delattr__',\n",
       " '__dict__',\n",
       " '__dir__',\n",
       " '__doc__',\n",
       " '__eq__',\n",
       " '__format__',\n",
       " '__ge__',\n",
       " '__get__',\n",
       " '__getattribute__',\n",
       " '__globals__',\n",
       " '__gt__',\n",
       " '__hash__',\n",
       " '__init__',\n",
       " '__init_subclass__',\n",
       " '__kwdefaults__',\n",
       " '__le__',\n",
       " '__lt__',\n",
       " '__module__',\n",
       " '__name__',\n",
       " '__ne__',\n",
       " '__new__',\n",
       " '__qualname__',\n",
       " '__reduce__',\n",
       " '__reduce_ex__',\n",
       " '__repr__',\n",
       " '__setattr__',\n",
       " '__sizeof__',\n",
       " '__str__',\n",
       " '__subclasshook__']"
      ]
     },
     "execution_count": 5,
     "metadata": {},
     "output_type": "execute_result"
    }
   ],
   "source": [
    "dir(copy.copy)"
   ]
  },
  {
   "cell_type": "markdown",
   "metadata": {},
   "source": [
    "7) Monkey Patching Nedir?\n",
    "* Monkey Patching, çalışmakta olan bir programın kodunu, özellikle runtime (çalışma zamanı) sırasında dinamik olarak değiştirme tekniğidir. Bu yöntem, mevcut bir sınıfı veya modülü, programın çalışma süresi boyunca modifiye etmek için kullanılır.\n",
    "\n",
    "* Genellikle hata ayıklama (bug fixing) veya geçici çözümler uygulamak için başvurulan bir tekniktir. Örneğin, bir kütüphanedeki bir hatayı düzeltmek ya da yeni bir özellik eklemek istediğinizde, kodunuzu durdurmadan veya yeniden başlatmadan bu değişiklikleri yapmanıza olanak tanır."
   ]
  },
  {
   "cell_type": "code",
   "execution_count": 18,
   "metadata": {},
   "outputs": [
    {
     "name": "stdout",
     "output_type": "stream",
     "text": [
      "Patched method\n"
     ]
    }
   ],
   "source": [
    "# Orijinal sınıf\n",
    "class MyClass:\n",
    "    def method(self):\n",
    "        return \"Original method\"\n",
    "\n",
    "# Monkey patching\n",
    "def patched_method(self):\n",
    "    return \"Patched method\"\n",
    "\n",
    "# MyClass'ın methodunu değiştiriyoruz\n",
    "MyClass.method = patched_method\n",
    "\n",
    "# Değişikliklerin etkili olduğu yeni nesneyi çağırıyoruz\n",
    "obj = MyClass()\n",
    "print(obj.method())  # Çıktı: Patched method oluyor\n"
   ]
  },
  {
   "cell_type": "markdown",
   "metadata": {},
   "source": [
    "8) Dictionary Nedir?\n",
    "* İçerisinde key-value çiftini barındıran kullanışlı yapılardır.\n",
    "* Mesela Turkey : 90 (key:value anahtar ve değer çifti eşleşmesi yapılır)"
   ]
  },
  {
   "cell_type": "code",
   "execution_count": 19,
   "metadata": {},
   "outputs": [
    {
     "name": "stdout",
     "output_type": "stream",
     "text": [
      "{'Ankara': 1000, 'istanbul': 2000}\n"
     ]
    }
   ],
   "source": [
    "dictionary = {\"Ankara\":1000,\"istanbul\":2000}\n",
    "print(dictionary)"
   ]
  },
  {
   "cell_type": "markdown",
   "metadata": {},
   "source": [
    "9) args ve kwargs kavramları nelerdir?\n",
    "* Bazı durumlarda fonksiyonların kaç tane input parametresi alacağını bilemeyiz. Bu durumda bir tupla belirten *args değerini kullanırız\n",
    "* Eğer birden fazla şekilde ama key value çifti olarak vermez istersek ise **kwargs kullanırız"
   ]
  },
  {
   "cell_type": "code",
   "execution_count": 31,
   "metadata": {},
   "outputs": [
    {
     "name": "stdout",
     "output_type": "stream",
     "text": [
      "10\n",
      "11\n",
      "12\n",
      "Tüm tuple:  (10, 11, 12)\n"
     ]
    }
   ],
   "source": [
    "def deneme(*args):\n",
    "    for each in args:\n",
    "        print(each)\n",
    "    print(\"Tüm tuple: \" , args)\n",
    "        \n",
    "deneme(10,11,12)\n",
    "#deneme([1,2,3]) # Bu şekilde de hata almazsın ama bütün bir liste olarak tek bir işlem yaparsın o yüzden mantıksal bir hata alırız"
   ]
  },
  {
   "cell_type": "code",
   "execution_count": 28,
   "metadata": {},
   "outputs": [
    {
     "name": "stdout",
     "output_type": "stream",
     "text": [
      "a 1\n",
      "b 2\n",
      "c 3\n",
      "Sözlük:  {'a': 1, 'b': 2, 'c': 3}\n"
     ]
    }
   ],
   "source": [
    "def deneme2(**kwargs):\n",
    "    for each in kwargs:\n",
    "        print(each,kwargs[each])\n",
    "    print(\"Sözlük: \",kwargs)\n",
    "deneme2(a=1,b=2,c=3)\n",
    "# deneme2({\"a\":1,\"b\":2}) Bu şekilde hata alırsın sonuçta direkt sözlük olarak veremezsin"
   ]
  },
  {
   "cell_type": "markdown",
   "metadata": {},
   "source": [
    "10) Negative indexler nedir?\n",
    "* Normalde index sıfırdan saymaya başlar negative index tersten saymaya başlar."
   ]
  },
  {
   "cell_type": "code",
   "execution_count": 32,
   "metadata": {},
   "outputs": [
    {
     "name": "stdout",
     "output_type": "stream",
     "text": [
      "positive index:  1\n",
      "negative index:  5\n"
     ]
    }
   ],
   "source": [
    "liste = [1,2,3,4,5]\n",
    "print(\"positive index: \",liste[0])\n",
    "print(\"negative index: \",liste[-1])"
   ]
  },
  {
   "cell_type": "markdown",
   "metadata": {},
   "source": [
    "11) Listeyi nasıl random yaparsın?"
   ]
  },
  {
   "cell_type": "code",
   "execution_count": 35,
   "metadata": {},
   "outputs": [
    {
     "name": "stdout",
     "output_type": "stream",
     "text": [
      "shuffled:  [6, 3, 4, 7, 0, 2, 8, 5, 1]\n",
      "sorted:  [0, 1, 2, 3, 4, 5, 6, 7, 8]\n"
     ]
    }
   ],
   "source": [
    "mylist=[0,1,2,3,4,5,6,7,8]\n",
    "from random import shuffle\n",
    "shuffle(mylist) # listeyi random olarak karıştır (her kod çalıştırmada karışır sabit kalmaz yani)\n",
    "print(\"shuffled: \", mylist)\n",
    "mylist.sort() #listeyi küçükten büyüğe doğru sırala\n",
    "print(\"sorted: \",mylist)"
   ]
  },
  {
   "cell_type": "markdown",
   "metadata": {},
   "source": [
    "12) join() ve split() fonksiyonları ne işe yarar?"
   ]
  },
  {
   "cell_type": "code",
   "execution_count": 41,
   "metadata": {},
   "outputs": [
    {
     "name": "stdout",
     "output_type": "stream",
     "text": [
      "d.e.n.e.m.e\n",
      "Baran, 20\n",
      "['d', 'e', 'n', 'e', 'm', 'e']\n",
      "deneme\n"
     ]
    }
   ],
   "source": [
    "yeni = \".\".join(\"deneme\")# belirli bir değeri tırnak işaretleri ile verilen değer üzerinde tek tek birleştirir.\n",
    "print(yeni)\n",
    "\n",
    "yeni2=\",\".join([\"Baran\",\" 20\"])# bir liste belirttik ve , ile birleştirdik değerleri\n",
    "print(yeni2)\n",
    "\n",
    "first = yeni.split(\".\") # burada deneme değerini . olan her yerden bölüyoruz ve bir liste ile çıktı veriyoruz\n",
    "print(first)\n",
    "j = \"\".join(first) #burada liste olan deneme yazısını alıyor ve hiçbir şey ile birleştiriyoruz yani araya kısacası hiçbir şey girmiyor\n",
    "print(j)"
   ]
  },
  {
   "cell_type": "markdown",
   "metadata": {},
   "source": [
    "13) Python da büyük küçük harf önemli mi?\n",
    "* Evet önemli"
   ]
  },
  {
   "cell_type": "code",
   "execution_count": 42,
   "metadata": {},
   "outputs": [],
   "source": [
    "deneme = \"datai\"\n",
    "#Deneme"
   ]
  },
  {
   "cell_type": "markdown",
   "metadata": {},
   "source": [
    "14) Keywords Identifier olarak kullanılır mı?\n",
    "* Keywords anahtar kelime demektir. Bu dictionary yani sözlükteki key değil. Pythona özgü kelimeler demektir ve asla değişken oluşturuken kullanmayın çünkü bu sefer anahtar kelime görevini doğru yapmaz. Mesala if, else, list, gibi değerlerdir. Bunun uzun bir listesi vardır. Buradan bakabilirsiniz.   [python anahtar kelimeler](!https://www.w3schools.com/python/python_ref_keywords.asp)\n",
    "\n",
    "* Mesala float bir keyword'dür ve identifier(değişken ismi) olarak kullanılmaz."
   ]
  },
  {
   "cell_type": "code",
   "execution_count": 44,
   "metadata": {},
   "outputs": [],
   "source": [
    "#float = 15 # boyle kullanilmaz kullanılırsa daha float değeri kullanılamaz"
   ]
  },
  {
   "cell_type": "markdown",
   "metadata": {},
   "source": [
    "15) Leading ve Trailing whitespace ne demek?\n",
    "* Bir string olsun \"   datai   \"\n",
    "* Bu stringin başında ve sonunda boşluklar var.\n",
    "* Başında olan boşluk leading whitespace\n",
    "* Sonunda olan boşluk trailing whitespace\n",
    "* Bunları aşağıdaki gibi yok edebiliriz."
   ]
  },
  {
   "cell_type": "code",
   "execution_count": 45,
   "metadata": {},
   "outputs": [
    {
     "name": "stdout",
     "output_type": "stream",
     "text": [
      "datai   \n",
      "   datai\n",
      "datai\n"
     ]
    }
   ],
   "source": [
    "string = '   datai   '\n",
    "print(string.lstrip()) # ondeki boslugu yok et\n",
    "print(string.rstrip()) # arkadaki boslugu yok et\n",
    "print(string.strip())  # ondeki ve arkadaki boslukları yok et"
   ]
  },
  {
   "cell_type": "markdown",
   "metadata": {},
   "source": [
    "16) Bir string'i küçük ve büyük harfe nasıl çevirirsin?"
   ]
  },
  {
   "cell_type": "code",
   "execution_count": 46,
   "metadata": {},
   "outputs": [
    {
     "name": "stdout",
     "output_type": "stream",
     "text": [
      "datai\n",
      "DATAI\n"
     ]
    }
   ],
   "source": [
    "string = \"DATai\"\n",
    "print(string.lower())\n",
    "print(string.upper())"
   ]
  },
  {
   "cell_type": "markdown",
   "metadata": {},
   "source": [
    "17) Python da Pass, Break ve Continue nasıl kullanılır?\n",
    "* Bir fonksiyon tanımladık ama içine ne yazacağımızı henüz bilemedik bizde pass yazarız. Eğer hiçbir şey yazmassak hata alırız pass burada ise yer tutucu görevi görür"
   ]
  },
  {
   "cell_type": "code",
   "execution_count": 47,
   "metadata": {},
   "outputs": [],
   "source": [
    "# pass\n",
    "def datai():\n",
    "    pass"
   ]
  },
  {
   "cell_type": "code",
   "execution_count": 48,
   "metadata": {},
   "outputs": [
    {
     "name": "stdout",
     "output_type": "stream",
     "text": [
      "0\n",
      "1\n",
      "2\n",
      "buldum neyi:  2\n"
     ]
    }
   ],
   "source": [
    "# break sayesinde döngü kırılır\n",
    "for each in range(5):\n",
    "    print(each)\n",
    "    if each == 2:\n",
    "        print(\"buldum neyi: \",each)\n",
    "        break"
   ]
  },
  {
   "cell_type": "code",
   "execution_count": 53,
   "metadata": {},
   "outputs": [
    {
     "name": "stdout",
     "output_type": "stream",
     "text": [
      "0\n",
      "1\n",
      "3\n",
      "4\n"
     ]
    }
   ],
   "source": [
    "# continue sayesinde en başa dönülür\n",
    "for each in range(5):\n",
    "    \n",
    "    if each == 2:\n",
    "        continue # buraya geldiğinde for döngüsüne tekrar geri döner ve alltaki kod çalışmaz direkt başa döner mesala burada 2 değerini atladı\n",
    "    print(each)\n"
   ]
  },
  {
   "cell_type": "markdown",
   "metadata": {},
   "source": [
    "18) //, %, and ** işaretleri nelerdir?\n",
    "* // işareti operator olarak geçer ve bölme işleminin integer kısmını döndürür\n",
    "* ** power yani üssü anlamına gelir \n",
    "* % bölüm sonucu kalanı verir"
   ]
  },
  {
   "cell_type": "code",
   "execution_count": 54,
   "metadata": {},
   "outputs": [
    {
     "name": "stdout",
     "output_type": "stream",
     "text": [
      "3.3333333333333335\n",
      "3\n"
     ]
    }
   ],
   "source": [
    "# //\n",
    "print(10/3)\n",
    "print(10//3)"
   ]
  },
  {
   "cell_type": "code",
   "execution_count": 55,
   "metadata": {},
   "outputs": [
    {
     "name": "stdout",
     "output_type": "stream",
     "text": [
      "81\n",
      "81\n"
     ]
    }
   ],
   "source": [
    "# ** \n",
    "print(9*9)\n",
    "\n",
    "print(9**2)"
   ]
  },
  {
   "cell_type": "code",
   "execution_count": 56,
   "metadata": {},
   "outputs": [
    {
     "name": "stdout",
     "output_type": "stream",
     "text": [
      "3.3333333333333335\n",
      "1\n"
     ]
    }
   ],
   "source": [
    "# %\n",
    "print(10/3)\n",
    "print(10%3)"
   ]
  },
  {
   "cell_type": "markdown",
   "metadata": {},
   "source": [
    "19) Membership operator ne demektir?\n",
    "\n",
    "* Bir string içerisinde varmı diye kotnrol edilir in ile"
   ]
  },
  {
   "cell_type": "code",
   "execution_count": 57,
   "metadata": {},
   "outputs": [
    {
     "data": {
      "text/plain": [
       "True"
      ]
     },
     "execution_count": 57,
     "metadata": {},
     "output_type": "execute_result"
    }
   ],
   "source": [
    "\"ai\" in \"datai\""
   ]
  },
  {
   "cell_type": "code",
   "execution_count": 59,
   "metadata": {},
   "outputs": [
    {
     "data": {
      "text/plain": [
       "True"
      ]
     },
     "execution_count": 59,
     "metadata": {},
     "output_type": "execute_result"
    }
   ],
   "source": [
    "\"ai\" not in \"istanbul\"\n",
    "# aslında sonuç false dönmesi lazım ama biz burada not dediğimizde tersini alıyor ve True değeri dönüyor"
   ]
  },
  {
   "cell_type": "code",
   "execution_count": null,
   "metadata": {},
   "outputs": [],
   "source": []
  }
 ],
 "metadata": {
  "kernelspec": {
   "display_name": "Python 3",
   "language": "python",
   "name": "python3"
  },
  "language_info": {
   "codemirror_mode": {
    "name": "ipython",
    "version": 3
   },
   "file_extension": ".py",
   "mimetype": "text/x-python",
   "name": "python",
   "nbconvert_exporter": "python",
   "pygments_lexer": "ipython3",
   "version": "3.12.0"
  }
 },
 "nbformat": 4,
 "nbformat_minor": 2
}
