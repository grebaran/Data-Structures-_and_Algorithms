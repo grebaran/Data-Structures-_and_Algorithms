{
 "cells": [
  {
   "cell_type": "markdown",
   "metadata": {},
   "source": [
    "## İçerik:\n",
    "* [Algoritma](#1)\n",
    "* [Algoritma ve Code Complexity](#2)\n",
    "* [Big-O (Büyük-O) Notation](#3)\n",
    "* [Big O | Omega | Theta](#4)\n",
    "* [Big-O Örnekleri](#5)\n",
    "    * [O(1) Constant](#6)\n",
    "    * [O(n) Linear](#7)\n",
    "    * [O(n^3) Cubic](#8)\n",
    "    * [Calculating Scale of Big-O](#9)\n",
    "* [QUIZ](#10)\n",
    "* [QUIZ Cevap](#11)\n",
    "* [İş Görüşmesi Soruları](#12)\n",
    "* [Neler Öğrendik](#13)"
   ]
  },
  {
   "cell_type": "markdown",
   "metadata": {},
   "source": [
    "<a id=\"1\"></a>\n",
    "\n",
    "\n",
    "## Algoritma (Algorithms)\n",
    "* Algoritma belirlenen bir problemi çözmek için gidilecek yol demektir\n",
    "* Örneğin elimde bir kalem var ve bu kalemlerin x tanesini satarsam kaç tl kazanırım. Bunu çözmek için ise aşşağıdaki yol adımlarını oluştururuz:\n",
    "     1) Önce kalem fiyatını belirle\n",
    "     2) Kullanıcıdan kalem sayısını iste\n",
    "     3) Kaç tane kalem alındıysa bunu kalem fiyatı ile çarp\n",
    "     4) Çıktı olarak ver\n",
    " \n",
    "  \n",
    "Ne kadar basit dimi?"
   ]
  },
  {
   "cell_type": "code",
   "execution_count": 10,
   "metadata": {},
   "outputs": [],
   "source": [
    "def pricing(kalem,fiyat):\n",
    "    sonuc = kalem*fiyat\n",
    "    return sonuc"
   ]
  },
  {
   "cell_type": "code",
   "execution_count": 12,
   "metadata": {},
   "outputs": [
    {
     "data": {
      "text/plain": [
       "20"
      ]
     },
     "execution_count": 12,
     "metadata": {},
     "output_type": "execute_result"
    }
   ],
   "source": [
    "pricing(4,5)"
   ]
  },
  {
   "cell_type": "markdown",
   "metadata": {},
   "source": [
    "<a id=\"2\"></a> <br>\n",
    "## Algoritma ve Code Complexity\n",
    "\n",
    "* Örneğin bir liste içerisindeki sayıları küçükten büyüğe sıralamak istiyoruz. Bu, oldukça tanıdık bir problem ve bu probleme yönelik çeşitli algoritmalar mevcut. İki popüler sıralama algoritması var: Bubble Sort ve Selection Sort. Şimdi, hangisinin daha iyi olduğuna karar vermek istiyoruz.\n",
    "\n",
    "* Öncelikle, her iki algoritmanın da nasıl çalıştığını kısaca gözden geçirelim:\n",
    "    1) Bubble Sort: Bu algoritma, listenin her iki bitişiğindeki öğeleri karşılaştırır ve gerekirse takas yapar. Bu işlemi, listenin tamamı sıralanana kadar tekrarlar.\n",
    "    2) Selection Sort: Bu algoritma, listenin her adımında en küçük (veya en büyük) öğeyi bulur ve bunu sıralı bölümün sonuna yerleştirir. Bu işlemi listenin tüm öğeleri sıralanana kadar tekrarlar.\n",
    "\n",
    "* Şimdi, gerçek bir örnek üzerinden düşünelim. Elimizde bir formül var: Verilen bir n sayısı için, 1’den n’e kadar olan sayıların karelerinin toplamını hesaplıyor. Mesela, n = 3 olduğunda, bu formül bize 1^2 + 2^2 + 3^2 = 14 sonucunu veriyor.\n",
    "\n",
    "* Bu formülü kullanarak performanslarını karşılaştırmak isteyebilirsiniz. Bubble Sort ve Selection Sort’un her biri farklı durumlar için farklı performanslar gösterebilir. Bu yüzden, her iki algoritmanın da nasıl çalıştığını anlamak ve hangi durumlarda daha iyi performans gösterdiğini görmek önemli.\n",
    "\n",
    "* Bu sayede, hangisinin sizin özel durumunuz için daha uygun olduğuna karar verebilirsiniz. Genel olarak, algoritmanın performansı ve verimliliği, listenizin boyutuna ve içeriğine bağlı olarak değişebilir. Bu nedenle, hem Bubble Sort hem de Selection Sort hakkında biraz daha bilgi sahibi olmak, doğru seçim yapmanıza yardımcı olabilir."
   ]
  },
  {
   "cell_type": "markdown",
   "metadata": {},
   "source": [
    "![title](big_o_algoritma_karşılaştırma.jpg)\n"
   ]
  },
  {
   "cell_type": "code",
   "execution_count": 21,
   "metadata": {},
   "outputs": [],
   "source": [
    "def square_sum1(n):\n",
    "    '''\n",
    "    1 dan başlayan bir değer alır ve n'e kadar gider\n",
    "\n",
    "    Örneğin mesala n:5 olsun\n",
    "    sonuç şu olacaktır: \n",
    "    total= 1^2 + 2^2 + 3^2 + 4^2 + 5^2\n",
    "    '''\n",
    "    total = 0\n",
    "    for x in range(1,n+1): \n",
    "        total += x**2 # x değerinin karesini alıyor ve total değişkenimiz üzerinde bu değerleri topluyoruz \n",
    "    \n",
    "    return total"
   ]
  },
  {
   "cell_type": "code",
   "execution_count": 29,
   "metadata": {},
   "outputs": [
    {
     "data": {
      "text/plain": [
       "55"
      ]
     },
     "execution_count": 29,
     "metadata": {},
     "output_type": "execute_result"
    }
   ],
   "source": [
    "square_sum1(5) # göründüğü üzere bir 1 den başlayarak 3'e kadar olan sayıların (3 de dahil) karesinin toplamının 14 olduğunu bulduk"
   ]
  },
  {
   "cell_type": "markdown",
   "metadata": {},
   "source": [
    "![title](big_o_algoritma_karşılaştırma.jpg)"
   ]
  },
  {
   "cell_type": "code",
   "execution_count": 37,
   "metadata": {},
   "outputs": [],
   "source": [
    "def square_sum2(n):\n",
    "    \"\"\"\n",
    "    Bu ise daha kısa bir gösterim. Evet ilk başta kafa karıştırıcı olabilir. Ama biraz üzerinde durunca hemen anlaşılıyor\n",
    "    Adımlar şu şekilde\n",
    "    1) Önce n+1 oluştur \n",
    "    2) Sonra n değerini 2 ile çarp ve 1 ekle daha sonra da önceden oluşturduğun n+1 değeri ile çarp\n",
    "    3) Daha sonra ise bunları n değeri ile çarp\n",
    "    4) En son olarak da hepsini 6 ile böl\n",
    "\n",
    "    Evet aslında bu ifade yukarıdaki ifadenin progrlamdaki matematiksel karşılığıdır. yani eğer kafanız karıştıysa yukarıdaki ifade sizin için daha açık ve temiz olacaktır\n",
    "    \"\"\"\n",
    "    return (n*(n+1)*(2*n+1))/6"
   ]
  },
  {
   "cell_type": "code",
   "execution_count": 39,
   "metadata": {},
   "outputs": [
    {
     "data": {
      "text/plain": [
       "55.0"
      ]
     },
     "execution_count": 39,
     "metadata": {},
     "output_type": "execute_result"
    }
   ],
   "source": [
    "square_sum2(5)"
   ]
  },
  {
   "cell_type": "markdown",
   "metadata": {},
   "source": [
    "* Peki hangi algoritmanın daha iyi olduğunu nasıl anlayacağız?\n",
    "* Tabiki en basit mantık ile kodun ne kadar sürede çalıştığını ölçerek dimi?\n",
    "* NOT: Aslında kodun hızlı çalıştığı algoritmanın iyi olduğunu anlamına gelmez. Bunu biraz sonra deyineceğiz"
   ]
  },
  {
   "cell_type": "code",
   "execution_count": 42,
   "metadata": {},
   "outputs": [
    {
     "name": "stdout",
     "output_type": "stream",
     "text": [
      "429 ns ± 10 ns per loop (mean ± std. dev. of 7 runs, 1,000,000 loops each)\n"
     ]
    }
   ],
   "source": [
    "%timeit square_sum1(3)"
   ]
  },
  {
   "cell_type": "code",
   "execution_count": 44,
   "metadata": {},
   "outputs": [
    {
     "name": "stdout",
     "output_type": "stream",
     "text": [
      "137 ns ± 4.86 ns per loop (mean ± std. dev. of 7 runs, 10,000,000 loops each)\n"
     ]
    }
   ],
   "source": [
    "%timeit square_sum2(3)"
   ]
  },
  {
   "cell_type": "markdown",
   "metadata": {},
   "source": [
    "* İkinci algoritma daha iyi sonuç verdi çünkü daha hızlı çalıştı. Ama unutmayın running time(çalışma zamanı) değerini algoritma seçerken kullanmak çok iyi bir sonuç getirmez\n",
    "* Bu notebook da runtime değeri farklı çıktı. Hatta kendi bilgisayarınız da daha da farklı çıkacaktır. Çünkü hepimizin donanımı farklı ve o an bilgisayarın neler ile çalıştığıda running time değerini etkileyen faktörler arasındadır.\n",
    "* Yani kısacası bu iki algoritmayı running time değerine göre karşılaştırmak doğru değildir. Çünkü her bilgisayarın running time değeri farklı. Hatta bir kere daha çalıştırsak running time kendi bilgisayarımızda bile fark edecektir.\n",
    "* İşte tam da böyle bir sorundan dolayı BIG-O notasyonu yardımımıza koşuyor. Hadi onu inceleyelim!"
   ]
  },
  {
   "cell_type": "markdown",
   "metadata": {},
   "source": [
    "<a id=\"3\"></a>\n",
    "## Big-O (Büyük-O) Notation"
   ]
  },
  {
   "cell_type": "markdown",
   "metadata": {},
   "source": [
    "* İki algoritmayı karşılaştırırken sadece çalışma süresini göz önünde bulundurmak yeterli olmayabilir. Bunun yerine, algoritmaların büyüklükleriyle nasıl başa çıktığını anlamak için Big-O notasyonunu kullanıyoruz.\n",
    "\n",
    "* Big-O (Büyük-O) notasyonu, bir algoritmanın performansını belirli bir giriş büyüklüğü (n) ile nasıl değiştiğini gösterir. Yani, bu notasyon, algoritmanın çalışma süresinin veya hafıza kullanımının, giriş verisinin boyutu büyüdükçe nasıl arttığını ifade eder. Bu tür analiz, genellikle \"asymptotic analysis\" (asemptotik analiz) olarak adlandırılır.\n",
    "\n",
    "* Örneğin, bir algoritmanın çalışma süresi giriş büyüklüğü n ile ilişkili olarak O(n), O(n^2) veya O(log n) gibi farklı biçimlerde ifade edilebilir. Bu ifadeler, algoritmanın performansının, verinin büyüklüğü ile nasıl değiştiğini anlamamıza yardımcı olur.\n",
    "\n",
    "* Özetle, Big-O notasyonu ve asimptotik analiz, algoritmaların gerçek dünya performanslarını karşılaştırırken bize önemli bilgiler sunar. Bu sayede, büyük veri setleriyle çalışırken hangi algoritmanın daha verimli olduğunu belirlemek daha kolay olur.\n",
    "\n",
    "* Şimdi aklınızdan big-o notation otoamtik yapan bir kod yokmu diye. Maalesef yok. Ama bunu timeit gibi araçlar ile öğrenebiliriz. Olmamasının sebebi ise bunun analiz gerektirmesidir. Yani big-o yapar ike belirli şartlar yoktur ve bizim ufak dokunuşlarımız gereklidir. Mesala bir kod da 2 tane döngü var bu demektir ki Big-O(2^n) işte bunun gibi bizim belirlememiz gerekir\n",
    "\n",
    "  \n",
    "![title](big_o.jpg)"
   ]
  },
  {
   "cell_type": "markdown",
   "metadata": {},
   "source": [
    "![title](plot_big_o.png)"
   ]
  },
  {
   "cell_type": "markdown",
   "metadata": {},
   "source": [
    "<a id=\"4\"></a> <br>\n",
    "## Big O | Omega | Theta"
   ]
  },
  {
   "cell_type": "markdown",
   "metadata": {},
   "source": [
    "* Big-O Notasyonu: Kodun en kötü durumda nasıl performans gösterdiğini test etmek için kullanılır. Bu, algoritmanın en uzun süre çalışabileceği durumu temsil eder. Yani, giriş verisi büyüdükçe algoritmanın çalışma süresinin nasıl artacağını gösterir.\n",
    "\n",
    "* Omega Notasyonu: Kodun en iyi durumda nasıl performans gösterdiğini test eder. Bu, algoritmanın en kısa sürede tamamlanabileceği durumu temsil eder. Giriş verisi küçük olduğunda veya belirli koşullar sağlandığında algoritmanın nasıl bir performans sergilediğini gösterir.\n",
    "\n",
    "* Theta Notasyonu: Algoritmanın ortalama veya ortalama durum performansını ifade eder. Bu, algoritmanın genel olarak hangi hızda çalışacağını belirtir ve hem en iyi hem de en kötü durumları kapsayan bir analiz sağlar.\n",
    "\n",
    "* Örneğin Elimizde şu liste var: [2, 3, 4]. Amacımız bu liste içinde 2 sayısını bulmak. Liste üzerinde arama yaparken, birinci indeksten sonuncu indekse kadar sırasıyla kontrol yapıyoruz. Hadi bakalım notasyonlar neler oluyor\n",
    "\n",
    "    1) Big-O Notasyonu: En kötü durumda, yani 2 sayısını en son pozisyonda bulduğumuz durumda, arama işleminin performansı O(n) olacaktır. Bu, listedeki eleman sayısına bağlı olarak çalışma süresinin nasıl arttığını gösterir.\n",
    "\n",
    "    2) Omega Notasyonu: En iyi durumda, yani 2 sayısını listenin ilk elemanında bulduğumuz durumda, arama işleminin performansı Ω(1) olacaktır. Bu, algoritmanın en hızlı şekilde çalıştığı durumu temsil eder.\n",
    "\n",
    "    3) Theta Notasyonu: Ortalama durumda, yani 2 sayısının ortalama bir pozisyonda bulunduğu senaryoda, arama işleminin performansı Θ(n) olarak değerlendirilir. Bu, hem en iyi hem de en kötü durumların genel bir değerlendirmesidir.\n",
    "![title](big_o_omega_theta.jpg)"
   ]
  },
  {
   "cell_type": "markdown",
   "metadata": {},
   "source": [
    "<a id=\"5\"></a> <br>\n",
    "## Big-O Örnekleri"
   ]
  },
  {
   "cell_type": "markdown",
   "metadata": {},
   "source": [
    "<a id=\"6\"></a> <br>\n",
    "### O(1) Constant (Sabit)\n",
    "* Constant(sabit) çünkü input size burada ne olursa olsun önemli değil.\n",
    "* Yani input_size(giriş değeri) 1 milyar da olsa 1 milyonda olsa 1 de olsa sonuç hep aynıdır"
   ]
  },
  {
   "cell_type": "code",
   "execution_count": 61,
   "metadata": {},
   "outputs": [],
   "source": [
    "import numpy as np"
   ]
  },
  {
   "cell_type": "code",
   "execution_count": 69,
   "metadata": {},
   "outputs": [],
   "source": [
    "def constant_big_O(liste):\n",
    "    print(liste[-1])"
   ]
  },
  {
   "cell_type": "code",
   "execution_count": 73,
   "metadata": {},
   "outputs": [
    {
     "name": "stdout",
     "output_type": "stream",
     "text": [
      "4\n"
     ]
    }
   ],
   "source": [
    "constant_big_O(np.arange(1,5,1)) # [1,2,3,4]"
   ]
  },
  {
   "cell_type": "markdown",
   "metadata": {},
   "source": [
    "<a id=\"7\"></a> <br>\n",
    "### O(n) Linear\n",
    "* Bu lineer zamanda çalışır, yani algoritmanın içindeki operasyon sayısı, giriş boyutu (n) ile doğru orantılıdır. Başka bir deyişle, algoritmanın çalışma süresi giriş boyutunun büyüklüğü ile aynı oranda artar.\n",
    "\n",
    "* Örneğin, eğer giriş boyutu 5 olsaydı, fonksiyon 5 kez print fonksiyonunu çağırırdı. Bu, operasyon sayısının giriş boyutuyla doğru orantılı olduğunu gösterir.\n",
    "\n",
    "* Benzer şekilde, eğer giriş boyutu 2 olsaydı, print fonksiyonu sadece 2 kez çağrılırdı. Bu durumda da, operasyon sayısı giriş boyutuyla doğru orantılı olarak artar.\n",
    "\n"
   ]
  },
  {
   "cell_type": "code",
   "execution_count": 77,
   "metadata": {},
   "outputs": [],
   "source": [
    "def linear_big_O(liste):\n",
    "    for deger in liste:\n",
    "        print(deger)\n",
    "        "
   ]
  },
  {
   "cell_type": "code",
   "execution_count": 79,
   "metadata": {},
   "outputs": [
    {
     "name": "stdout",
     "output_type": "stream",
     "text": [
      "1\n",
      "3\n"
     ]
    }
   ],
   "source": [
    "linear_big_O([1,3])"
   ]
  },
  {
   "cell_type": "markdown",
   "metadata": {},
   "source": [
    "<a id=\"8\"></a> <br>\n",
    "### O(n^3) Cubic\n",
    "* Nested loop'lardan (iç içe girmiş döngüler) oluşan 3 tane for döngüsü kullacağız. Ve bakacağız sonuca\n",
    "* Yani n^3 işlem yapacağız.\n",
    "* Mesela input size = 3 için, 27 tane işlem yapacağız."
   ]
  },
  {
   "cell_type": "code",
   "execution_count": 82,
   "metadata": {},
   "outputs": [],
   "source": [
    "def cubic_big_O(liste):\n",
    "\n",
    "    for item_1 in liste:\n",
    "        for item_2 in liste:\n",
    "            for item_3 in liste:\n",
    "                print(item_1,item_2,item_3)\n",
    "            "
   ]
  },
  {
   "cell_type": "code",
   "execution_count": 84,
   "metadata": {},
   "outputs": [
    {
     "name": "stdout",
     "output_type": "stream",
     "text": [
      "1 1 1\n",
      "1 1 2\n",
      "1 1 3\n",
      "1 2 1\n",
      "1 2 2\n",
      "1 2 3\n",
      "1 3 1\n",
      "1 3 2\n",
      "1 3 3\n",
      "2 1 1\n",
      "2 1 2\n",
      "2 1 3\n",
      "2 2 1\n",
      "2 2 2\n",
      "2 2 3\n",
      "2 3 1\n",
      "2 3 2\n",
      "2 3 3\n",
      "3 1 1\n",
      "3 1 2\n",
      "3 1 3\n",
      "3 2 1\n",
      "3 2 2\n",
      "3 2 3\n",
      "3 3 1\n",
      "3 3 2\n",
      "3 3 3\n"
     ]
    }
   ],
   "source": [
    "cubic_big_O([1,2,3])"
   ]
  },
  {
   "cell_type": "markdown",
   "metadata": {},
   "source": [
    "<a id=\"9\"></a> <br>\n",
    "## Calculating Scale of Big-O (Big-O Notasyonu Hesapalayalım)\n",
    "* Insignificant constant (önemsiz Sabit sayı)\n",
    "* Linear big-O input size ile doğru orantılı\n",
    "* İlk örneğimizde big-O = O(n) oldu\n",
    "* İkinci örneğimizde big-O = O(2n) oldu\n",
    "* 2 burada insignificant constant(sabit değer - hani 2n de ki 2 değeri) olarak geçer ve bu sabit sayıyı ihmal edebiliriz.\n",
    "* Yani her iki durum içinde big-O = O(n) oluyor"
   ]
  },
  {
   "cell_type": "code",
   "execution_count": 89,
   "metadata": {},
   "outputs": [],
   "source": [
    "def linear_big_O(liste):\n",
    "    for deger in liste:\n",
    "        print(deger)"
   ]
  },
  {
   "cell_type": "code",
   "execution_count": 91,
   "metadata": {},
   "outputs": [
    {
     "name": "stdout",
     "output_type": "stream",
     "text": [
      "1\n",
      "3\n"
     ]
    }
   ],
   "source": [
    "linear_big_O([1,3])   # O(n)"
   ]
  },
  {
   "cell_type": "code",
   "execution_count": 93,
   "metadata": {},
   "outputs": [],
   "source": [
    "def linear_big_O_2(liste):\n",
    "    for deger in liste:\n",
    "        print(deger)\n",
    "    for deger in liste:\n",
    "        print(deger)"
   ]
  },
  {
   "cell_type": "code",
   "execution_count": 95,
   "metadata": {},
   "outputs": [
    {
     "name": "stdout",
     "output_type": "stream",
     "text": [
      "1\n",
      "3\n",
      "1\n",
      "3\n"
     ]
    }
   ],
   "source": [
    "linear_big_O_2([1,3])   # O(2n)"
   ]
  },
  {
   "cell_type": "code",
   "execution_count": 97,
   "metadata": {},
   "outputs": [],
   "source": [
    "# O(1+n)\n",
    "def example(liste):\n",
    "    \n",
    "    print(liste[0])  # O(1) constant\n",
    "    \n",
    "    for each in liste:  # O(n) linear\n",
    "        print(each)\n",
    "    "
   ]
  },
  {
   "cell_type": "code",
   "execution_count": 99,
   "metadata": {},
   "outputs": [
    {
     "name": "stdout",
     "output_type": "stream",
     "text": [
      "1\n",
      "1\n",
      "2\n",
      "3\n",
      "4\n"
     ]
    }
   ],
   "source": [
    "example([1,2,3,4])"
   ]
  },
  {
   "cell_type": "markdown",
   "metadata": {},
   "source": [
    "* Bu örnekte insignificant term(önemsiz terim) 1 sayısıdır. Bu nedenle ihmal edebiliriz.\n",
    "* Insignificant(önemsiz) olup olmadığını anlamak içinde n değerine sonsuz verip deneyelim.\n",
    "* Sonuç olarak example metodunun O(n)'dir."
   ]
  },
  {
   "cell_type": "markdown",
   "metadata": {},
   "source": [
    "<a id=\"10\"></a> <br>\n",
    "## QUIZ"
   ]
  },
  {
   "cell_type": "markdown",
   "metadata": {},
   "source": [
    "Hadi şimdi alltaki sorualara sıra sıra cevap verin. ve kendiniz deneyin"
   ]
  },
  {
   "cell_type": "code",
   "execution_count": 105,
   "metadata": {},
   "outputs": [
    {
     "name": "stdout",
     "output_type": "stream",
     "text": [
      "quiz1\n",
      "quiz1\n",
      "quiz1\n",
      "quiz1\n"
     ]
    }
   ],
   "source": [
    "# Quiz 1\n",
    "n = 2\n",
    "for x in range(n):\n",
    "    for y in range(n):\n",
    "        print(\"quiz1\")\n"
   ]
  },
  {
   "cell_type": "code",
   "execution_count": 107,
   "metadata": {},
   "outputs": [
    {
     "name": "stdout",
     "output_type": "stream",
     "text": [
      "quiz2\n",
      "quiz2\n"
     ]
    }
   ],
   "source": [
    "# Quiz 2\n",
    "n = 2\n",
    "for x in range(n):        \n",
    "    print(\"quiz2\")"
   ]
  },
  {
   "cell_type": "code",
   "execution_count": 109,
   "metadata": {},
   "outputs": [
    {
     "name": "stdout",
     "output_type": "stream",
     "text": [
      "1\n",
      "1\n",
      "2\n",
      "2\n",
      "3\n",
      "3\n"
     ]
    }
   ],
   "source": [
    "# Quiz 3\n",
    "n = 2\n",
    "for x in range(n):        \n",
    "    print(\"1\")\n",
    "for x in range(n):        \n",
    "    print(\"2\")\n",
    "for x in range(n):        \n",
    "    print(\"3\")"
   ]
  },
  {
   "cell_type": "markdown",
   "metadata": {},
   "source": [
    "<a id=\"11\"></a> <br>\n",
    "## QUIZ Cevap\n",
    "1. O(n^2)\n",
    "2. O(n)\n",
    "3. O(n)\n",
    "\n",
    "NOT: Belki 3. soru için O(3n) demiş olabilirsiniz evet bir bakıma doğru ama unutmayın insignificant constant değerler önemsizdi!"
   ]
  },
  {
   "cell_type": "markdown",
   "metadata": {},
   "source": [
    "<a id=\"12\"></a> <br>\n",
    "## İş Görüşmesi Soruları\n",
    "1. Neden runtime yerine Big-O kullanılıyor?\n",
    "\n",
    "    * Cevap: Gerçek runtime, donanım farklılıkları ve çalışma koşullarına bağlı olarak değişebilir. Bu nedenle, bir algoritmanın gerçek çalışma süresini tahmin etmek zordur. Big-O notasyonu, bu tür değişkenlerden bağımsız olarak algoritmanın performansını analiz etmemize olanak tanır. Big-O, algoritmanın giriş boyutu büyüdükçe nasıl performans gösterdiğini anlamamıza yardımcı olur, bu da donanım ve çevresel etkenlerden bağımsız bir değerlendirme sağlar.\n",
    "\n",
    "3. Big-O basitçe ne işe yarar?\n",
    "    * Cevap: Big-O notasyonu, algoritmaların performansını karşılaştırmak için kullanılır. Farklı algoritmaların büyüklükleri nasıl yönettiğini ve performanslarının giriş boyutuna bağlı olarak nasıl değiştiğini görselleştirir. Bu sayede, hangi algoritmanın belirli bir problem için daha etkili olduğunu ve daha iyi ölçeklenebilirliğe sahip olduğunu belirleyebiliriz.\n",
    "\n",
    "4. Input size neden önemlidir?\n",
    "    * Cevap: Big-O notasyonunda giriş boyutu (n) kullanılır çünkü algoritmanın performansı genellikle giriş boyutuna bağlı olarak değişir. Giriş boyutunu anlamak, algoritmanın büyük veri setleriyle nasıl başa çıkacağını ve performansının nasıl değişeceğini değerlendirmemize yardımcı olur. Bu da, algoritmanın gerçek dünya uygulamalarında ne kadar verimli olduğunu anlamamızı sağlar.\n",
    "\n",
    "5. Asymptotic analiz ile Big-O aynı şey mi?\n",
    "    * Cevap: Evet, asymptotic analiz ve Big-O notasyonu genellikle aynı şeyi ifade eder. Asymptotic analiz, algoritmaların performansını giriş boyutunun büyüklüğü göz önüne alarak değerlendirir. Big-O notasyonu bu tür analizlerde kullanılan bir gösterimdir ve algoritmanın büyüme hızını belirtir. Kısacası, Big-O, asimptotik analiz için yaygın bir notasyon sistemidir.\n",
    "\n",
    "6. Algoritma yazarken best case mi worst case mi önemlidir?\n",
    "    * Cevap: Genellikle worst-case (en kötü durum) önemlidir. Algoritmaların en kötü durumda nasıl performans göstereceğini bilmek, algoritmanın performansını garantileyen bir güvence sağlar. En kötü durum analizi, algoritmanın en yüksek karmaşıklık seviyesini ve en uzun çalışma süresini anlamamıza yardımcı olur, bu da uygulamalarda karşılaşabileceğimiz en zor durumları yönetmek için önemlidir.\n",
    "\n",
    "7. Ortalama Durum Performansı (Average Case - Theta Notatiton) nedir?\n",
    "    * Cevap: Ortalama durum performansı, algoritmanın genel olarak ne kadar iyi performans göstereceğini tahmin etmek için kullanılır. Bu, algoritmanın ortalama giriş koşullarında nasıl çalıştığını değerlendirir. Ortalama durum analizi, belirli bir problem için hem en iyi hem de en kötü durum senaryolarının ortalamasını alarak, daha gerçekçi bir performans değerlendirmesi sağlar.\n",
    "\n",
    "8. Algoritmalarda Sabit Zaman (Constant Time) nedir?\n",
    "    * Cevap: Sabit zaman (constant time) O(1) olarak ifade edilir ve algoritmanın çalışma süresinin giriş boyutundan bağımsız olarak sabit kaldığını belirtir. Yani, algoritmanın performansı giriş boyutuna bağlı olarak değişmez. Bu tür algoritmalar genellikle en hızlı performansı sunar çünkü giriş boyutundan bağımsız olarak belirli bir süre içinde tamamlanır."
   ]
  },
  {
   "cell_type": "code",
   "execution_count": null,
   "metadata": {},
   "outputs": [],
   "source": []
  }
 ],
 "metadata": {
  "kernelspec": {
   "display_name": "Python 3 (ipykernel)",
   "language": "python",
   "name": "python3"
  },
  "language_info": {
   "codemirror_mode": {
    "name": "ipython",
    "version": 3
   },
   "file_extension": ".py",
   "mimetype": "text/x-python",
   "name": "python",
   "nbconvert_exporter": "python",
   "pygments_lexer": "ipython3",
   "version": "3.11.9"
  }
 },
 "nbformat": 4,
 "nbformat_minor": 4
}
