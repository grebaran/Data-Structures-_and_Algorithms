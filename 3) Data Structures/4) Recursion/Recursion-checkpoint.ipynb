{
 "cells": [
  {
   "cell_type": "markdown",
   "metadata": {},
   "source": [
    "# Recursion"
   ]
  },
  {
   "cell_type": "markdown",
   "metadata": {},
   "source": [
    "## İçerik:\n",
    "* [Recursion](#1)\n",
    "* [Recursion İş Mülakatları Soru-Cevap](#5)\n",
    "* [Recursion Python Challenge/Problem](#6)\n",
    "* [Neler Öğrendik](#99)"
   ]
  },
  {
   "cell_type": "markdown",
   "metadata": {},
   "source": [
    "<a id=\"1\"></a>\n",
    "## Recursion\n",
    "* Tanım: Recursion, bir yapının kendini tekrar etmesidir. Programlamada, bir fonksiyonun kendi kendini çağırması işlemine \"recursive\" yani özyineli metot denir.\n",
    "\n",
    "* Ne Zaman Kullanılır: Genellikle döngülerin (for veya while loop) uygun veya optimal olmadığı durumlarda tercih edilir.\n",
    "* Modern Dillerde: Recursion, neredeyse tüm modern programlama dillerinde bulunur ve oldukça kullanışlıdır.\n",
    "\n",
    "* Örnek: Faktöriyel Hesaplama\n",
    " * Faktöriyel, bir sayının kendisi ve kendisinden küçük pozitif sayılarla çarpılması işlemidir. Matematiksel olarak şöyle ifade edilir:\n",
    " * 𝑛!=𝑛×(𝑛−1)×(𝑛−2)×...×1\n",
    "\n",
    "* Örneğin, \n",
    " * 5!=5×4×3×2×1=120\n",
    "\n",
    "* Recursion ile Faktöriyel Hesaplama:\n",
    "\n",
    "* Recursion kullanarak faktöriyel hesaplamak oldukça basit bir örnek sağlar:\n",
    "\n",
    "    * n!=n×(n−1)!\n",
    "    * Temel durum: 0!=1\n",
    "\n",
    "* Bu şekilde, bir problem daha küçük alt problemlere bölünerek çözülür, ta ki temel duruma ulaşana kadar. Bu yaklaşım, birçok karmaşık problemi daha anlaşılır ve yönetilebilir hale getirir.\n",
    "\n",
    "\n",
    "* <img src=\"ex_fac.jpg\"></img>"
   ]
  },
  {
   "cell_type": "code",
   "execution_count": 7,
   "metadata": {},
   "outputs": [],
   "source": [
    "# recursion\n",
    "def factorial(n):\n",
    "    print(n)\n",
    "    \n",
    "    # base case\n",
    "    if n == 0:\n",
    "        return 1\n",
    "    else:\n",
    "        return n * factorial(n-1)  # n*(n-1)!"
   ]
  },
  {
   "cell_type": "code",
   "execution_count": 8,
   "metadata": {},
   "outputs": [
    {
     "name": "stdout",
     "output_type": "stream",
     "text": [
      "5\n",
      "4\n",
      "3\n",
      "2\n",
      "1\n",
      "0\n"
     ]
    },
    {
     "data": {
      "text/plain": [
       "120"
      ]
     },
     "execution_count": 8,
     "metadata": {},
     "output_type": "execute_result"
    }
   ],
   "source": [
    "factorial(5)"
   ]
  },
  {
   "cell_type": "code",
   "execution_count": 9,
   "metadata": {},
   "outputs": [],
   "source": [
    "def summation(n):\n",
    "    print(n)\n",
    "    # base case\n",
    "    if n == 0:\n",
    "        return 0\n",
    "    else:\n",
    "        return n + summation(n-1)"
   ]
  },
  {
   "cell_type": "code",
   "execution_count": 68,
   "metadata": {},
   "outputs": [],
   "source": [
    "# summation(3)=6\n",
    "#           3 + (summation(2)=3)\n",
    "#                         2 + (summation(1)=1)  \n",
    "#                                       1 + (summation(0)=0)  "
   ]
  },
  {
   "cell_type": "code",
   "execution_count": 69,
   "metadata": {},
   "outputs": [
    {
     "name": "stdout",
     "output_type": "stream",
     "text": [
      "3\n",
      "2\n",
      "1\n",
      "0\n"
     ]
    },
    {
     "data": {
      "text/plain": [
       "6"
      ]
     },
     "execution_count": 69,
     "metadata": {},
     "output_type": "execute_result"
    }
   ],
   "source": [
    "summation(3)  #  3+2+1 = 21"
   ]
  },
  {
   "cell_type": "code",
   "execution_count": 70,
   "metadata": {},
   "outputs": [],
   "source": [
    "# deneme(1)=12\n",
    "#        2 * (deneme(2)=6)\n",
    "#                   2 * (deneme(3)=3)"
   ]
  },
  {
   "cell_type": "code",
   "execution_count": 10,
   "metadata": {},
   "outputs": [
    {
     "data": {
      "text/plain": [
       "12"
      ]
     },
     "execution_count": 10,
     "metadata": {},
     "output_type": "execute_result"
    }
   ],
   "source": [
    "# Recursion soru \n",
    "def deneme(n):\n",
    "    \n",
    "    # base case\n",
    "    if n == 3:\n",
    "       return n\n",
    "    \n",
    "    return 2 * deneme(n + 1)\n",
    "\n",
    "deneme(1)"
   ]
  },
  {
   "cell_type": "markdown",
   "metadata": {},
   "source": [
    "<a id=\"5\"></a>\n",
    "## Recursion İş Mülakatları Soru-Cevap\n",
    "* Recursion Nedir?\n",
    "    * Recursion, bir fonksiyonun kendini tekrar tekrar çağırmasıdır. Kısacası, bir problemi çözmek için fonksiyonun kendi kendine başvurmasıdır.\n",
    "\n",
    "* Base Condition (Temel Durum) Nedir?\n",
    "    * Recursion'da, büyük bir problemi daha küçük ve basit problemlere bölerek çözmeye çalışırız. Base condition, bu küçük problemlerin en temel hali olup, recursion'ı durduran durumdur. Örneğin, bir faktöriyel hesaplamasında, n = 0 olduğunda 1 döndürmek bir base condition'dır.\n",
    "\n",
    "* Recursion'un Avantajları\n",
    "    * Estetik ve Zarif Kod: Recursive kodlar genellikle daha temiz ve anlaşılır olabilir.\n",
    "    * Karmaşık Problemleri Basitleştirme: Büyük problemleri daha küçük ve yönetilebilir alt problemlere ayırarak çözüm sağlayabilir.\n",
    "\n",
    "* Recursion'un Dezavantajları\n",
    "    * Anlaması ve Kurması Zordur: Recursive algoritma yazmak ve anlamak bazen karmaşık olabilir.\n",
    "    * Bellek ve Zaman Kullanımı: Recursion, özellikle derin ve karmaşık problemler için bellek ve işlemci zamanı açısından verimsiz olabilir.\n",
    "    * Debug Etmesi Zordur: Recursion'ı debug etmek, iterasyonlu kodlara göre daha zor olabilir çünkü fonksiyonun kendisini tekrar tekrar çağırması hata ayıklamayı zorlaştırır.\n",
    "\n",
    "* Recursion Uygularken Dikkat Edilmesi Gerekenler\n",
    "    * Base Case’i Bulmak: Problemi en basit şekilde nasıl çözebileceğimizi ve temel durumun ne olduğunu belirlemek.\n",
    "    * Sub Problemleri Belirlemek: Problemi daha küçük parçalara nasıl böleceğinizi ve her bir parçayı nasıl çözeceğinizi düşünmek.\n",
    "\n",
    "* Recursion ve Iteration Arasındaki İlişki\n",
    "    * Iteration (for/while döngüleri) ile çözülebilen her problem, recursion kullanılarak da çözülebilir. Her iki yöntem de problemleri çözmek için farklı yaklaşımlar sunar ve genellikle bir yöntemin kullanılması diğerinin kullanımını etkilemez."
   ]
  },
  {
   "cell_type": "markdown",
   "metadata": {},
   "source": [
    "<a id=\"6\"></a>\n",
    "## Recursion Python Challenge/Problem\n",
    "1. Recursion ile String'in Tersini Bulmak (Reverse String)\n",
    "2. Recursion ile matematiksel işlem: x*y\n",
    "3. Recursion ile matematiksel işlem: x^y"
   ]
  },
  {
   "cell_type": "markdown",
   "metadata": {},
   "source": [
    "### 1) Recursion ile String'in Tersini Bulmak (Reverse String)\n",
    "* input: \"deep\"\n",
    "* output: \"peed\""
   ]
  },
  {
   "cell_type": "code",
   "execution_count": 72,
   "metadata": {},
   "outputs": [],
   "source": [
    "# reverse(deep) = peed\n",
    "#           (reverse(eep)=pee) + d\n",
    "#                   (reverse(ep)=pe) + e\n",
    "#                          (reverse(p) = p) + e"
   ]
  },
  {
   "cell_type": "code",
   "execution_count": 33,
   "metadata": {},
   "outputs": [
    {
     "data": {
      "text/plain": [
       "'pdee'"
      ]
     },
     "execution_count": 33,
     "metadata": {},
     "output_type": "execute_result"
    }
   ],
   "source": [
    "\"deep\"[-1]+\"deep\"[:-1]"
   ]
  },
  {
   "cell_type": "code",
   "execution_count": 32,
   "metadata": {},
   "outputs": [
    {
     "data": {
      "text/plain": [
       "'dee'"
      ]
     },
     "execution_count": 32,
     "metadata": {},
     "output_type": "execute_result"
    }
   ],
   "source": [
    "def reverse(string):\n",
    "    if len(string)<=0:\n",
    "        return string\n",
    "    return string[-1]+str(reverse(string[:len(string)-1]))"
   ]
  },
  {
   "cell_type": "code",
   "execution_count": 67,
   "metadata": {},
   "outputs": [
    {
     "data": {
      "text/plain": [
       "'peed'"
      ]
     },
     "execution_count": 67,
     "metadata": {},
     "output_type": "execute_result"
    }
   ],
   "source": [
    "reverse(\"deep\")"
   ]
  },
  {
   "cell_type": "markdown",
   "metadata": {},
   "source": [
    "### 2) Recursion ile matematiksel işlem: x*y\n",
    "* input: 2,3\n",
    "* output: 6 \n",
    "* her çarpma işlemi aynı zamanda bir toplama işlemidir. 2*3 = 2 + 2 + 2  "
   ]
  },
  {
   "cell_type": "code",
   "execution_count": 75,
   "metadata": {},
   "outputs": [],
   "source": [
    "# multiply(2,3) = 6\n",
    "#          2 + (multiply(2,2) = 4)\n",
    "#                      2 + (multiply(2,1)=2)\n",
    "#                              2 + (multiply(2,0) = 0)"
   ]
  },
  {
   "cell_type": "code",
   "execution_count": 73,
   "metadata": {},
   "outputs": [],
   "source": [
    "def multiply(x,y):\n",
    "    if y<=0:\n",
    "        return y\n",
    "    return x +multiply(x,y-1)"
   ]
  },
  {
   "cell_type": "code",
   "execution_count": 74,
   "metadata": {},
   "outputs": [
    {
     "data": {
      "text/plain": [
       "10"
      ]
     },
     "execution_count": 74,
     "metadata": {},
     "output_type": "execute_result"
    }
   ],
   "source": [
    "multiply(2,5)"
   ]
  },
  {
   "cell_type": "markdown",
   "metadata": {},
   "source": [
    "### 3) Recursion ile matematiksel işlem: x^y\n",
    "* input: 2,3\n",
    "* output: 8\n",
    "* 2^3 = 2x2x2"
   ]
  },
  {
   "cell_type": "code",
   "execution_count": 78,
   "metadata": {},
   "outputs": [],
   "source": [
    "# power(2,3) = 8\n",
    "#        multiply(2, power(2,2)=4)\n",
    "#                     multiply(2,power(2,1)=2)  \n",
    "#                                     multiply(2,power(2,0)=1)"
   ]
  },
  {
   "cell_type": "code",
   "execution_count": 94,
   "metadata": {},
   "outputs": [],
   "source": [
    "def power(x,y):\n",
    "    \n",
    "    # base case\n",
    "    if y <= 1:\n",
    "        return x\n",
    "    # recursion\n",
    "    return x * power(x,y-1)"
   ]
  },
  {
   "cell_type": "code",
   "execution_count": 95,
   "metadata": {},
   "outputs": [
    {
     "data": {
      "text/plain": [
       "8"
      ]
     },
     "execution_count": 95,
     "metadata": {},
     "output_type": "execute_result"
    }
   ],
   "source": [
    "power(2,3)"
   ]
  }
 ],
 "metadata": {
  "kernelspec": {
   "display_name": "Python 3",
   "language": "python",
   "name": "python3"
  },
  "language_info": {
   "codemirror_mode": {
    "name": "ipython",
    "version": 3
   },
   "file_extension": ".py",
   "mimetype": "text/x-python",
   "name": "python",
   "nbconvert_exporter": "python",
   "pygments_lexer": "ipython3",
   "version": "3.12.0"
  }
 },
 "nbformat": 4,
 "nbformat_minor": 2
}
