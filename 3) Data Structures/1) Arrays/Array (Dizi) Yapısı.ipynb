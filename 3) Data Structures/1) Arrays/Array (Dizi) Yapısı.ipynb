{
 "cells": [
  {
   "cell_type": "markdown",
   "metadata": {},
   "source": [
    " # Array (Dizi) Yapısı"
   ]
  },
  {
   "cell_type": "markdown",
   "metadata": {},
   "source": [
    "## İçerik\n",
    "* [Arrays](#1)\n",
    "* [Dynamic Array](#2)\n",
    "* [Dynamic Array with Python](#3)\n",
    "* [Array İş Mülakatları Soru-Cevap](#4)\n",
    "* [Array Python Challenge/Problem](#5)\n",
    "* [Neler Öğrendik](#6)"
   ]
  },
  {
   "cell_type": "markdown",
   "metadata": {},
   "source": [
    "<a id=\"1\"></a>\n",
    "## Arrays\n",
    "* Bir mesafe sensörü düşünün, her saniye bir veri gönderiyor. Bu verileri saklamak için bir değişken tanımlayabilir miyiz? Elbette, ama daha iyi bir yol var: arrays yani diziler!\n",
    "\n",
    "* Diziler, verileri bir arada tutmamızı sağlayan yapılardır. Gerçek dünyada bu, şöyle bir şey gibi düşünülebilir: [1, 2, 3, 4, 5]. Bu, 5 elemanlı bir dizi ve her elemanın bir yeri, yani bir \"indeksi\" var. Örneğin, bu dizideki 2 sayısı, indeks 1'de yer alıyor.\n",
    "\n",
    "* Python'da, tıpkı diğer programlama dillerinde olduğu gibi, dizilerdeki indeksler sıfırdan başlar. Yani, bir dizideki ilk eleman aslında \"0\" indeksindedir. Biz bu kurs boyunca Python kullanacağız, bu yüzden dizilerle çalışırken indekslerin sıfırdan başladığını unutmayalım!\n",
    "\n",
    "* Diziler, sensör verileri gibi sürekli gelen bilgileri depolamak için harika bir yoldur ve Python'da bu yapı ile verilerle kolayca çalışabiliriz."
   ]
  },
  {
   "cell_type": "code",
   "execution_count": 3,
   "metadata": {},
   "outputs": [
    {
     "name": "stdout",
     "output_type": "stream",
     "text": [
      "[[1 2 3 4 5]]\n",
      "Boyut:  (1, 5)\n"
     ]
    }
   ],
   "source": [
    "import numpy as np\n",
    "array = np.array([[1,2,3,4,5]])  # vector 1D\n",
    "print(array)\n",
    "print(\"Boyut: \",array.shape)"
   ]
  },
  {
   "cell_type": "markdown",
   "metadata": {},
   "source": [
    "* Peki array tek boyulu olmak zorunda mı? Hayır 2 boyutlu hatta 3-4 boyutlu bile olabilir. (Optional: tensor is lower or higher dimensinal array)\n",
    "* 2D array satır ve sütunlardan oluşur. Row - Column"
   ]
  },
  {
   "cell_type": "code",
   "execution_count": 5,
   "metadata": {},
   "outputs": [
    {
     "name": "stdout",
     "output_type": "stream",
     "text": [
      "[[ 1  2  3  4  5]\n",
      " [ 6  7  8  9 10]]\n",
      "boyut:  (2, 5)\n",
      "2. satır 4. sütun:  9\n"
     ]
    }
   ],
   "source": [
    "array2D = np.array(\n",
    "    [[1,2,3,4,5],\n",
    "    [6,7,8,9,10]])\n",
    "print(array2D)\n",
    "print(\"boyut: \",array2D.shape)\n",
    "print(\"2. satır 4. sütun: \",array2D[1,3])"
   ]
  },
  {
   "cell_type": "markdown",
   "metadata": {},
   "source": [
    "<a id=\"2\"></a>\n",
    "## Dynamic Array\n",
    "* Dynamic array boyutunu önceden belirtmek zorunda olmadığımız daha sonra eleman ekleyip çıkartabileceğimiz yapılara denir.\n",
    "* Dynamic array growable and resizable olarak tanımlanır.\n",
    "* Dynamic array neredeyse tüm programlama dillerinde çok sık kullanılan bir yapıdır.\n",
    "* ![title](dynamicAr.jpg)"
   ]
  },
  {
   "cell_type": "markdown",
   "metadata": {},
   "source": [
    "<a id=\"3\"></a>\n",
    "## Dynamic Array with Python\n",
    "* Anlamak için kendi dynamic array class'ımızı yaratacağız."
   ]
  },
  {
   "cell_type": "code",
   "execution_count": 9,
   "metadata": {},
   "outputs": [],
   "source": [
    "import ctypes # yeni array yaratmak icin kullanacagiz\n",
    "\n",
    "class DynamicArray(object):\n",
    "    \n",
    "    # initialize (constructor)\n",
    "    def __init__(self):\n",
    "        self.n = 0 # eleman sayisi\n",
    "        self.capacity = 1 # kapasite\n",
    "        self.myArray = self.make_array(self.capacity) \n",
    "        \n",
    "    def __len__(self):\n",
    "        \"\"\"\n",
    "        return array icerisinde eleman sayisi\n",
    "        \"\"\"\n",
    "        return self.n\n",
    "    \n",
    "    def __getitem__(self,k):\n",
    "        \"\"\"\n",
    "        return index k'da ki eleman(value)\n",
    "        \"\"\"\n",
    "        if not 0 <= k < self.n:\n",
    "            return IndexError(\"k is out of bounds !\")\n",
    "        \n",
    "        return self.myArray[k]\n",
    "        \n",
    "    def append(self,eleman):\n",
    "        \"\"\"\n",
    "        array'e eleman ekler\n",
    "        \"\"\"\n",
    "        \n",
    "        # eger kapasite dolu ise kapasiteyi iki katina cikar\n",
    "        if self.n == self.capacity:\n",
    "            self._resize(2*self.capacity)\n",
    "            \n",
    "        self.myArray[self.n] = eleman # eleman ekleme\n",
    "        self.n += 1 # eleman sayisi bir arttir\n",
    "        \n",
    "    def _resize(self,new_cap):\n",
    "        \"\"\"\n",
    "        array kapasitesini arttir\n",
    "        \"\"\"\n",
    "        \n",
    "        B = self.make_array(new_cap)  # yeni array yap\n",
    "        \n",
    "        # eski array (A) icerisindeki degerleri yeni arraye(B) icine tasi\n",
    "        for k in range(self.n):\n",
    "            B[k] = self.myArray[k]\n",
    "        \n",
    "        self.myArray = B # arrayi guncelle\n",
    "        self.capacity = new_cap # kapasite guncelle\n",
    "    \n",
    "    def make_array(self,new_cap):\n",
    "        \"\"\"\n",
    "        yeni array oluşturuluyor.\n",
    "        \"\"\"\n",
    "        return (new_cap*ctypes.py_object)()\n",
    "    "
   ]
  },
  {
   "cell_type": "code",
   "execution_count": 11,
   "metadata": {},
   "outputs": [
    {
     "name": "stdout",
     "output_type": "stream",
     "text": [
      "1\n",
      "1 3\n",
      "1 3 5\n"
     ]
    }
   ],
   "source": [
    "# obje tanimla\n",
    "arr = DynamicArray()\n",
    "# append new element 1\n",
    "arr.append(1)\n",
    "print(arr[0])\n",
    "# append new element 1 , 3\n",
    "arr.append(3)\n",
    "print(arr[0],arr[1])\n",
    "# append new element 1 , 3 ,5\n",
    "arr.append(5)\n",
    "print(arr[0],arr[1],arr[2])"
   ]
  },
  {
   "cell_type": "markdown",
   "metadata": {},
   "source": [
    "<a id=\"4\"></a>\n",
    "## Array İş Mülakatları Soru-Cevap \n",
    "* Dynamic Array Neden Önemli?\n",
    "    * Dynamic arrays (dinamik diziler), klasik dizilere kıyasla daha esnek bir yapı sunar. Standart diziler (arrays) sabit boyutludur, yani diziyi oluşturduğunuzda kapasitesini belirlemeniz gerekir ve sonrasında bu kapasiteyi değiştiremezsiniz. Ancak dinamik diziler, gerektiğinde otomatik olarak büyüyebilir, bu da onları veri yapılarıyla çalışırken çok kullanışlı hale getirir.\n",
    "\n",
    "* Automatic Resizing (Otomatik Yeniden Boyutlandırma)\n",
    "    * Dinamik dizilerin en büyük avantajlarından biri, boyutlarının otomatik olarak ayarlanabilmesidir. Eğer dizi dolarsa, yeni bir dizi oluşturulur ve mevcut elemanlar bu yeni diziye kopyalanır. Bu işlem genellikle dizinin kapasitesini 2 katına çıkarmak şeklinde gerçekleştirilir.\n",
    "\n",
    "* Array ile Dynamic Array Arasındaki Farklar\n",
    "    * Array (Sabit Boyutlu Dizi):\n",
    "    * Sabit Boyut: Diziyi oluştururken boyutunu belirlemeniz gerekir ve bu boyut sonradan değiştirilemez.\n",
    "    * Bellek Yönetimi: Bellekte sabit bir alan ayrılır.\n",
    "    * Dynamic Array (Dinamik Dizi):\n",
    "    * Değişken Boyut: Başlangıçta boyut belirlemeniz gerekmez; dizi doldukça otomatik olarak yeniden boyutlandırılır.\n",
    "    * Esneklik: İhtiyaç duydukça dizi genişleyebilir, bu da belleği daha verimli kullanmanıza olanak tanır.\n",
    " \n",
    "\n",
    "* Dynamic Array Avantajları ve Dezavantajları\n",
    "    * Avantajlar:\n",
    "    * Hızlı Erişim: Dizinin herhangi bir elemanına O(1) sürede erişebilirsiniz.\n",
    "    * Esnek Boyut: Başlangıçta boyut belirlemenize gerek kalmaz ve dizi doldukça otomatik olarak genişler.\n",
    "    \n",
    "    * Dezavantajlar:\n",
    "    * Yavaş En Kötü Durum Ekleme: Eğer dizi dolduysa, kapasitenin arttırılması gerekir, bu da zaman alıcı olabilir.\n",
    "    * Maliyetli Ekleme ve Silme: Dizinin ortasına eleman eklemek veya silmek, diğer elemanların kaydırılmasını gerektirdiğinden pahalı olabilir (O(n)).\n",
    "\n",
    "* Dynamic Array'de Boyut Nasıl Artar?\n",
    "    * Genellikle kapasite dolduğunda, dinamik dizinin boyutu 2 katına çıkarılır. Bu sayede dizi genişlemeye devam ederken performans sorunları minimumda tutulur.\n",
    "\n",
    "* İşe Alım Sorusu\n",
    "\n",
    "* Soru: Sıralı bir veri dizisinde aşağıdaki işlemlerden hangisi O(1) değildir? (Veri elemanlarının benzersiz olduğunu varsayabilirsiniz.)\n",
    "\n",
    "1) (A) En büyük i'inci elemanı bulmak\n",
    "2) (B) Bir elemanı silmek\n",
    "3) (C) En küçük i'inci elemanı bulmak\n",
    "4) (D) Yukarıdakilerin hepsi\n",
    "\n",
    "\n",
    "\n",
    "\n",
    "\n",
    "Cevap: (B) Bir elemanı silmek"
   ]
  },
  {
   "cell_type": "markdown",
   "metadata": {},
   "source": [
    "1. Dynamic Array ile Stack ve Queue Arasındaki Fark Nedir?\n",
    "\n",
    "    * Dynamic Array: Dinamik diziler, boyutları ihtiyaç oldukça otomatik olarak genişleyen veri yapılarıdır. Elemanlara rastgele erişim sağlayabilirsiniz (O(1)).\n",
    "    * Stack (Yığın): Stack, LIFO (Last In, First Out) prensibiyle çalışan bir veri yapısıdır. Yani, son eklenen eleman ilk çıkar. Temel işlemler push (ekleme) ve pop (çıkarma)'dır. Rastgele erişim mümkün değildir.\n",
    "    * Queue (Kuyruk): Queue, FIFO (First In, First Out) prensibiyle çalışır. İlk eklenen eleman ilk çıkar. Temel işlemler enqueue (ekleme) ve dequeue (çıkarma)'dır. Tıpkı stack gibi, rastgele erişim mümkün değildir.\n",
    "    * Fark: Dinamik diziler, elemanlara rastgele erişim sağlarken, stack ve queue belirli bir sıraya göre elemanlara erişim sağlar. Ayrıca, dinamik diziler kapasite artırımı için otomatik yeniden boyutlandırılırken, stack ve queue bu mantıkta çalışmaz.\n",
    "\n",
    "3. En Kötü Durumda Dinamik Bir Dizinin Yeniden Boyutlandırılmasının Maliyeti Nedir ve Bunu Nasıl Optimize Edebilirsiniz?\n",
    "    * Cevap: En kötü durumda, dinamik bir dizinin yeniden boyutlandırılması O(n) zaman alır. Bu durumda, dizinin mevcut elemanlarını yeni bir diziye kopyalamanız gerekir. Ancak bu işlemin amortized (ortalama) maliyeti O(1) olarak kabul edilir çünkü yeniden boyutlandırma işlemi her eklemede yapılmaz, sadece dizi dolduğunda gerçekleşir. Bunu optimize etmek için kapasiteyi küçük adımlarla değil, genellikle iki katına çıkararak artırmak yaygın bir yaklaşımdır. Bu, yeniden boyutlandırma işlemlerinin sayısını minimumda tutar.\n",
    "\n",
    "4. Veri Yapılarında Amortized Analysis Nedir? Dinamik Diziler İçin Nasıl Uygulanır?\n",
    "    * Cevap: Amortized analysis, bir veri yapısında yapılan işlemlerin uzun vadede maliyetini değerlendiren bir analiz yöntemidir. Dinamik dizilerde, her ekleme işlemi anlık olarak O(1) maliyetindedir. Ancak kapasite dolduğunda ve dizi yeniden boyutlandırıldığında, bu işlem O(n) zaman alır. Amortized analysis, dizinin toplam çalışma süresini ve her bir ekleme işleminin ortalama maliyetini hesaba katar. Uzun vadede, ekleme işlemlerinin amortized maliyeti O(1) olarak kabul edilir, çünkü yeniden boyutlandırma nadir olarak gerçekleşir ve bu maliyet diğer ekleme işlemlerine yayılır.\n",
    "\n",
    "5. Bir Dizide Ortalama O(1) Ekleme İşlemi Nasıl Sağlanır?\n",
    "    * Cevap: Ortalama O(1) ekleme işlemi, genellikle dinamik dizilerde kapasiteyi iki katına çıkarma stratejisiyle sağlanır. Dizi dolduğunda, yeni ve daha büyük bir dizi oluşturulur ve eski dizideki elemanlar bu yeni diziye kopyalanır. Bu kopyalama işlemi O(n) zaman alırken, diğer ekleme işlemleri O(1) zaman alır. Uzun vadede bu işlemlerin ortalaması alındığında, her ekleme işleminin amortized maliyeti O(1) olur.\n",
    "\n",
    "6. Python'da list Veri Yapısı Nasıl Çalışır? Dinamik Dizi Gibi mi Davranır?\n",
    "    * Cevap: Evet, Python'daki list veri yapısı dinamik dizi gibi davranır. Python'da listeler, arka planda dinamik diziler olarak uygulanır. Başlangıçta sabit bir kapasiteyle oluşturulurlar, ancak kapasite dolduğunda, kapasite genellikle iki katına çıkarılarak yeniden boyutlandırılır. Bu sayede Python listeleri, eleman ekleme ve silme işlemlerinde oldukça esnektir ve performans açısından optimize edilmiştir. Yani, Python'da liste kullanırken, dinamik dizi avantajlarından yararlanabilirsiniz.\n",
    "\n",
    "* Ekstra İpuçları:\n",
    "* Veri yapılarının çalışma prensiplerini bilmek, kodunuzun performansını iyileştirmenize yardımcı olur. Örneğin, hangi veri yapısının hangi senaryoda daha verimli olduğunu anlamak, size iş görüşmelerinde artı puan kazandırabilir.\n",
    "* Amortized analysis gibi konulara hakim olmak, algoritma ve veri yapısı performansını uzun vadede değerlendirme yeteneğinizi gösterir. Bu da teknik mülakatlarda dikkat çeker."
   ]
  },
  {
   "cell_type": "markdown",
   "metadata": {},
   "source": [
    "<a id=\"5\"></a>\n",
    "## Array Python Challenge/Problem\n",
    "    1. Word Split"
   ]
  },
  {
   "cell_type": "markdown",
   "metadata": {},
   "source": [
    "### 1) Word Split\n",
    "    * input = [\"deeplearning\", \"d,dll,a,deep,dee,base,lear,learning\"]\n",
    "    * output = [\"deep,learning\"]"
   ]
  },
  {
   "cell_type": "code",
   "execution_count": 109,
   "metadata": {},
   "outputs": [],
   "source": []
  },
  {
   "cell_type": "code",
   "execution_count": 133,
   "metadata": {},
   "outputs": [],
   "source": [
    "def wordSplit(liste):\n",
    "    target=liste[0]\n",
    "    words=liste[1].split(\",\")\n",
    "\n",
    "    for i in words:\n",
    "        remainder=target[len(i):]\n",
    "        if remainder in words and i in words:\n",
    "            return True\n",
    "    \n",
    "    return \"no way\"\n"
   ]
  },
  {
   "cell_type": "code",
   "execution_count": 135,
   "metadata": {},
   "outputs": [
    {
     "data": {
      "text/plain": [
       "True"
      ]
     },
     "execution_count": 135,
     "metadata": {},
     "output_type": "execute_result"
    }
   ],
   "source": [
    "wordSplit([\"deeplear2ning\", \"d,dll,a,deep,dee,base,lear,lear2ning\"])"
   ]
  },
  {
   "cell_type": "code",
   "execution_count": 137,
   "metadata": {},
   "outputs": [
    {
     "name": "stdout",
     "output_type": "stream",
     "text": [
      "1.76 μs ± 64.3 ns per loop (mean ± std. dev. of 7 runs, 1,000,000 loops each)\n"
     ]
    }
   ],
   "source": [
    "%timeit wordSplit([\"deeplearning\", \"d,dll,a,deep,dee,base,lear,learning\"])"
   ]
  },
  {
   "cell_type": "markdown",
   "metadata": {},
   "source": [
    "<a id=\"6\"></a>\n",
    "## Neler Öğrendik\n",
    "* TAVSİYE: Array ile ilgili soru çözün. Mesela https://coderbyte.com/"
   ]
  },
  {
   "cell_type": "code",
   "execution_count": null,
   "metadata": {},
   "outputs": [],
   "source": []
  }
 ],
 "metadata": {
  "kernelspec": {
   "display_name": "Python 3 (ipykernel)",
   "language": "python",
   "name": "python3"
  },
  "language_info": {
   "codemirror_mode": {
    "name": "ipython",
    "version": 3
   },
   "file_extension": ".py",
   "mimetype": "text/x-python",
   "name": "python",
   "nbconvert_exporter": "python",
   "pygments_lexer": "ipython3",
   "version": "3.11.9"
  }
 },
 "nbformat": 4,
 "nbformat_minor": 4
}
