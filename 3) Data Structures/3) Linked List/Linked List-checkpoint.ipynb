{
 "cells": [
  {
   "cell_type": "markdown",
   "metadata": {},
   "source": [
    "# Linked List"
   ]
  },
  {
   "cell_type": "markdown",
   "metadata": {},
   "source": [
    "## İçerik\n",
    "* [Linked List](#1)\n",
    "* [Linked List with Python](#2)\n",
    "* [Doubly Linked List](#3)\n",
    "* [Doubly Linked List with Python](#4)\n",
    "* [Linked List İş Mülakatları Soru-Cevap](#5)\n",
    "* [Linked List Python Challenge/Problem](#6)\n",
    "* [Neler Öğrendik](#7)"
   ]
  },
  {
   "cell_type": "markdown",
   "metadata": {},
   "source": [
    "<a id=\"1\"></a>\n",
    "## Linked List\n",
    "* Singly Linked List Nedir?: \n",
    "    * Singly Linked List, linked list'in en basit formudur. Bu yapı, birbirine bağlanmış düğümlerden (nodes) oluşan bir linear veri yapısıdır. Her düğüm, içinde hem veri barındırır hem de bir sonraki düğümün adresini (pointer) tutar.\n",
    "\n",
    "* Temel Terimler:\n",
    "\n",
    "    * Head: Listenin ilk düğümüdür.\n",
    "    * Tail: Listenin son düğümüdür.\n",
    "    * Traversing: Linked list içinde bir düğümden diğerine geçme işlemine verilen addır.\n",
    "    * Linked List'in Dinamik Boyutu: Linked list'ler, sabit bir boyuta sahip değildir. Yani, boyutu önceden belirlenmez ve gerektiğinde büyütülebilir veya küçültülebilir.\n",
    "\n",
    "* Linked List'e Eleman Ekleme\n",
    "\n",
    "    * Başına Eleman Ekleme:\n",
    "\n",
    "        * Yeni bir düğüm (node) oluştur.\n",
    "        * Bu düğümün içindeki veriyi ayarla.\n",
    "        * Yeni düğümün pointer'ını mevcut head'e (ilk düğüm) yönlendir.\n",
    "        * Yeni düğümü head olarak ayarla.\n",
    "        * <img src=\"bastan_ekleme.jpg\"><img>\n",
    "\n",
    "    * Sonuna Eleman Ekleme:\n",
    "\n",
    "        * Yeni bir düğüm (node) oluştur.\n",
    "        * Yeni düğümün pointer'ını None (boş) olarak ayarla.\n",
    "        * Mevcut tail'in (son düğüm) pointer'ını bu yeni düğüme yönlendir.\n",
    "        * Yeni düğümü tail olarak ayarla.\n",
    "        * <img src=\"sondan_ekleme.jpg\"></img>\n",
    "\n",
    "    * Linked List'ten Eleman Çıkarma\n",
    "\n",
    "        * Başından Eleman Çıkarma:\n",
    "    \n",
    "            * Çıkarılacak düğümden sonraki düğümü yeni head olarak ayarla.\n",
    "            * Eski head'i çıkar.\n",
    "            * <img src=\"bastan_silme.jpg\"></img>\n",
    "        \n",
    "    \n",
    "        * Sonundan Eleman Çıkarma: \n",
    "        \n",
    "            * Singly Linked List yapısında, son düğümü çıkarmak biraz zordur. Bunun için listenizi Doubly Linked List yapmanız gerekebilir, böylece her düğüm hem önceki hem de sonraki düğümün adresini tutabilir ve sondan eleman çıkarmayı kolaylaştırır."
   ]
  },
  {
   "cell_type": "markdown",
   "metadata": {},
   "source": [
    "<a id=\"2\"></a>\n",
    "## Linked List with Python\n",
    "\n",
    "* Singly Linked List Nedir?\n",
    "    * Linked List: Bir linked list, düğümlerden (nodes) oluşan sıralı bir veri yapısıdır. Her düğüm, bir veri parçası ve bir sonraki düğümün adresini (pointer) tutar. Bu sayede düğümler birbirine bağlıdır.\n",
    "\n",
    "* Singly Linked List Yapısı:\n",
    "    * Node: Linked list'in temel yapı taşıdır. Her node, iki şey depolar:\n",
    "    * Veri: Bu, listede saklamak istediğimiz gerçek bilgidir.\n",
    "    * Pointer (Sonraki Düğüm Adresi): Bu ise sıradaki düğümü işaret eder. Yani listenin devamını gösterir."
   ]
  },
  {
   "cell_type": "code",
   "execution_count": 1,
   "metadata": {},
   "outputs": [],
   "source": [
    "class Node(object):\n",
    "    \n",
    "    def __init__(self,value):\n",
    "        \"\"\"\n",
    "        node değerini yarattığımız kısım burası. valu değeri node'un sahip olduğu değerdir. next node ise bağlanacağı diğer node ' u ifade eder.\n",
    "        \"\"\"\n",
    "        self.value = value\n",
    "        self.nextnode = None\n",
    "    \n",
    "    def setNextNode(self,node):\n",
    "        \"\"\"\n",
    "        next node'un ne oldunu ayarlar.\n",
    "        \"\"\"\n",
    "        self.nextnode = node\n",
    "        \n",
    "    def getNextNode(self):\n",
    "        \"\"\"\n",
    "        bir sonraki node'u geri döndürür\n",
    "        \"\"\"\n",
    "        return self.nextnode\n",
    "    \n",
    "    def getNodeValue(self):\n",
    "        \"\"\"\n",
    "        node icerisinde depolanan degeri verir\n",
    "        \"\"\"\n",
    "        return self.value"
   ]
  },
  {
   "cell_type": "code",
   "execution_count": 2,
   "metadata": {},
   "outputs": [],
   "source": [
    "# node sehir. node value sehir plakasi\n",
    "ankara = Node(\"06\")#burada her bir değer için bir sınıf oluşturuyoruz\n",
    "bolu = Node(\"14\")\n",
    "istanbul = Node(\"34\")"
   ]
  },
  {
   "cell_type": "code",
   "execution_count": 4,
   "metadata": {},
   "outputs": [
    {
     "name": "stdout",
     "output_type": "stream",
     "text": [
      "14\n"
     ]
    }
   ],
   "source": [
    "ankara.setNextNode(bolu) # burada şimdi ankara değeri için bir sonraki node değerinin adresini (pointer) artık bolu olarak belirledik yani birbirine bağladık\n",
    "print(ankara.getNextNode().getNodeValue())"
   ]
  },
  {
   "cell_type": "code",
   "execution_count": 5,
   "metadata": {},
   "outputs": [
    {
     "name": "stdout",
     "output_type": "stream",
     "text": [
      "34\n"
     ]
    }
   ],
   "source": [
    "bolu.setNextNode(istanbul)\n",
    "print(bolu.getNextNode().getNodeValue())"
   ]
  },
  {
   "cell_type": "code",
   "execution_count": 6,
   "metadata": {},
   "outputs": [
    {
     "name": "stdout",
     "output_type": "stream",
     "text": [
      "34\n"
     ]
    }
   ],
   "source": [
    "# ankara => bolu => istanbul olarak erişim sağladık burada\n",
    "print(ankara.getNextNode().getNextNode().getNodeValue())"
   ]
  },
  {
   "cell_type": "markdown",
   "metadata": {},
   "source": [
    "<a id=\"3\"></a>\n",
    "* Doubly Linked List Nedir?\n",
    "    * Bu yapı, her bir düğümün iki pointer (adres) tuttuğu bir linked list türüdür:\n",
    "    * Prev (Önceki Düğüm Adresi): Düğümün kendisinden önce gelen düğümü işaret eder.\n",
    "    * Next (Sonraki Düğüm Adresi): Düğümün kendisinden sonra gelen düğümü işaret eder.\n",
    "\n",
    "* Temel Terimler:\n",
    "    * Header Node: Listenin başında bulunan ve gerçek veri tutmayan, sadece listenin başlangıcını işaret eden özel bir düğümdür. Bu düğüme genellikle sentinel veya guard denir.\n",
    "    * Trailer Node: Listenin sonunda bulunan ve gerçek veri tutmayan, sadece listenin sonunu işaret eden özel bir düğümdür. Bu düğüm de sentinel veya guard olarak adlandırılır.\n",
    "\n",
    "* Doubly Linked List'e Yeni Eleman Ekleme ve Çıkarma\n",
    "\n",
    "    * Yeni Eleman Ekleme:\n",
    "    * Yeni Node Oluştur: Listenize yeni bir düğüm eklemek için önce bir düğüm oluşturursunuz.\n",
    "    * Bağlantıları Ayarla:\n",
    "        * Yeni düğümün next pointer'ını, eklenmek istenen konumdan sonraki düğümü işaret edecek şekilde ayarlayın.\n",
    "        * Yeni düğümün prev pointer'ını, eklenmek istenen konumdan önceki düğümü işaret edecek şekilde ayarlayın.\n",
    "        * Eklenmek istenen konumdan önceki düğümün next pointer'ını, yeni düğümü işaret edecek şekilde güncelleyin.\n",
    "        * Eklenmek istenen konumdan sonraki düğümün prev pointer'ını, yeni düğümü işaret edecek şekilde güncelleyin.\n",
    "\n",
    "    * Eleman Çıkarma:\n",
    "        * Bağlantıları Güncelle: Çıkarmak istediğiniz düğümü bulduktan sonra, bu düğümün önceki düğümünün next pointer'ını, çıkarılacak düğümün sonrasındaki düğümü işaret edecek şekilde güncelleyin.\n",
    "        * Sonraki Düğümün Prev Pointer'ını Güncelle: Çıkarılacak düğümün sonrasındaki düğümün prev pointer'ını, çıkarılacak düğümün önceki düğümünü işaret edecek şekilde güncelleyin.\n",
    "        * Düğümü Çıkar: Artık bu düğümü bellekten güvenle silebilirsiniz.\n",
    "\n",
    "\n",
    "* Doubly Linked List'in avantajı, iki yönlü gezinme ve daha hızlı veri ekleme/çıkarma işlemlerine olanak tanımasıdır. Ancak, bu esneklik ek hafıza kullanımı gerektirir, çünkü her düğüm iki pointer tutar.\n",
    "<img src=\"doubly_linked_list_ekle.jpg\"></img>"
   ]
  },
  {
   "cell_type": "markdown",
   "metadata": {},
   "source": [
    "<a id=\"4\"></a>\n",
    "## Doubly Linked List with Python"
   ]
  },
  {
   "cell_type": "code",
   "execution_count": 7,
   "metadata": {},
   "outputs": [],
   "source": [
    "class doublyLinkedListNode(object):\n",
    "    \n",
    "    def __init__(self,value):\n",
    "        \"\"\"\n",
    "        Burada hem node'un kendi değerini hemde önceki ve sonraki node adresleri için değişkenler oluşturuyoruz\n",
    "        \"\"\"\n",
    "        self.value = value\n",
    "        self.nextnode = None\n",
    "        self.prevnode = None\n",
    "    \n",
    "    def setNextNode(self,node):\n",
    "        \"\"\"\n",
    "        Bir sonraki node değerini burada yapılandırıyoruz\n",
    "        \"\"\"\n",
    "        self.nextnode = node\n",
    "        \n",
    "    def setPrevNode(self,node):\n",
    "        \"\"\"\n",
    "        Önceki node değerini burada yapılandırıyoruz\n",
    "        \"\"\"\n",
    "        self.prevnode = node\n",
    "        \n",
    "    def getNextNode(self):\n",
    "        \"\"\"\n",
    "        Bir sonraki node değerini adresini döndürüyoruz\n",
    "        \"\"\"\n",
    "        return self.nextnode\n",
    "    \n",
    "    def getPrevNode(self):\n",
    "        \"\"\"\n",
    "        Bir önceki node değerinin adresini döndürüyoruz\n",
    "        \"\"\"\n",
    "        return self.prevnode\n",
    "    \n",
    "    def getNodeValue(self):\n",
    "        \"\"\"\n",
    "        Node içerisinde bulunan değeri return ediyoruz.\n",
    "        \"\"\"\n",
    "        return self.value"
   ]
  },
  {
   "cell_type": "code",
   "execution_count": 8,
   "metadata": {},
   "outputs": [],
   "source": [
    "# node isimleri sehir, node depolanan verisi ise sehir plakari\n",
    "# ankara bolu ve istanbul\n",
    "ankara = doublyLinkedListNode(\"06\")\n",
    "bolu = doublyLinkedListNode(\"14\")\n",
    "istanbul = doublyLinkedListNode(\"34\")"
   ]
  },
  {
   "cell_type": "code",
   "execution_count": 9,
   "metadata": {},
   "outputs": [
    {
     "name": "stdout",
     "output_type": "stream",
     "text": [
      "06\n",
      "14\n",
      "None\n",
      "14\n"
     ]
    }
   ],
   "source": [
    "# ankara => bolu\n",
    "ankara.setNextNode(bolu)\n",
    "# bolu => ankara\n",
    "bolu.setPrevNode(ankara)\n",
    "# ankara <=> bolu   Burada iki yönlü bir değer ayarladık kısacası.\n",
    "print(bolu.getPrevNode().getNodeValue())\n",
    "print(ankara.getNextNode().getNodeValue())\n",
    "\n",
    "# bolu => istanbul\n",
    "bolu.setNextNode(istanbul)\n",
    "print(istanbul.getPrevNode()) # burada istanbuldan önceki node değeri olmadığı için None değeri aldık\n",
    "# istanbul => bolu\n",
    "istanbul.setPrevNode(bolu)\n",
    "print(istanbul.getPrevNode().getNodeValue())"
   ]
  },
  {
   "cell_type": "code",
   "execution_count": 10,
   "metadata": {},
   "outputs": [
    {
     "name": "stdout",
     "output_type": "stream",
     "text": [
      "06\n"
     ]
    }
   ],
   "source": [
    "# istanbul => bolu => ankara\n",
    "print(istanbul.getPrevNode().getPrevNode().getNodeValue())"
   ]
  },
  {
   "cell_type": "markdown",
   "metadata": {},
   "source": [
    "<a id=\"5\"></a>\n",
    "## Linked List İş Mülakatları Soru-Cevap\n",
    "\n",
    "* Linked List Nedir?\n",
    "    * Bir linked list (bağlı liste), her bir düğümün (node) hem bir değer hem de bir sonraki düğümü işaret eden bir referans (pointer) içerdiği bir veri yapısıdır. Bu sayede düğümler, bellekte ardışık olmadan birbirine bağlı şekilde tutulur.\n",
    "\n",
    "* Linked List'in Avantajları ve Dezavantajları:\n",
    "\n",
    "    * Avantajlar:\n",
    "        * Esneklik: Linked listler dinamik bir yapıya sahiptir, yani eleman sayısı önceden belirlenmek zorunda değildir. İhtiyaç duydukça büyüyebilir veya küçülebilir.\n",
    "    \n",
    "    * Dezavantajlar:\n",
    "        * Ekstra Bellek Kullanımı: Her düğüm, bir değer ile birlikte bir referans (pointer) da taşıdığından, ekstra bellek alanı kullanır.\n",
    "        * Zor Erişim: Linked list'te herhangi bir elemana erişmek, array (dizi) kadar hızlı ve kolay değildir. Aradığınız elemana ulaşmak için genellikle listeyi baştan sona dolaşmanız gerekir, bu da zaman alır (O(n)).\n",
    "\n",
    "* Linked List'in Algoritmik Karmaşıklığı (Big-O):\n",
    "\n",
    "    * Eleman Ekleme: Bir linked list'e eleman eklemek (örneğin listenin başına veya sonuna) genellikle O(1) karmaşıklığına sahiptir, yani sabit sürede gerçekleşir ve oldukça hızlıdır.\n",
    "    * <img src=\"big_o_linked_list.jpg\"></img>\n",
    "\n",
    "\n",
    "\n",
    "* Singly Linked List ile Doubly Linked List Arasındaki Farklar:\n",
    "\n",
    "    * Singly Linked List: Bu yapı, her düğümün yalnızca bir sonraki düğümü işaret ettiği (tek yönlü) bir listedir.\n",
    "    * Doubly Linked List: Bu yapıda her düğüm, hem bir önceki hem de bir sonraki düğümü işaret eden iki referans içerir. Böylece listeyi iki yönde de dolaşmak mümkün olur.\n",
    "    * Yön Farkı: Singly Linked List'te sadece ileriye doğru gidilebilirken, Doubly Linked List'te hem ileri hem de geri hareket edilebilir.\n",
    "\n",
    "* Linked List'te Traversal (Gezinme) Nedir?\n",
    "\n",
    "    * Traversal, bir linked list içinde düğümler arasında gezinmek anlamına gelir. Örneğin, belirli bir değeri bulmak için listeyi baştan sona dolaşmak gerektiğinde traversal işlemi yapılır."
   ]
  },
  {
   "cell_type": "markdown",
   "metadata": {},
   "source": [
    "<a id=\"6\"></a>\n",
    "## Linked List Python Challenge/Problem\n",
    "1. Linked List node eklemek:\n",
    "    1. Linked List başından node eklemek\n",
    "    2. Verilen node'dan sonra node eklemek\n",
    "    3. Linked List sonundan node eklemek\n",
    "2. Linked List node silmek"
   ]
  },
  {
   "cell_type": "markdown",
   "metadata": {},
   "source": [
    "### 1) Linked List Node eklemek"
   ]
  },
  {
   "cell_type": "code",
   "execution_count": 20,
   "metadata": {},
   "outputs": [],
   "source": [
    "# node class\n",
    "class Node(object):\n",
    "    \n",
    "    def __init__(self,data):\n",
    "        \"\"\"\n",
    "        node initialize node yarat\n",
    "        \"\"\"\n",
    "        self.data = data\n",
    "        self.next = None"
   ]
  },
  {
   "cell_type": "code",
   "execution_count": 42,
   "metadata": {},
   "outputs": [],
   "source": [
    "# linked list class\n",
    "class LinkedList(object):\n",
    "    \n",
    "    def __init__(self):\n",
    "        \"\"\"\n",
    "        head initializer\n",
    "        \"\"\"\n",
    "        self.head = None\n",
    "    \n",
    "    def push(self,new_data):\n",
    "        \"\"\"\n",
    "        linked list basina node ekler\n",
    "        \"\"\"\n",
    "        new_node=Node(new_data)\n",
    "\n",
    "        # burada değişim yapıyoruz yani yeni gelen değer en başa geçiyor ve artık head oluyor.\n",
    "        new_node.next=self.head\n",
    "\n",
    "        self.head=new_node\n",
    "\n",
    "    def insertAfter(self,prev_node,new_data):\n",
    "        \"\"\"\n",
    "        verilen(prev_node) node'dan sonra yeni node ekle\n",
    "        örneğin biz linkedlist bir node veririz o node değerinden sonra yeni değer ekleriz\n",
    "        \"\"\"\n",
    "        \n",
    "        # prev_node var mi yok mu onu kontrol et\n",
    "        if prev_node is None:\n",
    "            return \"Böyle bir değer yok\"\n",
    "        # yeni node yarat ve icerisine veri koy\n",
    "        new_node = Node(new_data)\n",
    "        \n",
    "        # burada araya değer eklediğimiz için önceki node her neyse onun işaret ettiği değeri artık new node işaret edecek bu sayede araya girmiş olacak\n",
    "        new_node.next=prev_node.next\n",
    "        \n",
    "        # önceki node değerinin next değeri ise artık yeni oluşturduğumuz değer olacak\n",
    "        prev_node.next=new_node\n",
    "        \n",
    "    def append(self,new_data):\n",
    "        \"\"\"\n",
    "        linked list sonuna node eklemek\n",
    "        \"\"\"\n",
    "        # yeni node yarat daha sonra icerisine new_data verisini depola\n",
    "        new_node = Node(new_data)\n",
    "        \n",
    "        # eger linked list bos ise yeni eklenen node head olsun\n",
    "        if self.head is None:\n",
    "            self.head=new_node\n",
    "            return \n",
    "\n",
    "        \n",
    "        # linked list'in head'inden basla sonuna kadar git\n",
    "        last = self.head\n",
    "        while last.next:\n",
    "            last = last.next\n",
    "        \n",
    "        # last.next None. onun yerine new_node ekle\n",
    "        last.next = new_node\n",
    "        \n",
    "    def printLinkedList(self):\n",
    "        \"\"\"\n",
    "        linked list print eder\n",
    "        \"\"\"\n",
    "        temp = self.head\n",
    "        print(\"Linked list: \")\n",
    "        while temp:\n",
    "            print(temp.data)\n",
    "            temp = temp.next\n",
    "            "
   ]
  },
  {
   "cell_type": "code",
   "execution_count": 46,
   "metadata": {},
   "outputs": [
    {
     "name": "stdout",
     "output_type": "stream",
     "text": [
      "Linked list: \n",
      "güre\n",
      "baran\n"
     ]
    }
   ],
   "source": [
    "linked=LinkedList()\n",
    "linked.push(\"baran\")\n",
    "linked.push(\"güre\")\n",
    "linked.printLinkedList()"
   ]
  },
  {
   "cell_type": "code",
   "execution_count": 27,
   "metadata": {},
   "outputs": [
    {
     "name": "stdout",
     "output_type": "stream",
     "text": [
      "Linked list: \n",
      "head\n",
      "25\n",
      "15\n",
      "tail\n"
     ]
    }
   ],
   "source": [
    "linked_list = LinkedList()\n",
    "linked_list.push(\"tail\")\n",
    "linked_list.push(15)\n",
    "linked_list.push(25)\n",
    "linked_list.push(\"head\")\n",
    "linked_list.printLinkedList()\n"
   ]
  },
  {
   "cell_type": "code",
   "execution_count": 30,
   "metadata": {},
   "outputs": [
    {
     "name": "stdout",
     "output_type": "stream",
     "text": [
      "Linked list: \n",
      "head\n",
      "100\n",
      "25\n",
      "100\n",
      "100\n",
      "15\n",
      "tail\n"
     ]
    }
   ],
   "source": [
    "linked_list.insertAfter(linked_list.head.next.next,100)\n",
    "linked_list.printLinkedList()"
   ]
  },
  {
   "cell_type": "code",
   "execution_count": 31,
   "metadata": {},
   "outputs": [
    {
     "name": "stdout",
     "output_type": "stream",
     "text": [
      "Linked list: \n",
      "head\n",
      "100\n",
      "25\n",
      "insert\n",
      "100\n",
      "100\n",
      "15\n",
      "tail\n"
     ]
    }
   ],
   "source": [
    "linked_list.insertAfter(linked_list.head.next.next,\"insert\")\n",
    "linked_list.printLinkedList()"
   ]
  },
  {
   "cell_type": "code",
   "execution_count": 32,
   "metadata": {},
   "outputs": [
    {
     "name": "stdout",
     "output_type": "stream",
     "text": [
      "Linked list: \n",
      "head\n",
      "100\n",
      "25\n",
      "insert\n",
      "100\n",
      "100\n",
      "15\n",
      "tail\n",
      "sona eklenen eleman\n",
      "en sona node ekle\n"
     ]
    }
   ],
   "source": [
    "linked_list.append(\"sona eklenen eleman\")\n",
    "linked_list.append(\"en sona node ekle\")\n",
    "linked_list.printLinkedList()"
   ]
  },
  {
   "cell_type": "code",
   "execution_count": null,
   "metadata": {},
   "outputs": [],
   "source": []
  },
  {
   "cell_type": "markdown",
   "metadata": {},
   "source": [
    "### 2) Linked List node silmek\n",
    "* ankara => bolu => istanbul\n",
    "* key = bolu, linked list icerisinde key degeri bolu olan node'u bul ve sil\n",
    "* ankara => istanbul"
   ]
  },
  {
   "cell_type": "code",
   "execution_count": 35,
   "metadata": {},
   "outputs": [],
   "source": [
    "class Node(object):\n",
    "    \n",
    "    def __init__(self,data):\n",
    "        self.data=data\n",
    "        self.next=None\n"
   ]
  },
  {
   "cell_type": "code",
   "execution_count": 84,
   "metadata": {},
   "outputs": [],
   "source": [
    "# linked list class\n",
    "class LinkedList(object):\n",
    "    \n",
    "    def __init__(self):\n",
    "        self.head=None\n",
    "    \n",
    "    def push(self,new_data):\n",
    "\n",
    "        new_node=Node(new_data)\n",
    "\n",
    "        new_node.next=self.head\n",
    "\n",
    "        self.head=new_node\n",
    "\n",
    "     \n",
    "    def deleteNode(self, key):\n",
    "        \"\"\"\n",
    "        istenilen key'e gore node sil\n",
    "        \"\"\"\n",
    "        temp=self.head\n",
    "\n",
    "        if temp is not None:\n",
    "            if temp.data==key:\n",
    "                self.head=None\n",
    "                temp=self.head\n",
    "                return\n",
    "\n",
    "\n",
    "        while temp is not None:\n",
    "            if temp.data == key:\n",
    "                break\n",
    "            prev=temp\n",
    "            temp=temp.next\n",
    "        \n",
    "        if temp is None:\n",
    "            return\n",
    "        prev.next=temp.next\n",
    "        temp=None\n",
    "\n",
    "    \n",
    "    def append(self,prev_node,new_data):\n",
    "\n",
    "        new_node=Node(new_data)\n",
    "        if prev_node is None:\n",
    "            self.head=new_node\n",
    "            return\n",
    "        \n",
    "        temp=self.head\n",
    "        while temp:\n",
    "            temp=temp.next\n",
    "        \n",
    "        temp.next=new_node\n",
    "\n",
    "      \n",
    "    def printLinkedList(self):\n",
    "\n",
    "        temp=self.head\n",
    "        while temp:\n",
    "            print(temp.data)\n",
    "            temp=temp.next\n"
   ]
  },
  {
   "cell_type": "code",
   "execution_count": 90,
   "metadata": {},
   "outputs": [
    {
     "name": "stdout",
     "output_type": "stream",
     "text": [
      "bursa\n",
      "istanbul\n",
      "ankara\n"
     ]
    }
   ],
   "source": [
    "linked_list = LinkedList()\n",
    "linked_list.push(\"ankara\")\n",
    "linked_list.push(\"istanbul\")\n",
    "linked_list.push(\"bursa\")\n",
    "linked_list.printLinkedList()"
   ]
  },
  {
   "cell_type": "code",
   "execution_count": 91,
   "metadata": {},
   "outputs": [
    {
     "name": "stdout",
     "output_type": "stream",
     "text": [
      "bursa\n",
      "ankara\n"
     ]
    }
   ],
   "source": [
    "linked_list.deleteNode(\"istanbul\")\n",
    "linked_list.printLinkedList()"
   ]
  },
  {
   "cell_type": "markdown",
   "metadata": {},
   "source": [
    "<a id=\"7\"></a>\n",
    "* TAVSİYE: https://www.codingame.com/home"
   ]
  }
 ],
 "metadata": {
  "kernelspec": {
   "display_name": "Python 3",
   "language": "python",
   "name": "python3"
  },
  "language_info": {
   "codemirror_mode": {
    "name": "ipython",
    "version": 3
   },
   "file_extension": ".py",
   "mimetype": "text/x-python",
   "name": "python",
   "nbconvert_exporter": "python",
   "pygments_lexer": "ipython3",
   "version": "3.12.0"
  }
 },
 "nbformat": 4,
 "nbformat_minor": 2
}
