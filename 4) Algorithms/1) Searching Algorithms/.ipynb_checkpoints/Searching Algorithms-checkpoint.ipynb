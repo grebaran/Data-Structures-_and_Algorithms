{
 "cells": [
  {
   "cell_type": "markdown",
   "metadata": {},
   "source": [
    "# Searching Algorithms"
   ]
  },
  {
   "cell_type": "markdown",
   "metadata": {},
   "source": [
    "## İçerik:\n",
    "* [Sequential (Linear) Search with Unordered List](#1)\n",
    "* [Sequential (Linear) Search with Ordered List](#2)\n",
    "* [Binary Search](#3)\n",
    "* [Jump Search](#5)\n",
    "* [Hashing ve Hash Table](#44)\n",
    "* [Searching Algorithms İş Mülakatları Soru-Cevap](#55)\n",
    "* [Searching Algorithms Python Challenge/Problem](#66)\n",
    "* [Neler Öğrendik](#99)"
   ]
  },
  {
   "cell_type": "markdown",
   "metadata": {},
   "source": [
    "<a id=\"1\"></a>\n",
    "## Sequential (Linear) Search with Unordered List\n",
    "* Sequential (Linear) Search, bir liste içindeki elemanları tek tek inceleyerek aradığımız değeri bulmaya çalıştığımız basit bir arama yöntemidir. Bu yöntem özellikle sıralanmamış listeler için kullanışlıdır. Örneğin, elimizde şu şekilde bir sırasız liste olsun:\n",
    "\n",
    "    * [5, 7, 2, 3, 15, 8, 100, 12]\n",
    "\n",
    "* Bu listede 8 sayısını aramak istiyoruz. Sequential Search yöntemi, listenin en başından başlar ve her bir elemanı sırayla kontrol eder. Önce 5'e bakar, 8 mi? Hayır. Sonra 7'ye geçer, yine değil. Bu şekilde 8 sayısını bulana kadar devam ederiz. Eğer aradığımız sayı listede varsa, işlem burada sona erer. Ancak listede yoksa, listenin sonuna kadar bakmaya devam ederiz ve bulamazsak aramanın başarısız olduğunu söyleriz.\n",
    "\n",
    "* Sequential Search yöntemi basit ve anlaşılır bir arama yöntemidir, ancak uzun listelerde biraz yavaş olabilir. Buna rağmen, sırasız listelerle çalışırken pratik ve etkili bir çözüm sunar.\n",
    "* ![Time](unordered_list_analizi.jpg)\n",
    "* En iyi durumda aranan değer bulunur ise complexity of algoritma O(1)\n",
    "* Diğer durumlarda ise complexity of algoritma O(n)"
   ]
  },
  {
   "cell_type": "code",
   "execution_count": 11,
   "metadata": {},
   "outputs": [],
   "source": [
    "def sequentialSearchUnorderedList(liste,value):\n",
    "    \"\"\"\n",
    "    sequantial search for unordered list (sırasız bir liste)\n",
    "    \"\"\"\n",
    "    index = 0\n",
    "    \n",
    "    while index < len(liste):\n",
    "        \n",
    "        if liste[index] == value:\n",
    "            return (True,index)\n",
    "        index += 1\n",
    "    return (False,-1)"
   ]
  },
  {
   "cell_type": "code",
   "execution_count": 13,
   "metadata": {},
   "outputs": [
    {
     "name": "stdout",
     "output_type": "stream",
     "text": [
      "False -1\n"
     ]
    }
   ],
   "source": [
    "liste = [5, 7, 2, 3, 15, 8, 100, 12]\n",
    "found , index = sequentialSearchUnorderedList(liste, 25)\n",
    "print(found,index)"
   ]
  },
  {
   "cell_type": "markdown",
   "metadata": {},
   "source": [
    "<a id=\"2\"></a>\n",
    "* Sequential (Linear) Search yöntemini sıralı (ordered) listelerde kullanmak, sırasız listelere göre biraz daha avantajlıdır çünkü liste düzenlidir.\n",
    "* Yani elemanlar küçükten büyüğe ya da büyükten küçüğe sıralanmıştır. Bu durum, aradığımız değeri bulamadan listede daha büyük bir sayıya rastladığımızda, arama işlemini erken durdurabileceğimiz anlamına gelir.\n",
    "\n",
    "* Örneğin, elimizde şu şekilde sıralı bir liste olsun:\n",
    "     * [2, 3, 5, 7, 8, 12, 15, 100]\n",
    "\n",
    "* Bu listede 8 sayısını aramak istiyoruz. Sequential Search yöntemi, yine listenin başından başlar ve her bir elemanı sırasıyla kontrol eder. 2, 3, 5, 7 derken sonunda 8'e ulaşırız ve arama tamamlanır. Bu durumda işlem başarılıdır.\n",
    "\n",
    "* Ancak, 6 sayısını aradığımızı düşünelim. Yine sırayla 2, 3, 5'e bakarız, ancak 7'ye ulaştığımızda, artık aradığımız sayının listede olamayacağını anlarız. Çünkü 7, 6'dan büyüktür ve listedeki sayıların geri kalanı da daha büyük olacaktır. Bu noktada aramayı durdururuz.\n",
    "\n",
    "* Bu özellik, sıralı listelerdeki Sequential Search'ü, sırasız listelere göre daha verimli hale getirir. Çünkü daha büyük bir sayıya rastladığınız anda aramayı sonlandırabilir ve zaman kazabilirsiniz.\n",
    "* ![Time](ordered_list_analizi.jpg);\n",
    "* En iyi durumda complexity of algoritma O(1)\n",
    "* En kötü durumda ise complexity of algoritma O(n)"
   ]
  },
  {
   "cell_type": "code",
   "execution_count": 20,
   "metadata": {},
   "outputs": [],
   "source": [
    "def sequentialSearchOrderedList(liste,value):\n",
    "    \"\"\"\n",
    "    sequential search for ordered list\n",
    "    \"\"\"\n",
    "    \n",
    "    index = 0\n",
    "    \n",
    "    while index < len(liste):\n",
    "        number=liste[index]\n",
    "        if number == value and number<=value:\n",
    "            return (True,index)\n",
    "        index += 1\n",
    "    return (False,-1)"
   ]
  },
  {
   "cell_type": "code",
   "execution_count": 28,
   "metadata": {},
   "outputs": [
    {
     "name": "stdout",
     "output_type": "stream",
     "text": [
      "True 7\n"
     ]
    }
   ],
   "source": [
    "liste = [2, 3, 5, 7, 8, 12, 15, 100]\n",
    "found,index = sequentialSearchOrderedList(liste,100)\n",
    "print(found,index)"
   ]
  },
  {
   "cell_type": "code",
   "execution_count": null,
   "metadata": {},
   "outputs": [],
   "source": []
  },
  {
   "cell_type": "markdown",
   "metadata": {},
   "source": [
    "<a id=\"3\"></a>\n",
    "## Binary Search\n",
    "* Sıralı (ordered) listelerde kullanılan hızlı ve etkili bir arama yöntemidir. Sequential search gibi tek tek her elemanı kontrol etmez; bunun yerine, ortadan başlayarak arama yapar.\n",
    "\n",
    "* İşte temel mantığı:\n",
    "\n",
    "    * Ortadan Başlama: Binary Search, listeyi ikiye böler ve tam ortadaki elemanı kontrol eder.\n",
    "    * Karşılaştırma: Eğer aradığınız değer, ortadaki değerse, arama tamamlanır. Eğer aradığınız değer ortadaki değerden küçükse, listenin sol yarısında aramaya devam eder. Büyükse, sağ yarısına geçer.\n",
    "    * Tekrar Bölme: Bu süreç, liste tek bir eleman kalana kadar tekrarlanır. Her adımda listeyi yarıya indirerek, aranan değere çok daha hızlı ulaşır.\n",
    "    * Örneğin, [2, 3, 5, 7, 8, 12, 15, 100] gibi sıralı bir liste düşünelim ve 8 sayısını arayalım:\n",
    "        * İlk olarak ortadaki eleman olan 7'yi kontrol ederiz. 8, 7'den büyük olduğu için aramayı sağ yarıda devam ettiririz.\n",
    "        * Sağ yarıdan ortadaki eleman olan 12'yi kontrol ederiz. 8, 12'den küçük olduğu için bu sefer sol yarıya geçeriz.\n",
    "        * Son olarak, 8'e ulaşıp aramayı tamamlarız.\n",
    "        * Bu yöntem, özellikle büyük listelerde aramayı çok daha hızlı hale getirir, çünkü her adımda listeyi yarıya indirerek ilerler.\n",
    "* ![Time](binarys.jpg)\n",
    "* Binary search divide and conquer(böl ve fethet) mantığı ile çalışır.\n",
    "* Binary search complexity of algorithm logarithmic big O yani O(log n). n bir listedeki eleman sayısı"
   ]
  },
  {
   "cell_type": "code",
   "execution_count": null,
   "metadata": {},
   "outputs": [],
   "source": []
  },
  {
   "cell_type": "code",
   "execution_count": 151,
   "metadata": {},
   "outputs": [],
   "source": [
    "def binarySearch(liste,value):\n",
    "    \"\"\"\n",
    "    binary search for sorted array (sirali liste)\n",
    "    \"\"\"\n",
    "    index=int(len(liste)//2)\n",
    "    last_index=index\n",
    "    while len(liste)>1:\n",
    "        if liste[index]<value:\n",
    "            liste=liste[index:]\n",
    "            index=len(liste)//2\n",
    "            last_index+=index\n",
    "            continue\n",
    "            \n",
    "        elif liste[index]>value:\n",
    "            liste=liste[:index]\n",
    "            index=len(liste)//2\n",
    "            last_index-=index\n",
    "            continue\n",
    "        return (True,last_index)\n",
    "    return False,-1\n",
    "    "
   ]
  },
  {
   "cell_type": "code",
   "execution_count": 153,
   "metadata": {},
   "outputs": [
    {
     "data": {
      "text/plain": [
       "(True, 4)"
      ]
     },
     "execution_count": 153,
     "metadata": {},
     "output_type": "execute_result"
    }
   ],
   "source": [
    "liste = [3,6,11,12,18,21,34]\n",
    "binarySearch(liste,18)"
   ]
  },
  {
   "cell_type": "code",
   "execution_count": 155,
   "metadata": {},
   "outputs": [
    {
     "data": {
      "text/plain": [
       "(False, -1)"
      ]
     },
     "execution_count": 155,
     "metadata": {},
     "output_type": "execute_result"
    }
   ],
   "source": [
    "liste = [3,6,11,12,18,21,34]\n",
    "binarySearch(liste,2)"
   ]
  },
  {
   "cell_type": "markdown",
   "metadata": {},
   "source": [
    "<a id=\"5\"></a>\n",
    "## Jump Search\n",
    "* Sıralı listelerde arama yaparken, adım adım ilerlemek yerine belirli bir \"zıplama\" (step size) yaparak arama sürecini hızlandıran bir yöntemdir. Bu yöntem, özellikle büyük listelerde Sequential Search’e göre daha verimli olabilir, çünkü aramayı hızlandırmak için belirli aralıklarda atlayarak ilerler.\n",
    "\n",
    "* Nasıl Çalışır?\n",
    "    1) Adım Büyüklüğünü Belirleme: Listeyi belirli bir adım büyüklüğüne (genellikle listenin uzunluğunun karekökü kadar) göre bölerek zıplamalar yapar.\n",
    "    2) Zıplama Yapma: Başlangıçtan itibaren adım büyüklüğü kadar zıplayarak ilerler. Aradığınız değerin, zıplama sonucunda ulaşılan değerden küçük olduğunu fark ettiğinizde, geriye dönüp daha küçük bir aralıkta aramaya başlarsınız.\n",
    "    3) Linear Search: Son zıpladığınız aralığın içinde, Sequential Search (tek tek ilerleyerek) ile arama yaparak sonuca ulaşırsınız.\n",
    " \n",
    "  \n",
    "* Örnek: Elinizde sıralı bir liste olsun: [0, 1, 2, 3, 4, 5, 6, 7, 8] ve aradığınız sayı 5.\n",
    "* Adım 1: Index 0’dan başlayarak 3 adım atladınız ve index 3’e ulaştınız. 3 değeri, 5’ten küçük.\n",
    "* Adım 2: Bir sonraki 3 adım atlayarak index 6’ya ulaştınız. Ancak 6, 5’ten büyük olduğu için durdunuz.\n",
    "* Adım 3: 5, index 3 ve index 6 arasında olduğundan, bu aralıkta adım adım ilerleyerek, 5’i bulana kadar Linear Search yaptınız.\n",
    "\n",
    "* Jump Search, listeyi hızlıca bölüp küçülterek arama yapar, bu da Sequential Search’e göre daha az karşılaştırma yapmanızı sağlar. Ancak adım büyüklüğünün iyi seçilmesi performansı etkileyebilir.\n",
    "    * ![Time](jump.jpg)\n",
    "* Jump Search'ün time complexity'si Linear Search(O(n)) ve Binary Search(O(Log n)) arasındadır. Yani Linear Search Den iyi Binary Search'den kötüdür."
   ]
  },
  {
   "cell_type": "code",
   "execution_count": 259,
   "metadata": {},
   "outputs": [],
   "source": [
    "\n",
    "def jumpSearch(liste,value):\n",
    "    \"\"\"\n",
    "    jump search for sorted array (sirali list)\n",
    "    \"\"\"\n",
    "    length=len(liste)\n",
    "    atlama_value=int(length**0.5)\n",
    "    atlama=atlama_value\n",
    "    while length>=atlama:\n",
    "        \n",
    "        deger=min(atlama,length)-1\n",
    "        number=liste[deger]\n",
    "        if number>value:\n",
    "            atlama-=1\n",
    "        elif number<value:\n",
    "            atlama+=atlama_value   \n",
    "        else:\n",
    "            return True,atlama\n",
    "    return False,-1"
   ]
  },
  {
   "cell_type": "code",
   "execution_count": 265,
   "metadata": {},
   "outputs": [
    {
     "data": {
      "text/plain": [
       "(True, 12)"
      ]
     },
     "execution_count": 265,
     "metadata": {},
     "output_type": "execute_result"
    }
   ],
   "source": [
    "liste = [0,1,2,3,4,5,6,7,8,18,21,45]\n",
    "jumpSearch(liste,45)"
   ]
  },
  {
   "cell_type": "markdown",
   "metadata": {},
   "source": [
    "<a id=\"44\"></a>\n",
    "## Hashing\n",
    "* Diğer arama algoritmalarından farklı olarak, O(1) karmaşıklığına sahip bir veri yapısı elde etmemizi sağlayan bir konsepttir. Bu yapı, değerleri daha sonra hızlıca bulmamıza yardımcı olan \"Hash Table\" olarak adlandırılır.\n",
    "\n",
    "* Bir hash tablosunda her bir konum, \"slot\" olarak adlandırılır ve bu slotlar, aslında boş bir liste gibi düşünülebilir. Örneğin, 10 tane boş slotu olan bir hash tablosu düşünebilirsiniz.\n",
    "* <img src=\"hash_e.jpg\"></img>\n",
    "\n",
    "* Hash Function (Hash Fonksiyonu)\n",
    "    * Hash fonksiyonu, slotlar ile bu slotlara yerleştirilecek öğeler arasında bir bağlantı (mapping) kurar. Hash fonksiyonu, bir öğeyi alır ve bu öğenin hangi slotta yer alacağını belirler. Örneğin, \"remainder method\" adı verilen bir yöntemle, bir öğenin hangi slota yerleşeceğini bulabiliriz.\n",
    "    * Diyelim ki elimizde n=8 boyutunda bir boş hash tablosu var ve içine yerleştirmek istediğimiz bir liste mevcut: [44, 36, 83, 27, 67, 41]. Bu durumda, her bir öğe için hash değeri şu şekilde hesaplanabilir:\n",
    "        * h(item) = item % n. Bu formül, öğenin hangi slota yerleşeceğini belirler.\n",
    "\n",
    "* Collusion (Çakışma)\n",
    "    * Hash tablosunda bazen birden fazla öğe aynı slota yerleşmeye çalışabilir. Bu duruma \"çakışma\" denir. Çakışma durumunda, bir slota bağlı birden fazla öğe için \"linked list\" yapısı kullanılır. Ancak, hash fonksiyonunu etkili bir şekilde kullanarak, çakışmaları minimize etmeyi ve her slota yalnızca bir öğe atamayı hedefleriz. Bu sayede arama işlemlerini O(1) yani sabit zaman karmaşıklığında gerçekleştirebiliriz.\n",
    "    * <img src=\"hashf.jpg\"></img>\n",
    "\n",
    "Hash tabloları, verileri hızlı bir şekilde aramak ve almak için harika bir yapı sunar. Karmaşık listelerle uğraşmadan, doğru slotta doğru değeri bulmanızı sağlar."
   ]
  },
  {
   "cell_type": "markdown",
   "metadata": {
    "jp-MarkdownHeadingCollapsed": true
   },
   "source": [
    "<a id=\"55\"></a>\n",
    "## Searching Algorithms İş Mülakatları Soru-Cevap\n",
    "\n",
    "* Algoritma (Algorithm) Nedir?\n",
    "    * Algoritma, belirli bir girdi (input) alıp bu girdiyi bir çıktı (output) haline getiren, adım adım tanımlanmış bir hesaplama prosedürüdür. Bir algoritma, girişi işleyerek çıktıya dönüştüren bir işlem dizisidir. (Kaynak: Introduction to Algorithms 3rd Edition by CLRS)\n",
    "\n",
    "* Binary Search (İkili Arama) Nedir?\n",
    "    * Binary search, sıralı (ordered) bir dizide arama yapmak için kullanılan etkili bir yöntemdir. İlk olarak, dizinin ortasındaki değeri kontrol ederiz. Eğer aradığımız değer bu ortadaki değerden büyükse, aramamızı dizinin üst yarısına (upper half) kaydırırız ve alt yarıyı (lower half) eleyip ortasındaki değere bakarız. Aradığımız değer küçükse, üst yarıyı eleyip alt yarı üzerinde aramaya devam ederiz. Bu süreç, aradığımız değeri bulana kadar tekrarlanır.\n",
    "\n",
    "* Binary Search'ün Time Complexity (Zaman Karmaşıklığı) Nedir?\n",
    "    * Binary search, genellikle rekürsiyon (recursion) ile uygulanır ve bu durumda zaman karmaşıklığı O(Log n) olarak hesaplanır. (n: dizideki eleman sayısı)\n",
    "\n",
    "* Binary Search ile Linked List'te Arama Yapılabilir mi?\n",
    "    * Hayır, yapılamaz. Binary search, dizinin ortasındaki değeri doğrudan erişmeye ihtiyaç duyar, ancak linked list'te rastgele erişim (random access) mümkün değildir, bu nedenle binary search uygulanamaz.\n",
    "\n",
    "* Hash Algorithm (Hash Fonksiyonu) Nerelerde Kullanılır, Bir Örnek Verin?\n",
    "    * Hash algoritmaları, genellikle şifre doğrulama (password verification) ve veritabanı indeksleme (database indexing) gibi alanlarda kullanılır. Örneğin, kullanıcı şifrelerinin güvenli bir şekilde saklanması ve karşılaştırılması için hash fonksiyonları kullanılır.\n",
    "\n",
    "* Algoritmalarda Best Case (En İyi Durum) ve Worst Case (En Kötü Durum) Senaryolarının Tanımları Nedir?\n",
    "    * Best Case (En İyi Durum): Algoritmanın en hızlı şekilde çalıştığı durumdur. Örneğin, binary search'ün aradığımız değerin dizinin ortasında bulunması durumu en iyi durumdur.\n",
    "    * Worst Case (En Kötü Durum): Algoritmanın en yavaş çalıştığı durumdur. Örneğin, binary search'te aradığımız değerin dizinin en sonunda bulunması en kötü durumdur."
   ]
  },
  {
   "cell_type": "markdown",
   "metadata": {},
   "source": [
    "<a id=\"66\"></a>\n",
    "## Searching Algorithms Python Challenge/Problem\n",
    "1. Binary Search with recursion(özyineleme)"
   ]
  },
  {
   "cell_type": "markdown",
   "metadata": {},
   "source": [
    "### 1) Binary Search with recursion"
   ]
  },
  {
   "cell_type": "code",
   "execution_count": 319,
   "metadata": {},
   "outputs": [],
   "source": [
    "def rec_binary_search(arr,ele):\n",
    "    \"\"\"\n",
    "    binary search with recursion\n",
    "    \"\"\"\n",
    "    if len(arr)==1:\n",
    "        return False\n",
    "    mid=len(arr)//2\n",
    "    if arr[mid]>ele:\n",
    "        return rec_binary_search(arr[:mid],ele)\n",
    "    elif arr[mid]<ele:\n",
    "        return rec_binary_search(arr[mid+1:],ele)\n",
    "    elif arr[mid]==ele:\n",
    "        return True\n",
    "    return False\n",
    "    "
   ]
  },
  {
   "cell_type": "code",
   "execution_count": 323,
   "metadata": {},
   "outputs": [
    {
     "data": {
      "text/plain": [
       "False"
      ]
     },
     "execution_count": 323,
     "metadata": {},
     "output_type": "execute_result"
    }
   ],
   "source": [
    "liste = [3,6,11,12,18,21,34]\n",
    "rec_binary_search(liste,7)"
   ]
  }
 ],
 "metadata": {
  "kernelspec": {
   "display_name": "Python 3 (ipykernel)",
   "language": "python",
   "name": "python3"
  },
  "language_info": {
   "codemirror_mode": {
    "name": "ipython",
    "version": 3
   },
   "file_extension": ".py",
   "mimetype": "text/x-python",
   "name": "python",
   "nbconvert_exporter": "python",
   "pygments_lexer": "ipython3",
   "version": "3.11.9"
  }
 },
 "nbformat": 4,
 "nbformat_minor": 4
}
