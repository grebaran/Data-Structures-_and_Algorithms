{
 "cells": [
  {
   "cell_type": "markdown",
   "metadata": {},
   "source": [
    "# Sorting Algorithms"
   ]
  },
  {
   "cell_type": "markdown",
   "metadata": {},
   "source": [
    "## İçerik\n",
    "* [Bubble Sort](#1)\n",
    "* [Bubble Sort with Python](#2)\n",
    "* [Merge Sort](#3)\n",
    "* [Merge Sort with Python](#4)\n",
    "* [Insertion Sort](#5)\n",
    "* [Insertion Sort with Python](#6)\n",
    "* [Selection Sort](#7)\n",
    "* [Selection Sort with Python](#8)\n",
    "* [Counting Sort](#9)\n",
    "* [Counting Sort with Python](#10)\n",
    "* [Quick Sort](#11)\n",
    "* [Quick Sort with Python](#12)\n",
    "* [Heap Sort](#13)\n",
    "* [Sorting Algorithms İş Mülakatları Soru-Cevap](#55)\n",
    "* [Sorting Algorithms Python Challenge/Problem](#66)\n",
    "* [Neler Öğrendik](#99)\n"
   ]
  },
  {
   "cell_type": "markdown",
   "metadata": {},
   "source": [
    "<a id=\"1\"></a>\n",
    "### Bubble Sort\r\n",
    "\r\n",
    "**Bubble Sort**, bir listeyi sıralamak için kullanılan basit ve sezgisel bir algoritmadır. Bu algoritmanın çalışma prensibi oldukça anlaşılır:\r\n",
    "\r\n",
    "1. **İki Ardışık Elemanı Karşılaştırma:** Algoritma, listenin başından itibaren iki ardışık öğeyi karşılaştırır. Eğer bu iki öğe sıralı değilse (yani ilk öğe ikinci öğeden büyükse), bu iki öğeyi takas eder.\r\n",
    "\r\n",
    "2. **Geçiş Yapma:** Bu işlem listenin sonuna kadar devam eder. Her geçişte, en büyük öğe \"baloncuk\" gibi listeye yükselir ve en sona doğru ilerler.\r\n",
    "\r\n",
    "3. **Listeyi Tekrar Kontrol Etme:** İlk geçiş tamamlandıktan sonra, en büyük öğe listenin sonunda yer alır. Sonraki geçişlerde, son öğe dikkate alınmadan aynı işlemler tekrar edilir. Bu süreç, listenin tüm öğeleri sıralanana kadar devam eder.\r\n",
    "\r\n",
    "4. **Sıralama Tamamlanır:** Liste tamamen sıralandıktan sonra, her iki ardışık öğe arasında yapılacak daha fazla takas kalmadığından emin olunur.\r\n",
    "\r\n",
    "### Örnekle Açıklama\r\n",
    "\r\n",
    "Diyelim ki elimizde şu liste var: `[4, 3, 2, 1]`\r\n",
    "\r\n",
    "1. **İlk Geçiş:**\r\n",
    "   - Karşılaştırma ve takaslar yapılır:\r\n",
    "     - `[4, 3, 2, 1]` → `[3, 4, 2, 1]` (4 ve 3 takas edildi)\r\n",
    "     - `[3, 4, 2, 1]` → `[3, 2, 4, 1]` (4 ve 2 takas edildi)\r\n",
    "     - `[3, 2, 4, 1]` → `[3, 2, 1, 4]` (4 ve 1 takas edildi)\r\n",
    "   - En büyük değer (4) en sona geldi.\r\n",
    "\r\n",
    "2. **İkinci Geçiş:**\r\n",
    "   - Liste son iki elemanı (4) dikkate alınarak tekrar kontrol edilir:\r\n",
    "     - `[3, 2, 1, 4]` → `[2, 3, 1, 4]` (3 ve 2 takas edildi)\r\n",
    "     - `[2, 3, 1, 4]` → `[2, 1, 3, 4]` (3 ve 1 takas edildi)\r\n",
    "   - Şimdi, en büyük iki değer (3 ve 4) doğru yerlerine yerleşti.\r\n",
    "\r\n",
    "3. **Üçüncü Geçiş:**\r\n",
    "   - Liste daha az sayıda eleman için kontrol edilir:\r\n",
    "     - `[2, 1, 3, 4]` → `[1, 2, 3, 4]` (2 ve 1 takas edildi)\r\n",
    "\r\n",
    "4. **Sonuç:**\r\n",
    "   - Liste tamamen sıralandı ve `[1, 2, 3, 4]` oldu.\r\n",
    "\r\n",
    "Bubble Sort, küçük veri setlerinde anlaşılması ve uygulanması kolay bir algoritma olarak öne çıkar. Ancak, büyük veri setlerinde verimliliği düşük olabilir çünkü en kötü durumda zaman karmaşıklığı O(n²) olabilir. Yine de, algoritmanın temel mantığını kavramak ve basit sıralama işlemlerinde kullanmak için oldukça yararlıdır.\n",
    "\n",
    "\n",
    "\n",
    "\n",
    "* Tavsiye: https://visualgo.net/en/sorting"
   ]
  },
  {
   "cell_type": "markdown",
   "metadata": {},
   "source": [
    "<a id=\"2\"></a>\n",
    "## Bubble Sort with Python"
   ]
  },
  {
   "cell_type": "code",
   "execution_count": 155,
   "metadata": {},
   "outputs": [],
   "source": [
    "def bubbleSortAlgorithm(arr):\n",
    "    \"\"\"\n",
    "    bubble sort\n",
    "    \"\"\"\n",
    "    length=len(arr)-1\n",
    "    i=0\n",
    "    while length!=1:\n",
    "        if arr[i]>arr[i+1]:\n",
    "            arr[i],arr[i+1]=arr[i+1],arr[i]\n",
    "        i+=1\n",
    "        if i == length:\n",
    "            i=0\n",
    "            length-=1\n",
    "        \n",
    "        \n",
    "    return arr"
   ]
  },
  {
   "cell_type": "code",
   "execution_count": 159,
   "metadata": {},
   "outputs": [
    {
     "data": {
      "text/plain": [
       "[1, 1, 2, 3, 5, 6, 7, 13, 14, 18, 20, 21]"
      ]
     },
     "execution_count": 159,
     "metadata": {},
     "output_type": "execute_result"
    }
   ],
   "source": [
    "arr = [1,3,2,13,1,14,6,5,7,18,21,20]\n",
    "bubbleSortAlgorithm(arr)"
   ]
  },
  {
   "cell_type": "code",
   "execution_count": 163,
   "metadata": {},
   "outputs": [
    {
     "name": "stdout",
     "output_type": "stream",
     "text": [
      "5.33 μs ± 156 ns per loop (mean ± std. dev. of 7 runs, 100,000 loops each)\n"
     ]
    }
   ],
   "source": [
    "%timeit bubbleSortAlgorithm(arr)"
   ]
  },
  {
   "cell_type": "markdown",
   "metadata": {},
   "source": [
    "<a id=\"4\"></a>\n",
    "## Merge Sort with Python"
   ]
  },
  {
   "cell_type": "markdown",
   "metadata": {},
   "source": [
    "<a id=\"3\"></a>\n",
    "### Merge Sort Nedir?\r\n",
    "**Merge Sort**, \"böl ve fethet\" (divide and conquer) stratejisiyle çalışan, oldukça verimli bir sıralama algoritmasıdır. Bu algoritma, bir diziyi ikiye böler ve her iki yarıyı ayrı ayrı sıralar, ardından bu sıralı yarıları birleştirerek (merge) tam sıralı bir dizi elde eder. Merge Sort'un en önemli avantajı, en kötü durumda bile `O(n log n)` zaman karmaşıklığına sahip olmasıdır.\r\n",
    "\r\n",
    "### Merge Sort Nasıl Çalışır?\r\n",
    "\r\n",
    "1. **Bölme (Divide):** Dizi iki alt diziye bölünür. Bu işlem, alt dizilerin boyutu 1 olana kadar tekrar edilir.\r\n",
    "2. **Fethetme (Conquer):** Alt diziler sıralanır. Eğer alt dizi boyutu 1'se, zaten sıralı olduğu varsayılır.\r\n",
    "3. **Birleştirme (Merge):** Sıralı alt diziler birleştirilir, bu sayede tam sıralı bir dizi elde edilir.\r\n",
    "\r\n",
    "### Merge Sort Adımlarıyla Örnek:\r\n",
    "Başlangıç dizisi: `[12, 11, 13, 5, 6, 7]`\r\n",
    "\r\n",
    "1. Diziyi ikiye bölün: `[12, 11, 13]` ve `[5, 6, 7]`\r\n",
    "2. Her iki yarıyı tekrar ikiye bölün:\r\n",
    "   - `[12, 11, 13]` → `[12]` ve `[11, 13]`\r\n",
    "   - `[5, 6, 7]` → `[5]` ve `[6, 7]`\r\n",
    "3. Sıralayın ve birleştirin:\r\n",
    "   - `[11, 12, 13]`\r",
    "4.  - `[5, 6, 7]`\r\n",
    "4. Son olarak, iki sıralı \n",
    "     yı`[5, 6, 7, 11, 12, 13]` raladığını gösterir."
   ]
  },
  {
   "cell_type": "code",
   "execution_count": 153,
   "metadata": {},
   "outputs": [
    {
     "name": "stdout",
     "output_type": "stream",
     "text": [
      "Values: [6] [9]\n",
      "Values: [5] [6, 9]\n",
      "Values: [8] [4]\n",
      "Values: [13] [11]\n",
      "Values: [4, 8] [11, 13]\n",
      "Values: [5, 6, 9] [4, 8, 11, 13]\n"
     ]
    },
    {
     "data": {
      "text/plain": [
       "[4, 5, 6, 8, 9, 11, 13]"
      ]
     },
     "execution_count": 153,
     "metadata": {},
     "output_type": "execute_result"
    }
   ],
   "source": [
    "\n",
    "def merge_sort(arr):\n",
    "    if len(arr) > 1:\n",
    "\n",
    "\n",
    "        # Diziyi ortadan ikiye bölüyoruz\n",
    "        mid = int(len(arr) / 2)\n",
    "        left_half = arr[:mid]\n",
    "        right_half = arr[mid:]\n",
    "\n",
    "        merge_sort(left_half)\n",
    "        merge_sort(right_half)\n",
    "        print(\"Values:\",left_half,right_half)\n",
    "\n",
    "        \n",
    "        i=0\n",
    "        j=0\n",
    "        k=0\n",
    "        while i<len(left_half) and j<len(right_half):\n",
    "            if left_half[i]<right_half[j]:\n",
    "                arr[k]=left_half[i]\n",
    "                i+=1\n",
    "            else:\n",
    "                arr[k]=right_half[j]\n",
    "                j+=1\n",
    "            k+=1\n",
    "        while i<len(left_half):\n",
    "            arr[k]=left_half[i]\n",
    "            k+=1\n",
    "            i+=1\n",
    "        while j<len(right_half):\n",
    "            arr[k]=right_half[j]\n",
    "            k+=1\n",
    "            j+=1\n",
    "            \n",
    "        \n",
    "\n",
    "    # İki yarıyı birleştiriyoruz\n",
    "    return arr\n",
    "\n",
    "    \n",
    "merge_sort([5, 6, 9, 8, 4, 13,11])"
   ]
  },
  {
   "cell_type": "markdown",
   "metadata": {},
   "source": [
    "<a id=\"5\"></a>\n",
    "### Insertion Sort Nedir?\r\n",
    "Insertion sort, sıralama algoritmaları arasında basit ve anlaşılır bir yaklaşıma sahip bir algoritmadır. Temel olarak, küçük bir alt listeyi (sub list) sıralı tutarken geri kalan elemanları tek tek bu listeye ekleyerek ilerler. Bir nevi, kart oynarken kartları sıralı bir şekilde elimize almak gibidir. İlk eleman zaten sıralıdır ve her yeni eleman sıralı alt listeye yerleştirilir.\r\n",
    "\r\n",
    "### Nasıl Çalışır?\r\n",
    "\r\n",
    "1. **Başlangıçta bir alt liste oluştururuz**:\r\n",
    "   Algoritma, dizinin ilk elemanını alır ve bunu bir alt liste (sub list) olarak kabul eder. Çünkü tek bir eleman zaten sıralıdır.\r\n",
    "\r\n",
    "2. **Geri kalan elemanlar teker teker sıralı alt listeye eklenir**:\r\n",
    "   Dizideki her yeni eleman, sıralı alt listede uygun bir pozisyon bulana kadar alt liste ile karşılaştırılır ve uygun yere yerleştirilir.\r\n",
    "\r\n",
    "3. **Alt liste her eklemeyle genişler**:\r\n",
    "   Sıralı alt liste her yeni eklenen elemanla büyür ve bir süre sonra dizinin tamamı sıralı hale gelir.\r\n",
    "\r\n",
    "### Örnek Üzerinden Açıklama\r\n",
    "\r\n",
    "Diyelim ki elimizde şu liste var:\r\n",
    "```\r\n",
    "[9, 3, 7, 5, 6]\r\n",
    "```\r\n",
    "\r\n",
    "Bu listeyi insertion sort ile nasıl sıralayacağımızı adım adım görelim:\r\n",
    "\r\n",
    "1. **Adım 1**: İlk eleman olan `9` zaten sıralıdır.\r\n",
    "   - **Sıralı alt liste**: `[9]`\r\n",
    "   - Şu anda yalnızca ilk eleman olan `9` alt listede yer alıyor, çünkü tek başına sıralı kabul edilir.\r\n",
    "\r\n",
    "2. **Adım 2**: İkinci eleman `3` alt listeye eklenir.\r\n",
    "   - Şimdi `3`, sıralı alt listeye eklenmek zorunda. `3` ile alt listedeki `9` karşılaştırılır.\r\n",
    "   - `3`, `9`dan küçük olduğu için, `3` alt listeye `9`dan önce yerleştirilir.\r\n",
    "   - **Sıralı alt liste**: `[3, 9]`\r\n",
    "\r\n",
    "3. **Adım 3**: Üçüncü eleman `7` eklenir.\r\n",
    "   - `7`, sıralı alt listeyle karşılaştırılır: Önce `3` ile karşılaştırılır ve `7` büyük olduğu için sonraki eleman olan `9` ile karşılaştırılır.\r\n",
    "   - `7`, `9`dan küçük olduğu için `7`, `9`dan önce alt listeye eklenir.\r\n",
    "   - **Sıralı alt liste**: `[3, 7, 9]`\r\n",
    "\r\n",
    "4. **Adım 4**: Dördüncü eleman `5` eklenir.\r\n",
    "   - `5`, alt listede uygun yere yerleştirilecek. `5` önce `3` ile karşılaştırılır, `3`ten büyük olduğu için sonraki eleman olan `7` ile karşılaştırılır.\r\n",
    "   - `5`, `7`den küçük olduğu için `7`'nin önüne yerleştirilir.\r\n",
    "   - **Sıralı alt liste**: `[3, 5, 7, 9]`\r\n",
    "\r\n",
    "5. **Adım 5**: Son eleman `6` eklenir.\r\n",
    "   - `6`, sıralı alt listede uygun yere yerleştirilmelidir. Önce `3` ile karşılaştırılır, `5` ile karşılaştırılır, `6` daha büyük olduğu için `7` ile karşılaştırılır.\r\n",
    "   - `6`, `7`'den küçük olduğu için `7`'den önce yerleştirilir.\r\n",
    "   - **Sıralı alt liste**: `[3, 5, 6, 7, 9]`\r\n",
    "\r\n",
    "### Özet:\r\n",
    "- Her adımda alt liste büyür ve her yeni eleman sıralı alt listeye uygun yere eklenir.\r\n",
    "- Algoritma, her yeni elemanı alt listeyle karşılaştırarak doğru pozisyonu bulur.\r\n",
    "- Bu şekilde, dizi adım adım sıralanmış olur.\r\n",
    "\r\n",
    "Bu algoritmanın avantajı, zaten neredeyse sıralı dizilerde çok hızlı çalışmasıdır. Dezavantajı ise, büyük ve rastgele sıralı dizilerde daha yavaş çalışabilmesidir.\n"
   ]
  },
  {
   "cell_type": "code",
   "execution_count": 170,
   "metadata": {},
   "outputs": [
    {
     "data": {
      "text/plain": [
       "[1, 0, 1, 5]"
      ]
     },
     "execution_count": 170,
     "metadata": {},
     "output_type": "execute_result"
    }
   ],
   "source": [
    "a=[1,1,5]\n",
    "a.insert(1,0)\n",
    "a"
   ]
  },
  {
   "cell_type": "markdown",
   "metadata": {},
   "source": [
    "<a id=\"6\"></a>\n",
    "## Insertion Sort with Python"
   ]
  },
  {
   "cell_type": "code",
   "execution_count": 278,
   "metadata": {},
   "outputs": [
    {
     "data": {
      "text/plain": [
       "[4, 5, 6, 8, 9, 11, 13]"
      ]
     },
     "execution_count": 278,
     "metadata": {},
     "output_type": "execute_result"
    }
   ],
   "source": [
    "def insertion_sort(arr):\n",
    "    boole=True\n",
    "    new_arr=[arr[0]]\n",
    "    for i in range(1,len(arr)):\n",
    "        for j in range(0,i):\n",
    "            if arr[i]<new_arr[j]:\n",
    "                new_arr.insert(j,arr[i])\n",
    "                boole=False\n",
    "                break\n",
    "        if boole==True:\n",
    "            new_arr.append(arr[i])\n",
    "        boole=True\n",
    "    return new_arr\n",
    "insertion_sort([5, 6, 9, 8, 4, 13,11])   "
   ]
  },
  {
   "cell_type": "code",
   "execution_count": 280,
   "metadata": {},
   "outputs": [
    {
     "name": "stdout",
     "output_type": "stream",
     "text": [
      "2.9 μs ± 64.8 ns per loop (mean ± std. dev. of 7 runs, 100,000 loops each)\n"
     ]
    }
   ],
   "source": [
    "%timeit insertion_sort([5, 6, 9, 8, 4, 13,11])"
   ]
  },
  {
   "cell_type": "markdown",
   "metadata": {},
   "source": [
    "<a id=\"7\"></a>\n",
    "## Selection Sort\n",
    "* Sıralı olmayan bir listem var.\n",
    "* Bu listenin içerisinde en küçük değeri bulup index 0'a atarım.\n",
    "* Daha sonra bir sonraki en küçük değeri bularak aramama devam ederim."
   ]
  },
  {
   "cell_type": "markdown",
   "metadata": {},
   "source": [
    "<a id=\"8\"></a>\n",
    "### Selection Sort Algoritması\r\n",
    "\r\n",
    "Selection Sort, bir diziyi sıralarken adım adım en küçük (veya en büyük) öğeyi bulup onu doğru pozisyonuna yerleştirerek çalışan bir sıralama algoritmasıdır. İşleyişi şu şekilde açıklanabilir:\r\n",
    "\r\n",
    "1. **Başlangıç Noktası**: Elimizde sıralanmamış bir liste var. Amacımız bu listeyi artan (veya azalan) sıraya göre sıralamak.\r\n",
    "   \r\n",
    "2. **En Küçük Değeri Bulma**: İlk olarak, listenin tamamına bakarak en küçük değeri buluruz ve bu değeri listenin en başındaki öğe ile yer değiştiririz. Bu şekilde listenin başında artık doğru pozisyonda bir öğe bulunur.\r\n",
    "\r\n",
    "3. **Aramaya Devam Etme**: Sonra ikinci pozisyona geçip kalan liste içerisinde en küçük değeri ararız. Bulduğumuz değeri ikinci pozisyonla yer değiştiririz. Yani, ilk öğeyi sabitleyip kalan liste üzerinde yeniden en küçük değeri aramaya devam ederiz.\r\n",
    "\r\n",
    "4. **Bu Adımları Tekrar Etme**: Bu işlemi, listenin son öğesine kadar tekrar ederiz. Her adımda bir öğe doğru pozisyonuna yerleştirilir, böylece liste adım adım sıralanır.\r\n",
    "\r\n",
    "### Örnek Üzerinden Açıklama:\r\n",
    "Diyelim ki sıralanmamış bir listemiz var: `[29, 10, 14, 37, 13]`\r\n",
    "\r\n",
    "1. **İlk adımda** tüm listeye bakarak en küçük değeri buluruz: `10`. Bu değeri listenin en başındaki öğe (`29`) ile yer değiştiririz. Liste şöyle olur: `[10, 29, 14, 37, 13]`.\r\n",
    "   \r\n",
    "2. **İkinci adımda** 29'dan sonraki öğelere bakarak en küçük değeri ararız. En küçük değer `13`'tür. `13`'ü ikinci pozisyondaki (`29`) öğe ile yer değiştiririz. Liste şu hale gelir: `[10, 13, 14, 37, 29]`.\r\n",
    "\r\n",
    "3. **Üçüncü adımda** kalan öğeler (14, 37, 29) arasında en küçük olanı buluruz. Zaten `14` en küçük değerdir, bu yüzden bir değişiklik yapmamıza gerek yoktur. Liste aynı kalır: `[10, 13, 14, 37, 29]`.\r\n",
    "\r\n",
    "4. **Dördüncü adımda** son iki öğe (37 ve 29) arasında en küçük olanı buluruz: `29`. Bunu `37` ile yer değiştiririz. Son liste şu olur: `[10, 13, 14, 29, 37]`.\r\n",
    "\r\n",
    "Bu şekilde, liste tamamen sıralanmış olur."
   ]
  },
  {
   "cell_type": "code",
   "execution_count": 295,
   "metadata": {},
   "outputs": [
    {
     "data": {
      "text/plain": [
       "[1, 2, 3, 4, 5, 6, 7, 8, 13, 20]"
      ]
     },
     "execution_count": 295,
     "metadata": {},
     "output_type": "execute_result"
    }
   ],
   "source": [
    "def selection_sort(arr):\n",
    "    for i in range(0,len(arr)):\n",
    "        min_value=i\n",
    "        for k in range(i+1,len(arr)):\n",
    "            if arr[min_value]>arr[k]:\n",
    "                min_value=k\n",
    "        arr[i],arr[min_value]=arr[min_value],arr[i]\n",
    "    return arr\n",
    "\n",
    "\n",
    "\n",
    "\n",
    "\n",
    "\n",
    "\n",
    "\n",
    "\n",
    "\n",
    "\n",
    "\n",
    "\n",
    "\n",
    "\n",
    "\n",
    "\n",
    "\n",
    "\n",
    "\n",
    "arr = [3,2,13,4,6,5,7,8,1,20]\n",
    "selection_sort(arr)\n",
    "\n"
   ]
  },
  {
   "cell_type": "markdown",
   "metadata": {},
   "source": [
    "<a id=\"9\"></a>\n",
    "### Counting Sort Algoritması\r\n",
    "\r\n",
    "Counting Sort, belirli bir aralıktaki pozitif tam sayıların sıralanmasında kullanılan, karşılaştırmaya dayalı olmayan bir sıralama algoritmasıdır. Sayıları karşılaştırarak sıralamak yerine, her sayının kaç defa geçtiğini sayarak sıralama işlemi yapılır. Bu algoritma, sabit zamanda çalışan ve özellikle belirli bir aralıktaki tam sayılarda çok verimli olan bir algoritmadır.\r\n",
    "\r\n",
    "#### İşleyiş Adımları:\r\n",
    "1. **Giriş Dizisi ve Sayma Dizisi**: \r\n",
    "   - Sıralanacak listeyi alırız ve elemanların en büyük değerini buluruz.\r\n",
    "   - Bu en büyük değeri referans alarak, her elemanın kaç kez geçtiğini saymak için bir \"sayma dizisi\" oluştururuz.\r\n",
    "\r\n",
    "2. **Elemanları Sayma**: \r\n",
    "   - Giriş listesindeki her elemanı sayma dizisindeki uygun indekse göre sayarız.\r\n",
    "   - Örneğin, listede 5 varsa, sayma dizisindeki 5. indeksi bir artırırız. Bu işlem her sayı için tekrar edilir.\r\n",
    "\r\n",
    "3. **Kümülatif Toplama**: \r\n",
    "   - Sayma dizisindeki elemanlar kümülatif olarak toplanır. Böylece her sayının sıralı dizide hangi pozisyonda yer alacağını belirleriz.\r\n",
    "\r\n",
    "4. **Sıralı Diziyi Oluşturma**: \r\n",
    "   - Giriş dizisini ters sırada dolaşarak, sayma dizisine bakıp her elemanı doğru yerine yerleştiririz. Sonuçta sıralı bir liste elde ederiz.\r\n",
    "\r\n",
    "#### Örnek Üzerinden Açıklama:\r\n",
    "Bir liste verildiğini düşünelim: `[4, 2, 2, 8, 3, 3, 1]`\r\n",
    "\r\n",
    "1. **Sayma Dizisini Oluşturma**: Listede en büyük eleman 8 olduğu için, 0'dan 8'e kadar bir sayma dizisi oluştururuz:\r\n",
    "   - Sayma dizisi: `[0, 0, 0, 0, 0, 0, 0, 0, 0]`\r\n",
    "   \r\n",
    "2. **Elemanları Sayma**: Listeyi dolaşıp her elemanın kaç kez geçtiğini sayarız:\r\n",
    "   - `1`: Sayma dizisinde index 1'i 1 artırırız.\r\n",
    "   - `2`: Sayma dizisinde index 2'yi 2 kez artırırız.\r\n",
    "   - `3`: Sayma dizisinde index 3'ü 2 kez artırırız.\r\n",
    "   - `4`: Sayma dizisinde index 4'ü 1 artırırız.\r\n",
    "   - `8`: Sayma dizisinde index 8'i 1 artırırız.\r\n",
    "   - Güncellenmiş sayma dizisi: `[0, 1, 2, 2, 1, 0, 0, 0, 1]`\r\n",
    "\r\n",
    "3. **Kümülatif Toplama**: Kümülatif toplamı oluştururuz:\r\n",
    "   - `[0, 1, 3, 5, 6, 6, 6, 6, 7]`\r\n",
    "   - Bu dizide her eleman, o sayının sıralı dizide nerede bulunacağını gösterir.\r\n",
    "\r\n",
    "4. **Sıralı Diziyi Oluşturma**: Giriş dizisini ters sıradan dolaşarak, her elemanı doğru pozisyonuna yerleştiririz:\r\n",
    "   - Örneğin, `1` sayısı sıralı dizide 1. pozisyona, `3` sayısı ise 5. pozisyona yerleşir.\r\n",
    "   - Sonuçta sıralanmış liste: `[1, 2, 2, 3, 3, 4, 8]`\r\n",
    "\r\n",
    "#### Zaman Karmaşıklığı:\r\n",
    "- **Zaman Karmaşıklığı**: \\(O(n + k)\\), burada \\(n\\) liste uzunluğu ve \\(k\\) maksimum eleman değeridir.\r\n",
    "- **Uzay Karmaşıklığı**: \\(O(k)\\), çünkü sayma dizisi maksimum değer büyüklüğünde yer kaplar.\r\n",
    "\r\n",
    "Counting Sort, özellikle sayıların belli bir aralıkta olduğu durumlarda hızlıdır. Ancak aralık genişse veya negatif sayılar varsa, çok verimli olmayabilir.tif sayılar içeren dizilerde fazla verimli olmaz."
   ]
  },
  {
   "cell_type": "markdown",
   "metadata": {},
   "source": [
    "<a id=\"10\"></a>\n",
    "## Counting Sort with Python  "
   ]
  },
  {
   "cell_type": "code",
   "execution_count": 327,
   "metadata": {},
   "outputs": [
    {
     "data": {
      "text/plain": [
       "[1, 1, 1, 1, 2, 2, 3, 3, 4, 5, 6, 7, 7, 7, 7]"
      ]
     },
     "execution_count": 327,
     "metadata": {},
     "output_type": "execute_result"
    }
   ],
   "source": [
    "def counting_sort(arr):\n",
    "    # 1. Adım: Liste içindeki en büyük değeri bul\n",
    "    max_value = max(arr)\n",
    "    \n",
    "    # 2. Adım: Sayma dizisini oluştur (0'dan max_value'a kadar)\n",
    "    count_arr = [0] * (max_value + 1)\n",
    "    \n",
    "    # 3. Adım: Her elemanı sayma dizisinde işaretle\n",
    "    # [0,4,2,2,1,1,1,4] ---> her bir sayı için mesala ilk sıfır 0 değeri için kaç tane olduğudur ilk 4 değeri ise 2 sayısının 4 tane olduğudur....\n",
    "    for num in arr:\n",
    "        count_arr[num]+=1\n",
    "    \n",
    "    \n",
    "    # 4. Adım: Kümülatif toplam oluştur\n",
    "    # [0, 4, 2, 2, 1, 1, 1, 4] ------> [0, 4, 6, 8, 9, 10, 11, 15]\n",
    "    for i in range(1,len(count_arr)):\n",
    "        count_arr[i]+=count_arr[i-1]\n",
    "    \n",
    "    # 5. Adım: Sonuç dizisini oluştur\n",
    "    output_arr=[0]*len(arr)\n",
    "    for num in reversed(arr):\n",
    "        value=count_arr[num]-1\n",
    "        output_arr[value]=num\n",
    "        count_arr[num]-=1\n",
    "    \n",
    "    return output_arr\n",
    "liste = [1,2,3,4,5,6,7,7,7,7,1,1,1,2,3]\n",
    "counting_sort(liste)"
   ]
  },
  {
   "cell_type": "markdown",
   "metadata": {},
   "source": [
    "<a id=\"11\"></a>\n",
    "### Quick Sort Algoritması\r\n",
    "\r\n",
    "**Quick Sort**, çok yaygın kullanılan ve verimli bir sıralama algoritmasıdır. **Böl ve fethet** (Divide and Conquer) mantığını kullanarak, bir listeyi küçük parçalara ayırıp her parçayı ayrı ayrı sıralar ve sonra bu parçaları birleştirir.\r\n",
    "\r\n",
    "#### Quick Sort'un Temel Mantığı:\r\n",
    "\r\n",
    "1. **Pivot Değeri**: Quick Sort'un merkezinde **pivot** adı verilen bir değer seçilir. Pivot, listenin herhangi bir elemanı olabilir, ancak genellikle ilk, son, ortadaki eleman ya da rastgele bir eleman seçilir. Pivot, listenin ikiye bölünmesinde kilit rol oynar.\r\n",
    "\r\n",
    "2. **Listeyi Bölme**:\r\n",
    "   - Listenin her elemanı pivot ile karşılaştırılır.\r\n",
    "   - Pivot'tan **küçük olanlar** listenin **sol tarafına**, **büyük olanlar** ise listenin **sağ tarafına** yerleştirilir.\r\n",
    "   - Pivot, bu bölme işleminden sonra listede doğru yerini bulmuş olur.\r\n",
    "\r\n",
    "3. **Rekursif Bölme**:\r\n",
    "   - Pivot değeri listeyi ikiye böldükten sonra, hem sol hem de sağ taraf ayrı ayrı sıralanır. Her iki tarafta da aynı işlem tekrarlanarak alt listeler pivot kullanılarak tekrar bölünür.\r\n",
    "   - Bu işlem, listenin tüm elemanları sıralanana kadar devam eder. Alt listeler birer eleman kaldığında, sıralama tamamlanmış olur.\r\n",
    "\r\n",
    "#### Örnek:\r\n",
    "Bir listeyi Quick Sort ile sıralayalım: `[4, 2, 7, 1, 9, 3]`\r\n",
    "\r\n",
    "1. **Pivot Seçimi**: Diyelim ki pivot olarak listenin ilk elemanı olan `4` seçildi.\r\n",
    "   \r\n",
    "2. **Listeyi Bölme**:\r\n",
    "   - `4`'ten **küçük olanlar**: `[2, 1, 3]` (pivot'un sol tarafı)\r\n",
    "   - `4`'ten **büyük olanlar**: `[7, 9]` (pivot'un sağ tarafı)\r\n",
    "   - Şu anda `4` listede tam ortada bulunacak şekilde konumlanmış olur: `[2, 1, 3] 4 [7, 9]`\r\n",
    "\r\n",
    "3. **Rekursif Sıralama**:\r\n",
    "   - **Sol taraf**: `[2, 1, 3]` bu küçük liste için de aynı işlemi uygularız.\r\n",
    "     - Pivot `2` seçilir.\r\n",
    "     - `2`'den küçük olanlar: `[1]`, büyük olanlar: `[3]`\r\n",
    "     - Sonuç: `[1, 2, 3]`\r\n",
    "   \r\n",
    "   - **Sağ taraf**: `[7, 9]` listesi için aynı işlemi uygularız.\r\n",
    "     - Pivot `7` seçilir.\r\n",
    "     - `7`'den büyük olanlar: `[9]`\r\n",
    "     - Sonuç: `[7, 9]`\r\n",
    "   \r\n",
    "4. **Birleştirme**: Tüm alt listeler sıralandıktan sonra, pivotları birleştirerek sıralı listeyi elde ederiz:\r\n",
    "   - Sonuç: `[1, 2, 3, 4, 7, 9]`\r\n",
    "\r\n",
    "#### Zaman Karmaşıklığı:\r\n",
    "- **En iyi durumda**: \\(O(n \\log n)\\) (Listenin dengeli bir şekilde bölünmesi durumunda).\r\n",
    "- **En kötü durumda**: \\(O(n^2)\\) (Listenin hep en kötü pivot seçimiyle dengesiz bölünmesi durumunda, örneğin zaten sıralı bir liste).\r\n",
    "  \r\n",
    "#### Neden Verimli?\r\n",
    "Quick Sort, karşılaştırmaya dayalı sıralama algoritmaları arasında oldukça hızlıdır. Diğer karşılaştırma temelli algoritmalar (Merge Sort, Heap Sort) ile aynı zaman karmaşıklığına sahiptir ancak pratikte daha hızlı çalışır çünkü bellek kullanımı düşük ve bölme işlemi etkili bir şekilde yapılır.\n",
    "* ![Time](q.jpg)"
   ]
  },
  {
   "cell_type": "markdown",
   "metadata": {},
   "source": [
    "<a id=\"12\"></a>\n",
    "## Quick Sort with Python"
   ]
  },
  {
   "cell_type": "code",
   "execution_count": null,
   "metadata": {},
   "outputs": [],
   "source": []
  },
  {
   "cell_type": "code",
   "execution_count": 361,
   "metadata": {},
   "outputs": [
    {
     "name": "stdout",
     "output_type": "stream",
     "text": [
      "[1, 2, 3, 4, 7, 9]\n"
     ]
    }
   ],
   "source": [
    "def quick_sort(arr):\n",
    "    if len(arr) <= 1:\n",
    "        return arr\n",
    "\n",
    "    # Pivot olarak ortadaki elemanı seç\n",
    "    pivot = arr[len(arr) // 2]\n",
    "\n",
    "    # Pivot'tan küçük ve büyük elemanları ayır\n",
    "    left = [x for x in arr if x < pivot]\n",
    "    middle = [x for x in arr if x == pivot]\n",
    "    right = [x for x in arr if x > pivot]\n",
    "    #print(pivot,\" değeri için: \",left,middle,right,\" ve birleştirilmiş hali ise: \", left+middle+right)\n",
    "    # Sol ve sağ tarafları sıralayıp birleştir\n",
    "    left_qu=quick_sort(left)\n",
    "    right_qu=quick_sort(right)\n",
    "    return left_qu+middle+right_qu\n",
    "\n",
    "# Test için\n",
    "arr = [4, 2, 7, 1, 9, 3]\n",
    "print(quick_sort(arr))\n"
   ]
  },
  {
   "cell_type": "markdown",
   "metadata": {},
   "source": [
    "<a id=\"13\"></a>\n",
    "## Heap Sort\n",
    "* Heap sort için önce listemizi tree'ye çeviriyoruz. Yani heap inşa ediyoruz.\n",
    "* Daha sonra inşa edilen heap'i max heap'e çeviriyoruz.\n",
    "* Max heap de parent node her zaman child node'dan büyük yada child node'a eşittir.\n",
    "* ilk ve son node'un yerini değiştir ve son node'u sil.\n",
    "* ![Time](heap1.jpg)\n",
    "* ![Time](heap2.jpg)\n",
    "* ![Time](heap3.jpg)\n",
    "* ![Time](heap4.jpg)"
   ]
  },
  {
   "cell_type": "code",
   "execution_count": 353,
   "metadata": {},
   "outputs": [
    {
     "name": "stdout",
     "output_type": "stream",
     "text": [
      "[1, 3, 4, 5, 10]\n"
     ]
    }
   ],
   "source": [
    "def heapify(arr, n, i):\n",
    "    largest = i  # Kökü başlat\n",
    "    l = 2 * i + 1  # Sol çocuk\n",
    "    r = 2 * i + 2  # Sağ çocuk\n",
    "\n",
    "    # Sol çocuk kökten büyükse\n",
    "    if l < n and arr[l] > arr[largest]:\n",
    "        largest = l\n",
    "\n",
    "    # Sağ çocuk kökten büyükse\n",
    "    if r < n and arr[r] > arr[largest]:\n",
    "        largest = r\n",
    "\n",
    "    # Kök, en büyük değilse\n",
    "    if largest != i:\n",
    "        arr[i], arr[largest] = arr[largest], arr[i]  # Kök ve en büyük çocuk takas\n",
    "        heapify(arr, n, largest)  # Alt ağaçları heapify et\n",
    "\n",
    "def heap_sort(arr):\n",
    "    n = len(arr)\n",
    "\n",
    "    # Max heap oluştur\n",
    "    for i in range(n // 2 - 1, -1, -1):\n",
    "        heapify(arr, n, i)\n",
    "\n",
    "    # Heap'ten sıralı dizi oluştur\n",
    "    for i in range(n - 1, 0, -1):\n",
    "        arr[i], arr[0] = arr[0], arr[i]  # Kök (en büyük eleman) ve son elemanı takas et\n",
    "        heapify(arr, i, 0)  # Kalan kısmı heapify et\n",
    "\n",
    "# Test için\n",
    "arr = [4, 10, 3, 5, 1]\n",
    "heap_sort(arr)\n",
    "print(arr)\n"
   ]
  },
  {
   "cell_type": "markdown",
   "metadata": {},
   "source": [
    "<a id=\"55\"></a>\n",
    "## Sorting Algorithms İş Mülakatları Soru-Cevap\n",
    "* Time Complexity of Algorithms\n",
    "    * ![Time](tc.jpg)\n",
    "* Algoritmaların animasyon şeklinde karşılaştırmasını bulmak istiyorsanız ziyaret edin: https://www.toptal.com/developers/sorting-algorithms"
   ]
  },
  {
   "cell_type": "markdown",
   "metadata": {},
   "source": [
    "<a id=\"66\"></a>\n",
    "## Sorting Algorithms Python Challenge/Problem\n",
    "1. Second Great and Low\n",
    "1. ThreeSum"
   ]
  },
  {
   "cell_type": "markdown",
   "metadata": {},
   "source": [
    "### 1) Second Great and Low\n",
    "* Input: 1, 42, 42, 180\n",
    "* Output:\"42 42\"\n",
    "* \n",
    "* Input: 4, 90\n",
    "* Output:\"90 4\"\n",
    "* \n",
    "* Input: 1,2,3,4,90,80\n",
    "* Output:\"2 80\"\n"
   ]
  },
  {
   "cell_type": "code",
   "execution_count": 371,
   "metadata": {},
   "outputs": [],
   "source": [
    "def secondGreatlow(arr):\n",
    "    \n",
    "    unique=set(arr)\n",
    "    sorted_list=quick_sort(arr)\n",
    "    print(sorted_list)\n",
    "    if len(sorted_list)<2:\n",
    "        return sorted_list[0]\n",
    "    else:\n",
    "        return sorted_list[1],sorted_list[-2]"
   ]
  },
  {
   "cell_type": "code",
   "execution_count": 373,
   "metadata": {},
   "outputs": [
    {
     "name": "stdout",
     "output_type": "stream",
     "text": [
      "[1, 2, 3, 4, 80, 80, 80, 90]\n",
      "(2, 80)\n"
     ]
    }
   ],
   "source": [
    "print(secondGreatlow([ 1,2,3,4,90,80,80,80]))"
   ]
  },
  {
   "cell_type": "markdown",
   "metadata": {},
   "source": [
    "### 2) ThreeSum\n",
    "* Input: 10, 2, 3, 1, 5, 3, 1, 4, -4, -3, -2  => 10 = (2,3,5) (3,3,4) (5,1,4)\n",
    "* Output:\"true\"\n",
    "* \n",
    "* Input: 12, 3, 1, -5, -4, 7\n",
    "* Output:\"false\""
   ]
  },
  {
   "cell_type": "code",
   "execution_count": 387,
   "metadata": {},
   "outputs": [],
   "source": [
    "import itertools\n",
    "def threesum(arr):\n",
    "    value=arr[0]\n",
    "    sum_len=0\n",
    "    for i in itertools.combinations(arr[1:],3):\n",
    "        if sum(i)==value:\n",
    "            sum_len+=1\n",
    "        if sum_len==3:\n",
    "            return True\n",
    "    return False"
   ]
  },
  {
   "cell_type": "code",
   "execution_count": 393,
   "metadata": {},
   "outputs": [
    {
     "data": {
      "text/plain": [
       "False"
      ]
     },
     "execution_count": 393,
     "metadata": {},
     "output_type": "execute_result"
    }
   ],
   "source": [
    "threesum([10, 2, 3, 1, 5, 3])"
   ]
  },
  {
   "cell_type": "code",
   "execution_count": null,
   "metadata": {},
   "outputs": [],
   "source": []
  }
 ],
 "metadata": {
  "kernelspec": {
   "display_name": "Python 3 (ipykernel)",
   "language": "python",
   "name": "python3"
  },
  "language_info": {
   "codemirror_mode": {
    "name": "ipython",
    "version": 3
   },
   "file_extension": ".py",
   "mimetype": "text/x-python",
   "name": "python",
   "nbconvert_exporter": "python",
   "pygments_lexer": "ipython3",
   "version": "3.11.9"
  }
 },
 "nbformat": 4,
 "nbformat_minor": 4
}
