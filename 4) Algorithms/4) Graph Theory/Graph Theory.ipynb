{
 "cells": [
  {
   "cell_type": "markdown",
   "metadata": {},
   "source": [
    "# Graph Theory"
   ]
  },
  {
   "cell_type": "markdown",
   "metadata": {},
   "source": [
    "## İçerik\n",
    "* [Graph Theory](#1)\n",
    "* [Adjacency Matrix and Adjacency List](#2)\n",
    "* [Adjacency List with Python](#3)\n",
    "* [Depth First Search (DFS)](#4)\n",
    "* [Depth First Search with Python](#5)\n",
    "* [Breadth First Search (BFS)](#6)\n",
    "* [Breadth First Search with Python](#7)\n",
    "* [Graph Theory İş Mülakatları Soru-Cevap](#55)\n",
    "* [Graph Theory Python Challenge/Problem](#66)\n",
    "* [Neler Öğrendik](#77)"
   ]
  },
  {
   "cell_type": "markdown",
   "metadata": {},
   "source": [
    "<a id=\"1\"></a>\n",
    "### **Graph Theory: Temelleri ve Gerçek Hayatta Kullanımı**\r\n",
    "\r\n",
    "**Graph'lar**, veri yapıları dünyasında **tree**'lerden daha genel ve esnek yapılar olarak bilinir. Aslında, **tree**'ler özel bir **graph** türüdür. **Graph theory** ise, gerçek dünyadaki ilişkileri ve bağlantıları modellemek ve çözmek için sıklıkla kullanılır.\r\n",
    "\r\n",
    "#### **Gerçek Hayatta Graph'ların Kullanımı**\r\n",
    "Graph'lar, günlük hayatta karşılaşılan birçok problemi çözmek için ideal araçlardır. Örneğin:\r\n",
    "- Bir ülkedeki **hava trafiği** (şehirlere bağlanan uçuş rotaları),\r\n",
    "- **İnternet bağlantıları** (cihazlar arasındaki veri transfer yolları).\r\n",
    "\r\n",
    "Bu gibi ilişkileri modellemek için **graph theory** kullanmak, karmaşık sistemlerde düzeni anlamamıza ve sorunları çözmemize yardımcı olur.\r\n",
    "\r\n",
    "#### **Graph'ların Bileşenleri**\r\n",
    "Graph'lar iki temel bileşenden oluşur:\r\n",
    "\r\n",
    "- **Node (Vertex)**: Her bir **node** bir varlığı ya da nesneyi temsil eder. Örneğin, bir şehir veya cihaz bir node olabilir.\r\n",
    "  \r\n",
    "- **Edge**: İki **node** arasındaki bağlantıdır. Edge, node'lar arasında bir ilişki ya da iletişim olduğunu gösterir. \r\n",
    "\r\n",
    "**Edge'ler** iki tür olabilir:\r\n",
    "- **Yönlü (Directed) Edge**: Eğer edge tek yönlü bir bağlantıyı gösteriyorsa, buna **directed graph** (yönlü graph) denir. Yani, veri ya da bağlantı sadece bir yönde akar.\r\n",
    "  \r\n",
    "- **Yönsüz (Un-directed) Edge**: Eğer edge'in yönü yoksa, yani iki node arasında karşılıklı bir ilişki varsa, bu tip graph'lara **un-directed graph** denir.\r\n",
    "\r\n",
    "#### **Graph'ların Temel Gösterimi**\r\n",
    "Bir **graph** genellikle şu şekilde ifade edilir:\r\n",
    "- **Vertices (V)**: Graph’taki node'lar (örneğin şehirler). Örneğin, V = {Ankara, Burdur, Antalya, Konya, Afyon}.\r\n",
    "  \r\n",
    "- **Edges (E)**: Node'lar arasındaki bağlantılar. Örneğin, E = {(Ankara, Afyon, 300 km), (Burdur, Antalya, 200 km)}.\r\n",
    "\r\n",
    "Graph, formal olarak **G = (V, E)** şeklinde gösterilir. Bu, graph'taki node'ları ve bu node'lar arasındaki bağlantıları (edge) belirtir.\r\n",
    "\r\n",
    "#### **Path (Yol) Nedir?**\r\n",
    "Bir **path**, birbirine **edge**’ler ile bağlanan bir **node** sırasıdır. Örneğin, **Ankara'dan Antalya'ya** giden bir path şöyle olabilir:\r\n",
    "- **Path**: (Ankara → Afyon → Burdur → Antalya).\r\n",
    "\r\n",
    "**Path**, bir node’dan başlayarak bir dizi edge'i takip eden bir yol olarak düşünülebilir.\r\n",
    "\r\n",
    "#### **Cycle (Döngü) Nedir?**\r\n",
    "Bir **cycle graph**, başladığı node’da biten bir path'tir. Yani, bir **node**'dan başlar ve o node’a geri döner. Örneğin, aşağıda gösterilen graph’ta, Ankara’dan başlayıp yine Ankara’da biten bir döngü gösterilebilir:\r\n",
    "\r\n",
    "![Graph Cycle Örneği](graph.jpg)\r\n",
    "\r\n",
    "#### **Özet**\r\n",
    "- **Graph**'lar node'lar ve edge'ler ile bağlantıları ifade eden, karmaşık sistemleri modellemekte kullanılan veri yapılarıdır.\r\n",
    "- **Path**, node'lar arasında bir dizi edge üzerinden giden yoldur.\r\n",
    "- **Cycle**, bir nmlerde nasıl çözümler sunduklarını görebiliriz."
   ]
  },
  {
   "cell_type": "markdown",
   "metadata": {},
   "source": [
    "<a id=\"2\"></a>\n",
    "### **Adjacency Matrix ve Adjacency List: Graph'ların Temsili**\n",
    "\n",
    "Graph’ları temsil etmenin en yaygın yollarından biri **adjacency matrix** ve **adjacency list** yöntemleridir. Bu yöntemler, node'lar ve aralarındaki bağlantılar (edge'ler) arasındaki ilişkileri görselleştirmek ve işlem yapmak için kullanılır.\n",
    "\n",
    "#### **Adjacency Matrix (Komşuluk Matrisi)**\n",
    "\n",
    "**Adjacency matrix**, graph'ı temsil etmenin kolay ve görsel bir yoludur. Bu yaklaşımda:\n",
    "- **2 boyutlu bir matris** kullanılır. Matrisin her satırı ve sütunu, graph’ın **node**’larını temsil eder.\n",
    "- Eğer iki node arasında bir bağlantı (edge) varsa, ilgili hücreye **1** yazılır; eğer bağlantı yoksa **0** yazılır.\n",
    "\n",
    "**Adjacent** kelimesi, \"komşu\" anlamına gelir ve iki node'un bir **edge** ile bağlı olduğu durumu ifade eder. Adjacency matrix ile küçük graph'larda komşu node'ları görmek oldukça kolaydır.\n",
    "\n",
    "Ancak, **adjacency matrix**'lerde, özellikle edge sayısı az olan graph'larda, birçok boş hücre (0) bulunur. Bu durum matrisin büyük bölümünün gereksiz yer kaplamasına neden olur. Boş hücrelerin sayısını azaltmak için graph'taki **edge** sayısının artırılması gerekir.\n",
    "\n",
    "**Avantajı**: Eğer graph'ta çok sayıda **edge** varsa, adjacency matrix kullanmak hem görsel olarak hem de işlem yapmak açısından avantajlıdır. \n",
    "\n",
    "![Adjacency Matrix Örneği](adjaceny_matrix.jpg)\n",
    "\n",
    "#### **Adjacency List (Komşuluk Listesi)**\n",
    "\n",
    "Eğer graph'ta **edge** sayısı az ise, **adjacency list** kullanmak daha **verimli** bir yöntemdir. Bu yöntemde:\n",
    "- Her node, kendi komşu node'larının bir listesini tutar.\n",
    "- Her node’a bağlı node'lar, bir listede tutulduğu için gereksiz boşluk (boş hücre) problemi yaşanmaz.\n",
    "\n",
    "**Adjacency list**, özellikle büyük ve edge sayısı az olan graph'larda, **space efficient** yani daha **yer tasarrufu sağlayan** bir yapıdır. Her node sadece bağlı olduğu node'larla listelendiği için boş hücreler bulunmaz, böylece daha az bellek kullanılır.\n",
    "\n",
    "**Avantajı**: Graph'taki **edge** sayısı az ise adjacency list kullanmak, yer ve hız açısından daha verimlidir.\n",
    "\n",
    "![Adjacency List Örneği](adjaceny_list.jpg)\n",
    "\n",
    "#### **Özet**\n",
    "- **Adjacency Matrix**: Küçük graph'larda komşu node'ları görmeyi kolaylaştıran 2 boyutlu bir matris temsili. Ancak, edge sayısı az olan graph'larda gereksiz boş hücreler nedeniyle fazla yer kaplayabilir.\n",
    "- **Adjacency List**: Edge sayısı az olan graph'lar için daha yer tasarruflu bir temsil yöntemi. Her node'un sadece komşu node'larını içeren bir listeyle gösterilir.\n",
    "\n",
    "Bu iki yöntem, graph'lardaki ilişkileri temsil etmek ve anlamak için farklı avantajlar sunar. Graph'ın yapısına ve edge sayısına göre en uygun yöntem seçilmelidir."
   ]
  },
  {
   "cell_type": "markdown",
   "metadata": {},
   "source": [
    "<a id=\"3\"></a>\n",
    "## Adjacency List with Python\n",
    "* Graph(): bos graph yaratır.\n",
    "* addVertex(vert): graph içerisine node ekler.\n",
    "* addEdge(fromVert, toVert): iki node'u birbirine bağlayan directed edge ekler.\n",
    "* addEdge(fromVert, toVert, weight): iki node'u birbirine bağlayan weighted ve directed edge ekler.\n",
    "* getVertex(vertKey): graph içerisinde node bulur.\n",
    "* getVertices(): node'ları return eder."
   ]
  },
  {
   "cell_type": "code",
   "execution_count": 8,
   "metadata": {},
   "outputs": [],
   "source": [
    "class Vertex:\n",
    "    def __init__(self, key):\n",
    "        \"\"\" \n",
    "        Vertex (node) oluşturucu.\n",
    "        \n",
    "        Args:\n",
    "            key: Vertex'in benzersiz anahtarı.\n",
    "        \"\"\"\n",
    "        self.id = key  # Vertex'in benzersiz kimliği\n",
    "        self.connectedTo = {}  # Diğer vertex'lerle olan bağlantıları saklayan sözlük\n",
    "\n",
    "    def addNeighbor(self, neighbor, weight=0):\n",
    "        \"\"\" \n",
    "        Komşu vertex ekler.\n",
    "        \n",
    "        Args:\n",
    "            neighbor: Eklemek istediğiniz komşu vertex.\n",
    "            weight: (Opsiyonel) Komşuyla olan bağlantının ağırlığı. Varsayılan 0'dır.\n",
    "        \"\"\"\n",
    "        self.connectedTo[neighbor] = weight  # Komşu ve ağırlığını sözlüğe ekler\n",
    "\n",
    "    def __str__(self):\n",
    "        \"\"\" \n",
    "        Vertex'in kimliğini ve ona bağlı komşuları döner.\n",
    "        \n",
    "        Returns:\n",
    "            Vertex'in kimliği ve bağlı olduğu komşuların listesi.\n",
    "        \"\"\"\n",
    "        return str(self.id) + \"  connected to: \" + str([x.id for x in self.connectedTo])  # Komşu vertex'lerin kimliklerini listele\n",
    "\n",
    "    def getConnections(self):\n",
    "        \"\"\" \n",
    "        Vertex'in bağlı olduğu komşu vertex'leri döner.\n",
    "        \n",
    "        Returns:\n",
    "            Komşu vertex'lerin anahtarları.\n",
    "        \"\"\"\n",
    "        return self.connectedTo.keys()  # Bağlı olduğu komşuların anahtarlarını döner\n",
    "\n",
    "    def getId(self):\n",
    "        \"\"\" \n",
    "        Vertex'in kimliğini döner.\n",
    "        \n",
    "        Returns:\n",
    "            Vertex'in anahtarı.\n",
    "        \"\"\"\n",
    "        return self.id  # Vertex'in anahtarını döner\n",
    "\n",
    "    def getWeight(self, neighbor):\n",
    "        \"\"\" \n",
    "        Belirtilen komşu ile olan bağlantının ağırlığını döner.\n",
    "        \n",
    "        Args:\n",
    "            neighbor: Ağırlığını öğrenmek istediğiniz komşu vertex.\n",
    "        \n",
    "        Returns:\n",
    "            Komşu ile olan bağlantının ağırlığı.\n",
    "        \"\"\"\n",
    "        return self.connectedTo[neighbor]  # Komşu ile olan bağlantının ağırlığını döner\n"
   ]
  },
  {
   "cell_type": "code",
   "execution_count": 10,
   "metadata": {},
   "outputs": [],
   "source": [
    "class Graph:\n",
    "    def __init__(self):\n",
    "        \"\"\" \n",
    "        Boş bir grafik oluşturur.\n",
    "        \"\"\"\n",
    "        self.vertList = {}  # Vertex'leri tutan bir sözlük\n",
    "        self.numVertices = 0  # Grafikteki vertex sayısını tutar\n",
    "\n",
    "    def addVertex(self, key):\n",
    "        \"\"\" \n",
    "        Grafiğe yeni bir vertex ekler.\n",
    "        \n",
    "        Args:\n",
    "            key: Eklenecek vertex'in benzersiz anahtarı.\n",
    "        \n",
    "        Returns:\n",
    "            Yeni oluşturulan vertex nesnesi.\n",
    "        \"\"\"\n",
    "        self.numVertices += 1  # Vertex sayısını artır\n",
    "        newVertex = Vertex(key)  # Yeni vertex nesnesi oluştur\n",
    "        self.vertList[key] = newVertex  # Vertex'i sözlüğe ekle\n",
    "        return newVertex  # Yeni vertex nesnesini döner\n",
    "\n",
    "    def getVertex(self, n):\n",
    "        \"\"\" \n",
    "        Verilen anahtara sahip vertex'i döner.\n",
    "        \n",
    "        Args:\n",
    "            n: Aranan vertex'in anahtarı.\n",
    "        \n",
    "        Returns:\n",
    "            Eğer vertex mevcutsa döner, yoksa None döner.\n",
    "        \"\"\"\n",
    "        if n in self.vertList:  # Anahtarın sözlükte olup olmadığını kontrol et\n",
    "            return self.vertList[n]  # Vertex'i döner\n",
    "        else:\n",
    "            return None  # Vertex yoksa None döner\n",
    "\n",
    "    def __contains__(self, n):\n",
    "        \"\"\" \n",
    "        Belirtilen anahtarın grafikte olup olmadığını kontrol eder.\n",
    "        \n",
    "        Args:\n",
    "            n: Kontrol edilecek vertex'in anahtarı.\n",
    "        \n",
    "        Returns:\n",
    "            Eğer anahtar grafikte varsa True, yoksa False döner.\n",
    "        \"\"\"\n",
    "        return n in self.vertList  # Anahtarın varlığını kontrol et\n",
    "\n",
    "    def addEdge(self, f, t, cost=0):\n",
    "        \"\"\" \n",
    "        İki vertex arasında bir yönlendirilmiş edge ekler.\n",
    "        \n",
    "        Args:\n",
    "            f: Bağlantının başladığı vertex'in anahtarı.\n",
    "            t: Bağlantının gittiği vertex'in anahtarı.\n",
    "            cost: (Opsiyonel) Bağlantının maliyeti. Varsayılan 0'dır.\n",
    "        \"\"\"\n",
    "        if f not in self.vertList:  # Eğer başlangıç vertex'i yoksa, ekle\n",
    "            nv = self.addVertex(f)\n",
    "        if t not in self.vertList:  # Eğer hedef vertex yoksa, ekle\n",
    "            nv = self.addVertex(t)\n",
    "        # Başlangıç vertex'inden hedef vertex'e olan bağlantıyı ekle\n",
    "        self.vertList[f].addNeighbor(self.vertList[t], cost)\n",
    "\n",
    "    def getVertices(self):\n",
    "        \"\"\" \n",
    "        Grafikteki tüm vertex'leri döner.\n",
    "        \n",
    "        Returns:\n",
    "            Vertex'lerin anahtarlarını içeren bir liste.\n",
    "        \"\"\"\n",
    "        return self.vertList.keys()  # Tüm vertex anahtarlarını döner\n",
    "\n",
    "    def __iter__(self):\n",
    "        \"\"\" \n",
    "        Grafikteki vertex nesneleri üzerinde iterasyon sağlar.\n",
    "        \n",
    "        Returns:\n",
    "            Vertex nesnelerinin iterator'ü.\n",
    "        \"\"\"\n",
    "        return iter(self.vertList.values())  # Vertex nesnelerinin değerlerini döner\n"
   ]
  },
  {
   "cell_type": "code",
   "execution_count": 12,
   "metadata": {},
   "outputs": [],
   "source": [
    "g = Graph()"
   ]
  },
  {
   "cell_type": "code",
   "execution_count": 15,
   "metadata": {},
   "outputs": [
    {
     "data": {
      "text/plain": [
       "{1: <__main__.Vertex at 0x1c3c4a6bf98>,\n",
       " 2: <__main__.Vertex at 0x1c3c4a6bfd0>,\n",
       " 3: <__main__.Vertex at 0x1c3c4afada0>,\n",
       " 4: <__main__.Vertex at 0x1c3c4afad30>,\n",
       " 5: <__main__.Vertex at 0x1c3c4afadd8>}"
      ]
     },
     "execution_count": 15,
     "metadata": {},
     "output_type": "execute_result"
    }
   ],
   "source": [
    "g.addVertex(1)\n",
    "g.addVertex(2)\n",
    "g.addVertex(3)\n",
    "g.addVertex(4)\n",
    "g.addVertex(5)\n",
    "g.vertList"
   ]
  },
  {
   "cell_type": "code",
   "execution_count": 14,
   "metadata": {},
   "outputs": [],
   "source": [
    "g.addEdge(1,2,0)\n",
    "g.addEdge(1,3,0)\n",
    "g.addEdge(5,3,0)\n",
    "g.addEdge(2,4,0)\n",
    "g.addEdge(4,2,0)"
   ]
  },
  {
   "cell_type": "code",
   "execution_count": 16,
   "metadata": {},
   "outputs": [
    {
     "name": "stdout",
     "output_type": "stream",
     "text": [
      "1  connected to: [2, 3]\n",
      "dict_keys([<__main__.Vertex object at 0x000001CD97170E50>, <__main__.Vertex object at 0x000001CD97173B50>])\n",
      "2  connected to: [4]\n",
      "dict_keys([<__main__.Vertex object at 0x000001CD97171890>])\n",
      "3  connected to: []\n",
      "dict_keys([])\n",
      "5  connected to: [3]\n",
      "dict_keys([<__main__.Vertex object at 0x000001CD97173B50>])\n",
      "4  connected to: [2]\n",
      "dict_keys([<__main__.Vertex object at 0x000001CD97170E50>])\n"
     ]
    }
   ],
   "source": [
    "for v in g:\n",
    "    print(v)\n",
    "    print(v.getConnections())"
   ]
  },
  {
   "cell_type": "markdown",
   "metadata": {},
   "source": [
    "<a id=\"4\"></a>\n",
    "### Depth First Search (DFS) Nedir?\r\n",
    "\r\n",
    "**Derin Öncelikli Arama** (Depth First Search - DFS), grafik veya ağaç veri yapılarında düğümleri (node) keşfetmek için kullanılan bir algoritmadır. DFS, belirli bir başlangıç düğümünden yola çıkarak, mümkün olduğunca derinlere inerek alt seviyedeki düğümleri keşfeder. İşte DFS'in temel özellikleri ve çalışma prensibi:\r\n",
    "\r\n",
    "#### Temel Özellikler\r\n",
    "1. **Ağaç/Graf Traverse Algoritması**: DFS, hem ağaç hem de genel grafik yapılarında kullanılabilir. Düğümler, belirli bir sıralama ile ziyaret edilir.\r\n",
    "  \r\n",
    "2. **İlk Önce Alt Seviyeleri Ara**: DFS, bir düğümü ziyaret ettikten sonra, o düğümün altındaki (çocuk) düğümleri keşfetmeye öncelik verir. Bu, alt seviyelerdeki düğümleri mümkün olan en derin noktaya kadar keşfetmek anlamına gelir.\r\n",
    "\r\n",
    "3. **Ziyaret Edilen Düğümler**: Algoritma, hangi düğümlerin ziyaret edildiğini takip etmek için genellikle bir \"ziyaret edildi\" (visited) listesi kullanır.\r\n",
    "\r\n",
    "#### Çalışma Prensibi\r\n",
    "- **Başlangıç Düğümü**: Algoritma, belirlenen bir başlangıç düğümünden başlar.\r\n",
    "- **Ziyaret Etme**: Başlangıç düğümü ziyaret edilir ve ardından bu düğümün tüm komşu düğümleri (çocukları) sırayla ziyaret edilmeye başlanır.\r\n",
    "- **Derinlik**: Bir düğümün tüm komşuları ziyaret edildikten sonra, algoritma bir üst düğüme geri döner ve diğer komşularını ziyaret etmeye devam eder.\r\n",
    "- **Tamamlanma**: Tüm düğümler ziyaret edildiğinde veya belirli bir hedef düğüme ulaşıldığında algoritma sona erer.\r\n",
    "\r\n",
    "#### Uygulama Alanları\r\n",
    "- **Yol Bulma**: Labirentlerde veya oyun haritalarında yolların keşfedilmesi.\r\n",
    "- **Bağlantılı Bileşenlerin Bulunması**: Grafikteki tüm bağlantılı bileşenlerin keşfi.\r\n",
    "- **Topolojik Sıralama**: Yönlendirilmiş grafiklerde sıralama yapmak için kullanılabilir.\r\n",
    "\r\n",
    "#### Örnek\r\n",
    "DFS'in çalışma mantığını daha iyi anlamak için basit bir ağaç yapısı üzerinden düşünebiliriz:\r\n",
    "\r\n",
    "```\r\n",
    "       A\r\n",
    "      / \\\r\n",
    "     B   C\r\n",
    "    / \\   \\\r\n",
    "   D   E   F\r\n",
    "```\r\n",
    "\r\n",
    "- DFS, `A` düğümünden başlayarak önce `B`'ye, ardından `D`'ye geçer. `D`'nin çocukları yoksa, geri döner ve `E`'yi ziyaret eder.\r\n",
    "- `B` tamamlandığında, `A`'ya geri döner ve `C`'yi ziyaret eder. Son olarak `F`'yi keşfeder.\r\n",
    "\r\n",
    "#### Zaman Karmaşıklığı\r\n",
    "DFS, düğüm sayısına ve kenar sayısına bağlı olarak O(V + E) zaman karmaşıklığına sahiptir; burada V, düğüm sayısını, E ise kenar sayısını temsil eder.\r\n",
    "\r\n",
    "### Görsel Temsili\r\n",
    "![Time](dfs.jpg)\r\n",
    "\r\n",
    "Bu şemada, DFS'in çalışma şekli ve düğümlerin keşfi gösterilmektedir. Algoritmanın detayları, ağaç veya grafik yapısının büyüklüğüne ve yapısına göre değişiklik gösterebilir, ancak temel prensipler her zaman aynıdır."
   ]
  },
  {
   "cell_type": "markdown",
   "metadata": {},
   "source": [
    "<a id=\"5\"></a>\n",
    "## Depth First Search with Python"
   ]
  },
  {
   "cell_type": "code",
   "execution_count": 19,
   "metadata": {},
   "outputs": [
    {
     "name": "stdout",
     "output_type": "stream",
     "text": [
      "{'A': {'C', 'B'}, 'B': {'E', 'D', 'A'}, 'C': {'A', 'F'}, 'D': {'B'}, 'E': {'B', 'F'}, 'F': {'C', 'E'}}\n"
     ]
    }
   ],
   "source": [
    "graph = { \"A\" : set([\"B\",\"C\"]),\n",
    "          \"B\" : set([\"A\",\"D\",\"E\"]),\n",
    "          \"C\" : set([\"A\",\"F\"]),\n",
    "          \"D\" : set([\"B\"]),\n",
    "          \"E\" : set([\"B\",\"F\"]),\n",
    "          \"F\" : set([\"C\",\"E\"])}\n",
    "print(graph)"
   ]
  },
  {
   "cell_type": "code",
   "execution_count": 67,
   "metadata": {},
   "outputs": [],
   "source": [
    "def dfs(graph, start):\n",
    "    # Ziyaret edilen düğümleri saklamak için bir set oluşturuyoruz\n",
    "    visited = set()\n",
    "    \n",
    "    # Başlangıç düğümünü yığına ekleyerek başlıyoruz\n",
    "    stack = [start]\n",
    "    \n",
    "    # Yığın boş olmadığı sürece düğümleri ziyaret etmeye devam ediyoruz\n",
    "    while stack:\n",
    "        # Yığının en üstündeki düğümü çıkarıp vertex değişkenine atıyoruz\n",
    "        vertex = stack.pop()\n",
    "        # Eğer bu düğüm daha önce ziyaret edilmemişse:\n",
    "        if vertex not in visited:\n",
    "            # Bu düğümü ziyaret edilenler listesine ekliyoruz\n",
    "            visited.add(vertex)\n",
    "            \n",
    "            # Mevcut düğümün komşularını (graph[vertex]) yığına ekliyoruz\n",
    "            # Ancak, daha önce ziyaret edilmemiş olan komşuları ekliyoruz\n",
    "            stack.extend(graph[vertex] - visited)\n",
    "        \n",
    "        # Her adımda ziyaret edilen düğümleri ekrana yazdırıyoruz\n",
    "        print(visited)\n",
    "    \n",
    "    # Tüm düğümler ziyaret edildikten sonra, ziyaret edilen düğümleri döneriz\n",
    "    return visited\n"
   ]
  },
  {
   "cell_type": "code",
   "execution_count": 69,
   "metadata": {},
   "outputs": [
    {
     "name": "stdout",
     "output_type": "stream",
     "text": [
      "{'A'}\n",
      "{'B', 'A'}\n",
      "{'D', 'B', 'A'}\n",
      "{'E', 'D', 'B', 'A'}\n",
      "{'B', 'A', 'F', 'E', 'D'}\n",
      "{'B', 'C', 'A', 'F', 'E', 'D'}\n",
      "{'B', 'C', 'A', 'F', 'E', 'D'}\n"
     ]
    },
    {
     "data": {
      "text/plain": [
       "{'A', 'B', 'C', 'D', 'E', 'F'}"
      ]
     },
     "execution_count": 69,
     "metadata": {},
     "output_type": "execute_result"
    }
   ],
   "source": [
    "dfs(graph,\"A\")"
   ]
  },
  {
   "cell_type": "markdown",
   "metadata": {},
   "source": [
    "<a id=\"6\"></a>\n",
    "## Breadth First Search (BFS)\n",
    "* Sığ öncelikli arama olarak geçer.\n",
    "* Bir tree(graph) traverse algoritmasıdır.\n",
    "* Breadth First Search ilk önce aynı seviyede bulunan node'ların aranması durumudur.\n",
    "* ![Time](bfs.jpg)"
   ]
  },
  {
   "cell_type": "markdown",
   "metadata": {},
   "source": [
    "<a id=\"7\"></a>\n",
    "## Breadth First Search with Python"
   ]
  },
  {
   "cell_type": "code",
   "execution_count": 77,
   "metadata": {},
   "outputs": [
    {
     "name": "stdout",
     "output_type": "stream",
     "text": [
      "{'A': {'C', 'B'}, 'B': {'E', 'D', 'A'}, 'C': {'A', 'F'}, 'D': {'B'}, 'E': {'B', 'F'}, 'F': {'C', 'E'}}\n"
     ]
    }
   ],
   "source": [
    "graph = {'A': set(['B', 'C']),\n",
    "         'B': set(['A', 'D', 'E']),\n",
    "         'C': set(['A', 'F']),\n",
    "         'D': set(['B']),\n",
    "         'E': set(['B', 'F']),\n",
    "         'F': set(['C', 'E'])}\n",
    "print(graph)"
   ]
  },
  {
   "cell_type": "code",
   "execution_count": 79,
   "metadata": {},
   "outputs": [],
   "source": [
    "def bfs(graph, start):\n",
    "    # Ziyaret edilen düğümleri saklamak için bir set oluşturuyoruz\n",
    "    visited = set()\n",
    "    \n",
    "    # Kuyruğa başlangıç düğümünü ekleyerek başlıyoruz\n",
    "    queue = [start]\n",
    "    \n",
    "    # Kuyrukta düğüm olduğu sürece düğümleri ziyaret etmeye devam ediyoruz\n",
    "    while queue:\n",
    "        # Kuyruğun başındaki düğümü çıkarıp vertex değişkenine atıyoruz\n",
    "        vertex = queue.pop(0)\n",
    "        \n",
    "        # Eğer bu düğüm daha önce ziyaret edilmemişse:\n",
    "        if vertex not in visited:\n",
    "            # Bu düğümü ziyaret edilenler listesine ekliyoruz\n",
    "            visited.add(vertex)\n",
    "            \n",
    "            # Mevcut düğümün komşularını (graph[vertex]) kuyruğa ekliyoruz\n",
    "            # Ancak, daha önce ziyaret edilmemiş olan komşuları ekliyoruz\n",
    "            queue.extend(graph[vertex] - visited)\n",
    "    \n",
    "    # Tüm düğümler ziyaret edildikten sonra, ziyaret edilen düğümleri döneriz\n",
    "    return visited\n"
   ]
  },
  {
   "cell_type": "code",
   "execution_count": 81,
   "metadata": {},
   "outputs": [
    {
     "data": {
      "text/plain": [
       "{'A', 'B', 'C', 'D', 'E', 'F'}"
      ]
     },
     "execution_count": 81,
     "metadata": {},
     "output_type": "execute_result"
    }
   ],
   "source": [
    "bfs(graph,\"A\")"
   ]
  },
  {
   "cell_type": "markdown",
   "metadata": {},
   "source": [
    "<a id=\"55\"></a>\n",
    "İşte iş mülakatlarında karşınıza çıkabilecek Graph Theory soruları ve cevapları, daha profesyonel ve derinlemesine bir formatta sunulmuştur. Ek sorularla birlikte, hem teorik hem de pratik bilgilerinizi test edebileceğiniz sorular da dahil edilmiştir.\r\n",
    "\r\n",
    "---\r\n",
    "\r\n",
    "### 1. **Graph nedir?**\r\n",
    "**Cevap:**  \r\n",
    "Graph, düğümler (nodes veya vertices) ve bu düğümleri birbirine bağlayan kenarlardan (edges) oluşan bir veri yapısıdır. Bir graph, matematiksel modelleme, ağ yapılandırmaları ve sosyal ilişkiler gibi birçok alanda kullanılır. Düğümler varlıkları, kenarlar ise bu varlıklar arasındaki ilişkileri temsil eder.\r\n",
    "\r\n",
    "---\r\n",
    "\r\n",
    "### 2. **Neden graph kullanırız?**\r\n",
    "**Cevap:**  \r\n",
    "Graph yapıları, karmaşık veri ilişkilerini anlamaya ve çözmeye yardımcı olur. Özellikle aşağıdaki nedenlerle kullanılır:\r\n",
    "- **Karmaşık ilişkileri modellemek:** Graph'lar, düğümler arasındaki karmaşık bağlantıları net bir şekilde ifade eder. Örneğin, sosyal ağlardaki arkadaşlık ilişkilerini modellemek.\r\n",
    "- **Veri yapısına göre performans avantajı:** Belli problemlerde, graph yapıları diğer veri yapılarına kıyasla daha hızlı ve etkili olabilir. Örneğin, yol bulma algoritmaları.\r\n",
    "- **Gerçek dünya problemleri:** Graph'lar, haritalar, ağ bağlantıları, program akışları gibi problemleri çözmek için idealdir.\r\n",
    "\r\n",
    "---\r\n",
    "\r\n",
    "### 3. **Undirected ve directed graph arasında fark nedir?**\r\n",
    "**Cevap:**  \r\n",
    "- **Undirected Graph:** Kenarlar (edges) belirli bir yön göstermez. İki düğüm arasında iki yönlü bir ilişki olduğunu ifade eder. Örneğin, bir arkadaşlık ilişkisi gibi.\r\n",
    "- **Directed Graph (Di-graph):** Kenarlar belirli bir yön gösterir. İki düğüm arasında tek yönlü bir ilişki olduğunu ifade eder. Örneğin, bir kişi başka bir kişiyi takip edebilir, ancak bu ilişki karşılıklı olmak zorunda değildir.\r\n",
    "\r\n",
    "---\r\n",
    "\r\n",
    "### 4. **Weighted edge ne demektir?**\r\n",
    "**Cevap:**  \r\n",
    "Weighted edge, graph üzerindeki kenarların bir ağırlık (weight) ya da maliyet (cost) taşıdığı anlamına gelir. Bu ağırlık, genellikle iki düğüm arasındaki mesafeyi, zamanı, maliyeti ya da herhangi bir ölçü birimini ifade eder. Örneğin, bir yol haritası graph'ında, şehirler arasındaki mesafeler edge ağırlıklarıyla temsil edilir.\r\n",
    "\r\n",
    "---\r\n",
    "\r\n",
    "### 5. **Tree ile Graph arasındaki ilişki nedir?**\r\n",
    "**Cevap:**  \r\n",
    "Tree, graph'ın özelleşmiş bir türüdür. Tree'nin bazı önemli özellikleri şunlardır:\r\n",
    "- Bir **tree**, bir **graph**’ın döngü (cycle) içermeyen halidir.\r\n",
    "- Her tree bir graph’tır, ancak her graph bir tree değildir.\r\n",
    "- Tree’lerde düğümler arasında yalnızca **tek bir yol** vardır, yani her iki düğüm arasında yalnızca bir bağlantı olabilir.\r\n",
    "- Tree'ler genellikle hiyerarşik yapıları temsil etmek için kullanılır.\r\n",
    "\r\n",
    "---\r\n",
    "\r\n",
    "### 6. **Aşağıda bulunan graph'ı adjacency matrix şeklinde gösterin.**\r\n",
    "\r\n",
    "![adjacency matrix question](admatq.jpg)\r\n",
    "\r\n",
    "**Cevap:**\r\n",
    "Adjacency matrix, bir graph’ı temsil etmenin matris biçiminde bir yoludur. Her satır ve sütun bir düğümü temsil eder, kesişim noktalarındaki değerler ise iki düğüm arasındaki bağlantıyı (kenarı) ifade eder.\r\n",
    "\r\n",
    "|   | 1 | 2 | 3 | 4 | 5 |\r\n",
    "|---|---|---|---|---|---|\r\n",
    "| 1 | 0 | 1 | 0 | 1 | 0 |\r\n",
    "| 2 | 1 | 0 | 1 | 0 | 1 |\r\n",
    "| 3 | 0 | 1 | 0 | 1 | 0 |\r\n",
    "| 4 | 1 | 0 | 1 | 0 | 1 |\r\n",
    "| 5 | 0 | 1 | 0 | 1 | 0 |\r\n",
    "\r\n",
    "---\r\n",
    "\r\n",
    "### 7. **Aşağıda bulunan graph'ı adjacency list şeklinde gösterin.**\r\n",
    "\r\n",
    "![adjacency list question](adlistq.jpg)\r\n",
    "\r\n",
    "**Cevap:**  \r\n",
    "Adjacency list, her düğüm için o düğüme bağlı diğer düğümleri listeleyen bir gösterimdir.\r\n",
    "\r\n",
    "- 1 -> [2, 4]  \r\n",
    "- 2 -> [1, 3, 5]  \r\n",
    "- 3 -> [2, 4]  \r\n",
    "- 4 -> [1, 3, 5]  \r\n",
    "- 5 -> [2, 4]\r\n",
    "\r\n",
    "---\r\n",
    "\r\n",
    "### 8. **Aşağıdaki graph'ı breadth-first search (BFS) algoritmasına göre traverse edin.**\r\n",
    "Grafik:  \r\n",
    "![breadth search question](bsq.jpg)\r\n",
    "\r\n",
    "**Cevap:**  \r\n",
    "Breadth-first search (BFS) geniş öncelikli arama yapar, yani bir düğümün tüm komşularını keşfettikten sonra bir sonraki seviyeye geçer. Bu örnekte BFS sırası şu şekilde olacaktır:  \r\n",
    "**1, 2, 3, 4, 5, 6, 7, 8, 9, 10, 11, 12**\r\n",
    "\r\n",
    "---\r\n",
    "\r\n",
    "### Ek Sorular:\r\n",
    "\r\n",
    "---\r\n",
    "\r\n",
    "### 9. **Depth-first search (DFS) algoritmasını nasıl çalıştırırsınız?**\r\n",
    "**Cevap:**  \r\n",
    "Depth-first search (DFS), bir düğümden başlayarak derinlemesine ilerler ve keşfedilecek düğüm kalmadığında geri döner. DFS, genellikle bir stack veya recursive fonksiyon kullanılarak uygulanır.\r\n",
    "\r\n",
    "---\r\n",
    "\r\n",
    "### 10. **Graph traversal için BFS ile DFS algoritmaları arasında ne zaman birini diğerine tercih edersiniz?**\r\n",
    "**Cevap:**  \r\n",
    "- **BFS** geniş öncelikli arama yapar ve her seviyeyi sırayla keşfeder. BFS, en kısa yol problemlerinde (unweighted graph'larda) ve en yakın düğümleri hızlıca keşfetmek istediğimiz durumlarda tercih edilir.\r\n",
    "- **DFS** derinlemesine arama yapar ve bir dalın sonuna kadar gider. DFS, tüm yolları araştırmak, döngüleri bulmak veya bağlantılı bileşenleri keşfetmek istediğimiz durumlarda kullanılır.\r\n",
    "\r\n",
    "---\r\n",
    "\r\n",
    "### 11. **Directed Acyclic Graph (DAG) nedir ve nerede kullanılır?**\r\n",
    "**Cevap:**  \r\n",
    "Directed Acyclic Graph (DAG), yönlendirilmiş ve döngü içermeyen bir graph türüdür. Bu yapılar, görevlerin sırayla yapılması gerektiği durumlarda kullanılır, örneğin işlem bağımlılıkları, iş akışları ve derleyici optimizasyonları.\r\n",
    "\r\n",
    "---\r\n",
    "\r\n",
    "### 12. **Graph traversal sırasında döngüleri nasıl tespit edersiniz?**\r\n",
    "**Cevap:**  \r\n",
    "Döngüleri tespit etmek için DFS algoritması kullanılabilir. DFS sırasında bir düğümü tekrar ziyaret edersek ve bu düğüm şu anda keşif aşamasında ise, bu bir döngü olduğunu gösterir. Ayrıca, directed graph'larda döngü tespiti için topological sorting kullanılır.\r\n",
    "\r\n",
    "---\r\n",
    "\r\n",
    "### 13. **En kısa yol algoritmalarından biri olan Dijkstra'nın Algoritması nasıl çalışır?**\r\n",
    "**Cevap:**  \r\n",
    "Dijkstra'nın algoritması, weighted graph üzerinde bir düğümden diğer tüm düğümlere olan en kısa yolu bulmak için kullanılır. Algoritma, başlangıç düğümraph teorisi hakkında temel ve ileri düzey bilgileri kapsar ve iş mülakatlarında sıkça karşılaşılan konseptleri içerir."
   ]
  },
  {
   "cell_type": "markdown",
   "metadata": {},
   "source": [
    "<a id=\"66\"></a>\n",
    "## Graph Theory Python Challenge/Problem\n",
    "1. Vertex Covering"
   ]
  },
  {
   "cell_type": "markdown",
   "metadata": {},
   "source": [
    "### 1) Vertex Covering\n",
    "* ![Time](Challenge.jpg)\n",
    "* Input: [\"(A,B,C,D)\",\"(A-B,A-D,B-D,A-C)\",\"(A,B)\"]\n",
    "* Output: \"yes\"\n",
    "* Input: [\"(A,B,C,D)\",\"(A-B,A-D,B-D,A-C)\",\"(C)\"]\n",
    "* Output: \"(A-B,A-D,B-D)\"\n",
    "* Input: [\"(A,B,C,D)\",\"(A-B,A-D,B-D,A-C)\",\"(C,B)\"]\n",
    "* Output: (A-D)"
   ]
  },
  {
   "cell_type": "code",
   "execution_count": 119,
   "metadata": {},
   "outputs": [],
   "source": [
    "def vertexCovering(a):\n",
    "    vertices = a[2][1:-1].split(\",\")\n",
    "    graph = a[1][1:-1].split(\",\")\n",
    "    failed = []\n",
    "    \n",
    "    if len(vertices[0]) == 0:\n",
    "        return a[1]\n",
    "    for i in graph:\n",
    "        flag = True\n",
    "        for x in vertices:\n",
    "            if x in i:\n",
    "                flag = False\n",
    "        if flag:\n",
    "            failed.append(i)\n",
    "    if len(failed) > 0:\n",
    "        return \"(\" + \",\".join(failed)  + \")\" \n",
    "    return \"yes\""
   ]
  },
  {
   "cell_type": "code",
   "execution_count": 121,
   "metadata": {},
   "outputs": [
    {
     "name": "stdout",
     "output_type": "stream",
     "text": [
      "yes\n",
      "(A-D)\n",
      "(A-B,A-D,B-D)\n"
     ]
    }
   ],
   "source": [
    "a = vertexCovering([\"(A,B,C,D)\",\"(A-B,A-D,B-D,A-C)\",\"(A,B)\"])\n",
    "print(a)\n",
    "b = vertexCovering([\"(A,B,C,D)\",\"(A-B,A-D,B-D,A-C)\",\"(C,B)\"])\n",
    "print(b)\n",
    "c= vertexCovering([\"(A,B,C,D)\",\"(A-B,A-D,B-D,A-C)\",\"(C)\"])\n",
    "print(c)"
   ]
  },
  {
   "cell_type": "code",
   "execution_count": null,
   "metadata": {},
   "outputs": [],
   "source": []
  }
 ],
 "metadata": {
  "kernelspec": {
   "display_name": "Python 3 (ipykernel)",
   "language": "python",
   "name": "python3"
  },
  "language_info": {
   "codemirror_mode": {
    "name": "ipython",
    "version": 3
   },
   "file_extension": ".py",
   "mimetype": "text/x-python",
   "name": "python",
   "nbconvert_exporter": "python",
   "pygments_lexer": "ipython3",
   "version": "3.11.9"
  }
 },
 "nbformat": 4,
 "nbformat_minor": 4
}
