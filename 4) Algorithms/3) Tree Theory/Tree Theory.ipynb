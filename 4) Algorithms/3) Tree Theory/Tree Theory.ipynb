{
 "cells": [
  {
   "cell_type": "markdown",
   "metadata": {},
   "source": [
    "# Tree Theory"
   ]
  },
  {
   "cell_type": "markdown",
   "metadata": {},
   "source": [
    "## İçerik\n",
    "* [Tree](#1)\n",
    "* [Binary Tree](#2)\n",
    "* [Binary Tree with Python](#3)\n",
    "* [Binary Search Tree (BST)](#4)\n",
    "* [Binary Search Tree with Python](#5)\n",
    "* [Tree Theory İş Mülakatları Soru-Cevap](#55)\n",
    "* [Tree Theory Python Challenge/Problem](#66)\n",
    "* [Neler Öğrendik](#77)"
   ]
  },
  {
   "cell_type": "markdown",
   "metadata": {},
   "source": [
    "<a id=\"1\"></a>\n",
    "### Tree Veri Yapısı\n",
    "\n",
    "**Trees** (ağaçlar), bilgisayar bilimlerinde kullanılan önemli bir veri yapısıdır. Diğer veri yapılarından farklı olarak, **hiyerarşik** bir düzeni vardır ve belirli özellikleri taşıyan bir **graph** türüdür. Daha önce öğrendiğimiz **array**, **linked list** ve **queue** gibi veri yapıları **doğrusal** (linear) veri yapılarıdır. Ancak, **tree** yapısı doğrusal değil, **hiyerarşik** bir yapıdadır.\n",
    "\n",
    "### Tree'nin Temel Kavramları\n",
    "\n",
    "1. **Root (Kök):** Ağacın en üstünde bulunan düğümdür. Örneğin, aşağıdaki ağaçta `A`, kök düğümdür.\n",
    "   \n",
    "2. **Parent (Ebeveyn):** Bir düğümün kendisinden daha aşağıdaki düğümlerle ilişkili olduğu düğümdür. Örneğin, `A` düğümü `B` ve `C`'nin ebeveynidir.\n",
    "\n",
    "3. **Child (Çocuk):** Bir düğümün altındaki düğümleridir. Örneğin, `B` ve `C`, `A`'nın çocuklarıdır.\n",
    "\n",
    "4. **Leaf (Yaprak):** Çocuğu olmayan düğümlerdir. Örneğin, `H` ve `I`, çocuğu olmayan düğümler oldukları için **leaf (yaprak)** olarak adlandırılır.<img src=\"resim1.jpg\"></img>\n",
    "\n",
    "#### Örnek Tree Yapısı:\n",
    "```\n",
    "        A\n",
    "       / \\\n",
    "      B   C\n",
    "     / \\   \\\n",
    "    D   E   F\n",
    "   / \\\n",
    "  H   I\n",
    "```\n",
    "- `A` kök düğüm.\n",
    "- `B` ve `C` düğümleri `A`'nın çocukları.\n",
    "- `H` ve `I`, çocuğu olmayan **leaf** düğümler.\n",
    "\n",
    "### Tree'nin Kullanım Alanları\n",
    "**Trees**, veri yapılarında önemli avantajlar sağlar, özellikle hiyerarşi gerektiren durumlarda kullanılır. Örneğin:\n",
    "\n",
    "1. **Dosya Sistemi:** Bilgisayarlarımızda kullanılan dosya sistemi tree yapısına iyi bir örnektir. Klasörler ve dosyalar hiyerarşik bir şekilde organize edilir. Üst klasörler **parent** (ebeveyn), alt klasörler ve dosyalar **child** (çocuk) olur.\n",
    "   <img src=\"resim2.jpg\"></img>\n",
    "\n",
    "3. **Veri Tabanı ve XML Yapıları:** Veritabanı indeksleri veya XML veri yapıları da tree yapısına dayanır.\n",
    "\n",
    "4. **Arama Algoritmaları:** **Binary Search Tree (BST)** gibi yapılar, verilerin hızlı bir şekilde aranması ve düzenlenmesi için kullanılır. Tree veri yapıları, ekleme, çıkarma ve arama işlemlerini hızlı yapabilme avantajı sunar.\n",
    "\n",
    "### Neden Tree Kullanılır?\n",
    "Tree veri yapıları, hiyerarşik verilerin doğal bir temsilidir. **Ağacın yapısal özellikleri**, verilerin düzenli bir şekilde saklanmasına ve gerektiğinde hızlı arama, ekleme ve silme işlemlerine olanak tanır. Özellikle hiyerarşi veya dallanma yapısı gerektiren problemlerde, tree yapıları oldukça etkilidir. Örneğin, dosya sistemlerinde klasörlerin iç içe geçmesi ya da ağaç tabanlı algoritmalar kullanılarak büyük veri kümelerinde hızlı işlem yapılması için ideal bir çözümdür.\n",
    "\n",
    "Başka bir konuda yardım edebilirim!\n"
   ]
  },
  {
   "cell_type": "markdown",
   "metadata": {},
   "source": [
    "<a id=\"2\"></a>\n",
    "### Binary Tree Nedir?\n",
    "**Binary Tree**, her düğümün en fazla 2 çocuğa sahip olduğu bir ağaç yapısıdır. Bu iki çocuk genellikle **sol (left)** ve **sağ (right)** olarak adlandırılır. Ağaç, hiyerarşik bir yapıya sahiptir ve verilerin dallanarak saklanmasını sağlar.\n",
    "\n",
    "### Binary Tree'nin Temel Özellikleri\n",
    "- **Çocuk Sayısı:** Her düğüm en fazla 2 çocuğa sahiptir. Çocuklar, **sol çocuk** ve **sağ çocuk** olarak adlandırılır.\n",
    "- **Level (Seviye):** Ağaçta her bir katman bir seviye olarak adlandırılır. Kök düğüm 1. seviyededir. \n",
    "- **Maksimum Node Sayısı:** Belirli bir seviyedeki maksimum düğüm sayısı, 2^(l-1) formülü ile bulunur. `l` burada seviyeyi temsil eder.\n",
    "  - Örneğin, 3. seviyede maksimum düğüm sayısı 2^2 = 4 düğümdür.\n",
    "\n",
    "- **Height (Yükseklik):** Bir düğümden en aşağıdaki yaprağa (child olmayan düğüm) kadar olan yolların toplam sayısıdır.\n",
    "  - **Root Yüksekliği:** Kök düğümün yüksekliği ağacın yüksekliğidir. Örneğin, bir ağacın yüksekliği 3 olabilir.\n",
    "  - **Leaf Yüksekliği:** Leaf (yaprak) düğümlerin yüksekliği her zaman 0'dır.\n",
    "* ![Time](resim3.jpg)\n",
    "\n",
    "### Önemli Binary Tree Tipleri\n",
    "\n",
    "1. **Full Binary Tree (Tam İkili Ağaç):** Her düğüm ya 0 çocuğa ya da tam 2 çocuğa sahiptir.\n",
    "   * ![Time](fullybinarytree.jpg)\n",
    "   \n",
    "3. **Complete Binary Tree (Tamamlanmış İkili Ağaç):** Bütün seviyeler ya tamamen dolu ya da en azından son seviyedeki düğümler, mümkün olduğu kadar sola doğru yerleştirilmiştir.\n",
    "   * ![Time](completebinarytree.jpg)\n",
    "\n",
    "5. **Perfect Binary Tree (Mükemmel İkili Ağaç):** Her düğüm 2 çocuğa sahiptir ve tüm yaprak düğümler aynı seviyede yer alır.\n",
    "   * ![Time](perfectbt.jpg)\n",
    "\n",
    "7. **Degenerate (Pathological) Tree:** Her düğümün sadece 1 çocuğa sahip olduğu durumlardır. Bu ağaç tipi bir **linked list** yapısına oldukça benzer.\n",
    "   * ![Time](de.jpg)\n",
    "\n",
    "### Özetle\n",
    "Binary Tree, düğümlerin hiyerarşik olarak düzenlendiği ve her düğümün en fazla iki çocuğa sahip olduğu bir veri yapısıdır. Farklı tiplerde binary tree'ler, verilerin organize edilme şekline göre avantajlar sağlar ve çeşitli algoritmalar için temel oluşturur."
   ]
  },
  {
   "cell_type": "markdown",
   "metadata": {},
   "source": [
    "<a id=\"3\"></a>\n",
    "## Binary Tree with Python"
   ]
  },
  {
   "cell_type": "markdown",
   "metadata": {},
   "source": [
    "![Time](pythoniim.jpg)"
   ]
  },
  {
   "cell_type": "code",
   "execution_count": 19,
   "metadata": {},
   "outputs": [],
   "source": [
    "class Node:\n",
    "    \"\"\"\n",
    "    binary tree nodes\n",
    "    \"\"\"\n",
    "    def __init__(self,key):\n",
    "        \"\"\"\n",
    "        Node değerinin taşıdığı 3 değişken olacak\n",
    "        1) val: Bu node'un değeri kaç olduğu sorusuna yanıtdır\n",
    "        2) right: Bu node sağında hangi node vardır\n",
    "        3) left: Bu node'un solunda hangi node vardır\n",
    "        \"\"\"\n",
    "        self.val = key\n",
    "        self.right = None\n",
    "        self.left = None\n",
    "    "
   ]
  },
  {
   "cell_type": "code",
   "execution_count": 4,
   "metadata": {},
   "outputs": [],
   "source": [
    "# create root\n",
    "root = Node(\"A\")\n",
    "root.left = Node(\"B\")\n",
    "root.left.left = Node(\"D\")\n",
    "root.right = Node(\"C\")"
   ]
  },
  {
   "cell_type": "markdown",
   "metadata": {},
   "source": [
    "\r\n",
    "```\r\n",
    "    A\r\n",
    "   / \\\r\n",
    "  B   C\r\n",
    " / \r\n",
    "D   \r\n",
    "```\r\n",
    "\r\n",
    "Bu binary tree yapısında:\r\n",
    "- `A` kök düğüm.\r\n",
    "- `A`'nın sol çocuğu `B`, sağ çocuğu `C`.\r\n",
    "- `B`'nin sol çocuğu `D`.D   \r\n"
   ]
  },
  {
   "cell_type": "markdown",
   "metadata": {},
   "source": [
    "<a id=\"4\"></a>\n",
    "### Binary Search Tree (BST) Nedir?\r\n",
    "\r\n",
    "**Binary Search Tree (İkili Arama Ağacı)**, her düğümde belirli bir düzenin olduğu özel bir binary tree türüdür. Bu ağaçta, her düğümün sol alt ağacındaki değerler düğümün değerinden küçük, sağ alt ağacındaki değerler ise düğümün değerinden büyüktür. Bu kural sayesinde, veri arama ve sıralama işlemleri daha hızlı yapılabili\n",
    "\n",
    "* ![Time](bst.jpg)r.\r\n",
    "\r\n",
    "### Binary Search Tree'nin Temel Özellikleri\r\n",
    "\r\n",
    "1. **Düzen Kuralı:**\r\n",
    "   - Her düğümün solundaki tüm değerler düğümün değerinden **küçük** olmalıdır.\r\n",
    "   - Her düğümün sağındaki tüm değerler düğümün değerinden **büyük** olmalıdır.\r\n",
    "   \r\n",
    "2. **Binary Tree Olma Şartı:** BST, aynı zamanda bir **binary tree** olduğu için her düğüm en fazla iki çocuğa sahip olabilir: bir **sol** ve bir **sa\n",
    "ğ** çocuk.\r\n",
    "\r\n",
    "#### Örnek Bir Binary Search Tree:\r\n",
    "```\r\n",
    "        15\r\n",
    "       /  \\\r\n",
    "     10    20\r\n",
    "    /  \\   /  \\\r\n",
    "   8   12 17  25\r\n",
    "```\r\n",
    "- `15` kök düğüm.\r\n",
    "- Solundaki değerler (`10`, `8`, `12`) 15'ten küçük, sağındaki değerlr (`20`, `17`, .\n",
    "\n",
    "25`) 15'ten büyüktür.\r\n",
    "  \r\n",
    "### Binary Search Tree'nin Avantajları\r\n",
    "\r\n",
    "**Arama ve ekleme işlemleri** BST'de oldukça hızlıdır, çünkü veriler sıralı bir yapıda tutulur. Düğüm değerlerine göre dallandığı için, doğru düğüme gitmek için tüm düğümlere bakmaya gerek kalmaz.\r\n",
    "\r\n",
    "- **En Kötü Durumda (Worst Case) Time Complexity:** Arama ve ekleme işlemleri, ağacın yüksekliğine (height, `h`) bağlıdır. En kötü durumda bile time complexity **O(h)** olur. Eğer ağaç dengeli (balanced) ise, bu genellikle **O(log n)** seviyesine gelir, ancak dengesiz bir ağaçta bu \n",
    "*O(n)**'e kadar çıkabilir.\r\n",
    "\r\n",
    "### Neden Binary Search Tree?\r\n",
    "\r\n",
    "**Binary Search Tree**, arama, ekleme ve silme işlemlerini hızlı yapmak için tasarlanmış bir veri yapısıdır. Ağaç dengeli tutulduğunda, veri kümelerinde hızlı işlem yapılmasını sağlar ve sıralı verilerle çalışmayı kolaylaştırır. BST, sıklıkla veritabanlarında ve büyük veri kümelerinde kullanılır, çünkü hiyerarşik yapısı sayesinde büyük verilerde bile hızlı sonuç alınmasını sağlar."
   ]
  },
  {
   "cell_type": "markdown",
   "metadata": {},
   "source": [
    "<a id=\"5\"></a>\n",
    "## Binary Search Tree with Python"
   ]
  },
  {
   "cell_type": "code",
   "execution_count": 36,
   "metadata": {},
   "outputs": [],
   "source": [
    "class Node:\n",
    "    def __init__(self,key):\n",
    "        \"\"\"\n",
    "        constructor\n",
    "        \"\"\"\n",
    "        self.val = key\n",
    "        self.left = None\n",
    "        self.right = None"
   ]
  },
  {
   "cell_type": "code",
   "execution_count": 46,
   "metadata": {},
   "outputs": [],
   "source": [
    "def insert(root,node):\n",
    "    if root is None:\n",
    "        root=node\n",
    "    else:\n",
    "        if root.val<node.val:\n",
    "            if root.right is None: \n",
    "                root.right=node\n",
    "            else:\n",
    "                insert(root.right,node)\n",
    "        else:\n",
    "            if root.left is None: \n",
    "                root.left=node\n",
    "            else:\n",
    "                insert(root.left,node)"
   ]
  },
  {
   "cell_type": "code",
   "execution_count": 48,
   "metadata": {},
   "outputs": [],
   "source": [
    "r = Node(41)\n",
    "insert(r,Node(65))\n",
    "insert(r,Node(99))\n",
    "insert(r,Node(50))\n",
    "insert(r,Node(20))\n",
    "insert(r,Node(11))\n",
    "insert(r,Node(29))\n",
    "insert(r,Node(51))"
   ]
  },
  {
   "cell_type": "code",
   "execution_count": 126,
   "metadata": {},
   "outputs": [
    {
     "name": "stdout",
     "output_type": "stream",
     "text": [
      "11\n",
      "20\n",
      "29\n",
      "41\n",
      "50\n",
      "65\n",
      "99\n"
     ]
    }
   ],
   "source": [
    "def inorder(root):\n",
    "    if root:\n",
    "        inorder(root.left)\n",
    "        print(root.val)\n",
    "        inorder(root.right)\n",
    "    else:\n",
    "        return None\n",
    "inorder(r)"
   ]
  },
  {
   "cell_type": "code",
   "execution_count": null,
   "metadata": {},
   "outputs": [],
   "source": []
  },
  {
   "cell_type": "markdown",
   "metadata": {},
   "source": [
    "<a id=\"55\"></a>\n",
    "### Tree Theory: İş Mülakatı Soru-Cevap Rehberi\r\n",
    "\r\n",
    "#### **1. Binary Tree Tipleri Nelerdir?**\r\n",
    "**Binary Tree**’ler hiyerarşik veri yapılarıdır ve çeşitli türleri vardır. İşte en yaygın binary tree türleri:\r\n",
    "\r\n",
    "- **Full Binary Tree**: Her düğüm ya 0 ya da 2 çocuk düğüme sahip olmalıdır. Yani her seviyede ya tam yaprak (leaf) vardır ya da tam bir çift çok.\r\n",
    "  \r\n",
    "- **Perfect Binary Tree**: Tüm iç düğümler (internal nodes) tam olarak iki çocuğa sahip olmalıdır ve tüm yapraklar aynı seviyede olmalıdır.\r\n",
    "\r\n",
    "- **Complete Binary Tree**: Tüm seviyeler doludur, ancak son seviyede düğümler soldan sağa doğru sıralanmalıdır. Yani, son seviye tamamen dolu olmak zorunda değildir ama boşluklar sağda olmalıdır.\r\n",
    "\r\n",
    "#### **2. Binary Tree Traversal Nedir?**\r\n",
    "**Traversal**, bir binary tree üzerindeki tüm düğümlere belirli bir sırayla erişim anlamına gelir. Traversal aynı zamanda \"tree'de gezinmek\" olarak da bilinir. İki ana traversal yöntemi vardır:\r\n",
    "\r\n",
    "- **Breadth First Traversal (BFT)**: Önce bir seviyedeki tüm düğümleri dolaşır, sonra bir sonraki seviyeye geçer. Bu yöntem genellikle **level-order traversal** olarak da bilinir.\r\n",
    "\r\n",
    "- **Depth First Traversal (DFT)**: Sol alt ağaca derinlemesine inip ardından sağ alt ağaca geçerek gezinir. Bu traversal 3 şekilde olabilir:\r\n",
    "  - **In-order (LNR)**: Sol, kök, sağ sırayla dolaşır.\r\n",
    "  - **Pre-order (NLR)**: Kök, sol, sağ sırayla dolaşır.\r\n",
    "  - **Post-order (LRN)**: Sol, sağ, kök sırayla dolaşır.\r\n",
    "  \r\n",
    "![DFS and BFS Diagram](dfs.jpg)\r\n",
    "\r\n",
    "#### **3. İki Binary Tree'nin \"Identical\" Olduğunu Nasıl Anlarız?**\r\n",
    "İki **binary tree**, yapısal olarak aynı ise ve her bir düğümde aynı değerler varsa **identical** (özdeş) kabul edilir. Yani:\r\n",
    "- Aynı sayıda düğüme sahip olmalıdır.\r\n",
    "- Her bir düğüm aynı değeri içermelidir.\r\n",
    "- Aynı pozisyonda aynı sol ve sağ alt ağaç yapısına sahip olmalıdır.\r\n",
    "\r\n",
    "#### **4. İki Node'un \"Cousin\" (Kuzen) Olduğunu Nasıl Anlarız?**\r\n",
    "İki düğümün kuzen olup olmadığını belirlemek için şu iki koşulun sağlanması gerekir:\r\n",
    "- **Aynı seviyede** olmalıdırlar.\r\n",
    "- **Kardeş olmamalıdırlar** (yani aynı parent'a sahip olmamalıdırlar).\r\n",
    "\r\n",
    "#### **5. Örnek Sorular:**\r\n",
    "**a. Tree'nin Height'i Nedir?**\r\n",
    "Bir ağacın **height**’i, kök düğümden en derin yaprağa kadar olan en uzun yolun düğüm sayısıdır. Yani, bir ağacın derinliğini gösterir.\r\n",
    "\r\n",
    "**b. B Düğümünün Parent’i ve Child’i Kimdir?**\r\n",
    "- **Parent**: A\r\n",
    "- **Child**: D ve E\r\n",
    "\r\n",
    "**c. E ve F Düğümleri Kuzen midir?**\r\n",
    "- Evet, E ve F aynı seviyededirler ve kardeş değill\n",
    "\n",
    "![NodeResim](resim1.jpg)erdir. Bu yüzden **kuzen** kabul edilirler.\r\n",
    "\r\n",
    "#### **6. En Kötü Durumda (Worst Case) BST İçin Search, Insert ve Delete İşlemlerinin Time Complexity’si Nedir?**\r\n",
    "Eğer **Binary Search Tree (BST)** dengeli değilse, en kötü durumda tüm düğümler tek bir dallanma şeklinde olabilir (örneğin bir linked list gibi). Bu durumda, **search**, **insert** ve **delete** işlemleri için time complexity şu olur:\r\n",
    "- **O(n)**: n, düğüm sayısıdır ve ağacın yüksekliği ile orantılıdır.\r\n",
    "\r\n",
    "#### **Ek Soru: Binary Search Tree'deki Dengelenme Nedir ve Neden Önemlidir?**\r\n",
    "**Binary Search Tree**'lerde dengelenme (balancing), ağacın her iki tarafının yaklaşık olarak aynı sayıda düğüme sahip olmasını sağlar. Dengelenmiş bir ağaçta:\r\n",
    "- **Time complexity** genellikle **O(log n)** olur, çünkü dengeli bir ağaçta derinlik daha azdır ve her işlem, daha hızlı tamamlanır.\r\n",
    "\r\n",
    "Dengesiz ağaçlarda ise işlemler en kötü durumda **O(n)** zaman alabilir. **AVL ağaçları** ve **Red-Black ağaçları**, BST'nin dengeli versiyonlarıdır ve yüksek performans sağlarlar.\r\n",
    "\r\n",
    "#### **Ek Soru: Binary Search Tree'yi Dengesizleştiren Durumlar Nelerdir?**\r\n",
    "- Eğer ağaca sırayla (örneğin küçükten büyüğe) elemanlar eklenirse, ağaç dengesiz hale gelir. Bu durumda, **linked list** gibi davranmaya başlar ve performans düi yapıları ve algoritmalar konusunda güven oluşturacaktır."
   ]
  },
  {
   "cell_type": "markdown",
   "metadata": {},
   "source": [
    "<a id=\"66\"></a>\n",
    "## Tree Theory Python Challenge/Problem\n",
    "1. Key search"
   ]
  },
  {
   "cell_type": "markdown",
   "metadata": {},
   "source": [
    "### 1) Key search"
   ]
  },
  {
   "cell_type": "code",
   "execution_count": 90,
   "metadata": {},
   "outputs": [],
   "source": [
    "class Node:\n",
    "    \n",
    "    def __init__(self,key):\n",
    "        \"\"\"\n",
    "        node constructor\n",
    "        \"\"\"\n",
    "        self.val = key\n",
    "        self.right = None\n",
    "        self.left = None"
   ]
  },
  {
   "cell_type": "code",
   "execution_count": 120,
   "metadata": {},
   "outputs": [],
   "source": [
    "def search(root,key):\n",
    "    \"\"\"\n",
    "    search key in tree\n",
    "    \"\"\"\n",
    "    # base case\n",
    "    if root is None or root.val==key:\n",
    "        return root\n",
    "        \n",
    "    if root.val<key:\n",
    "        print(root.val)\n",
    "        return search(root.right,key)\n",
    "    else:\n",
    "        print(root.val)\n",
    "        return search(root.left,key)"
   ]
  },
  {
   "cell_type": "code",
   "execution_count": 122,
   "metadata": {},
   "outputs": [
    {
     "name": "stdout",
     "output_type": "stream",
     "text": [
      "41\n",
      "65\n",
      "50\n"
     ]
    }
   ],
   "source": [
    "r = Node(41)\n",
    "insert(r,Node(11))\n",
    "insert(r,Node(20))\n",
    "insert(r,Node(29))\n",
    "insert(r,Node(65))\n",
    "insert(r,Node(50))\n",
    "insert(r,Node(99))\n",
    "print(search(r,50).val)"
   ]
  }
 ],
 "metadata": {
  "kernelspec": {
   "display_name": "Python 3 (ipykernel)",
   "language": "python",
   "name": "python3"
  },
  "language_info": {
   "codemirror_mode": {
    "name": "ipython",
    "version": 3
   },
   "file_extension": ".py",
   "mimetype": "text/x-python",
   "name": "python",
   "nbconvert_exporter": "python",
   "pygments_lexer": "ipython3",
   "version": "3.11.9"
  }
 },
 "nbformat": 4,
 "nbformat_minor": 4
}
