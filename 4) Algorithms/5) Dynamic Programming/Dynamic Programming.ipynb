{
 "cells": [
  {
   "cell_type": "markdown",
   "metadata": {},
   "source": [
    "# Dynamic Programming"
   ]
  },
  {
   "cell_type": "markdown",
   "metadata": {},
   "source": [
    "## İçerik\n",
    "* [Dynamic Programming](#1)\n",
    "* [Dynamic Programming İş Mülakatları Soru-Cevap](#55)\n",
    "* [Dynamic Programming Python Challenge/Problem](#66)\n",
    "* [Neler Öğrendik](#99)"
   ]
  },
  {
   "cell_type": "markdown",
   "metadata": {},
   "source": [
    "<a id=\"1\"></a>\n",
    "### Dynamic Programming Nedir?\r\n",
    "\r\n",
    "Dynamic Programming (DP), büyük ve karmaşık problemleri daha küçük alt problemlere bölerek çözme stratejisidir. Her alt problemin çözümü bellekte depolanır, bu sayede aynı hesaplamalar tekrar tekrar yapılmaz. Bu yöntemin temel amacı, tekrar eden hesaplamaları engelleyerek algoritmanın performansını optimize etmektir.\r\n",
    "\r\n",
    "---\r\n",
    "\r\n",
    "### Dynamic Programming'in Temel Özellikleri:\r\n",
    "1. **Alt Problemlere Bölme:** Büyük problemler daha küçük, birbirine bağımlı alt problemlere ayrılır.\r\n",
    "2. **Overlapping Subproblems (Çakışan Alt Problemler):** Alt problemler defalarca çözülmek yerine, bir kez çözülüp bellekte tutulur. Aynı problem tekrar karşılaşıldığında önceden hesaplanan sonuç direkt kullanılır.\r\n",
    "3. **Optimal Substructure (Optimal Alt Yapı):** Alt problemlerin optimal çözümleri, ana problemin de optimal çözümünü sağlar.\r\n",
    "\r\n",
    "---\r\n",
    "\r\n",
    "### Dynamic Programming Nasıl Çalışır?\r\n",
    "\r\n",
    "Dynamic programming, iki temel yöntemle uygulanır:\r\n",
    "\r\n",
    "1. **Memoization (Top-Down Approach):** Bir problemi çözerken alt problemlerin çözümünü kaydetmek için kullanılan yaklaşımdır. Bir problem çözülmeye başlandığında, eğer alt problemin çözümü daha önce bulunmuşsa, direkt olarak bellekteki çözüm kullarecursive  yöntem rekürsif yapıda çalışır.\r\n",
    "   \r\n",
    "2. **Tabulation (Bottom-Up Approach):** Tüm alt problemler sırasıyla çözülür ve sonuçlar bir tabloya (genellikle bir diziye) yerleştirilir. Büyük problemi çözerken küçük problemlerden başlayarak ilerleriz. Bu yöntem iteratif yapıda çalışır.\r\n",
    "\r\n",
    "---\r\n",
    "\r\n",
    "### Dynamic Programming Örneği: Fibonacci Sayıları\r\n",
    "\r\n",
    "Dynamic programming'in en klasik örneği Fibonacci sayılarını bulmaktır. Fibonacci dizisi şu şekilde tanımlanır:\r\n",
    "\r\n",
    "- **F(n) = F(n-1) + F(n-2)** (n ≥ 2 için)\r\n",
    "- **F(0) = 0**, **Frecursive \r\n",
    "\r\n",
    "Fibonacci serisi rekürsif olarak hesaplandığında aynı alt problemler defalarca çözülebilir. Dynamic programming kullanarak bu tekrarı önleyebiliriz.\r\n",
    "\r\n",
    "---\r\n",
    "\r\n",
    "### Fibonacci Sayıları ile Dynamic Progrrecursive \n",
    "Fibonacci serisini normal rekürsif yöntemle hesaplarken birçok tekrar eden hesaplama yaparız. Aşağıdaki görselde, bir Fibonacci sayısının hesaplanmasında tekrar eden hesaplamaları görebilirsiniz:\r\n",
    "\r\n",
    "![fibonacci recursion](f.jpg)\r\n",
    "\r\n",
    "Bu tekrar eden hesaplamaları önlemek için dynamic programming kullanılır. İki yaklaşım da aşağıda gösterilmiştir:\r\n",
    "\r\n",
    "#### 1. Memoization (Top-Down Approach):\r\n",
    "```python\r\n",
    "def fib_memo(n, memo={}):\r\n",
    "    if n in memo:\r\n",
    "        return memo[n]\r\n",
    "    if n <= 1:\r\n",
    "        return n\r\n",
    "    memo[n] = fib_memo(n-1, memo) + fib_memo(n-2, memo)\r\n",
    "    return memo[n]\r\n",
    "```\r\n",
    "Memoization yöntemi, her Fibonacci sayısını bir kez hesaplayıp, sonucu saklar. Aynı Fibonacci sayısına tekrar ihtiyaç duyulduğunda bellekteki değer direkt kullanılır.\r\n",
    "\r\n",
    "#### 2. Tabulation (Bottom-Up Approach):\r\n",
    "```python\r\n",
    "def fib_tab(n):\r\n",
    "    table = [0] * (n + 1)\r\n",
    "    table[1] = 1\r\n",
    "    for i in range(2, n + 1):\r\n",
    "        table[i] = table[i - 1] + table[i - 2]\r\n",
    "    return table[n]\r\n",
    "```\r\n",
    "Tabulation yöntemi ise, küçük Fibonacci sayılarından başlayarak büyük Fibonacci sayılarına kadar sırasıyla çözüm üretir. Bu yöntem iteratif olduğundan belleği optimize etmek için uygundur.\r\n",
    "\r\n",
    "---\r\n",
    "\r\n",
    "### Dynamic Programming Neden Kullanılır?\r\n",
    "\r\n",
    "- **Zaman Karmaşıklığı:** Tekrar erecursive lamaları önleyerek daha hızlı sonuçlar üretir. Örneğin, saf rekürsif bir Fibonacci algoritmasının zaman karmaşıklığı **O(2^n)** iken, dynamic programming ile bu süre **O(n)**'ye düşer.\r\n",
    "- **Bellek Kullanımı:** Alt problemlerin sonuçlarını saklayarak hafıza kullanımını optimize eder.\r\n",
    "- **Optimizasyon Problemleri:** DP, en kısa yol, maksimum kazanç gibi optimizasyon problemlerini çözmek için yaygın olarak kullanılır. Örneğin, **Knapsack**, **Longest Common Subsequence**, **Matrix Chain Multiplication** gibi klasik problemler dynamic programming ile çözülür.\r\n",
    "\r\n",
    "---\r\n",
    "\r\n",
    "### Dynamic Programming Stratejisinin Avantajları\r\n",
    "\r\n",
    "- **Performans İyileştirme:** DP, özellikle büyük problemlerde hesaplama süresini dramatik şekilde azaltır.\r\n",
    "- **Tekrar Eden Problemleri Çözme:** Overlapping subproblems (çakışan alt problemler) yapısına sahip problemlerde büyük bir avantaj sağlar.\r\n",
    "- **Doğru ve Güvenilir Sonuçlar:** DP, problemdeki tüm alt problemlerin sonuçlarını doğru bir şekilde birleştirerek optimal bir sonuç sağlar.\r\n",
    "\r\n",
    "---\r\n",
    "\r\n",
    "### Dynamic Programming Uygulama Alanları\r\n",
    "\r\n",
    "Dynamic programming, aşağıdaki alanlarda sıkça kullanılır:\r\n",
    "- **Ağ analizleri ve yön bulma algoritmaları:** Örneğin, en kısa yol bulma algoritmaları (Dijkstra, Floyd-Warshall).\r\n",
    "- **Optimizasyon problemleri:** Minimum maliyetli yollar, maksimum kazançlı yollar gibi.\r\n",
    "- **Biyoinformatik:** DNA dizilimlerinin karşılaştırılması (Longest Common Subsequence).\r\n",
    "- **İktisat ve finans:** Karar verme süreçleri, optimum portföy oluşturma.\r\n",
    "- **Yapay Zeka:** Oyun teorisi, makine öğrenimi algoritmalarında maliyet ve kazanç hesaplama.\r\n",
    "\r\n",
    "---\r\n",
    "\r\n",
    "### Sonuç\r\n",
    "\r\n",
    "Dynamic Programming, büyük problemleri daha küçük ve yönetilebilir hale getirerek çözüm sürecini hızlandıran çok güçlü bir algoritma tasarım tekniğidir. Özellikle tekrar eden alt problemlerin olduğu durumlarda çok etkilidir ve birçok optimizasyon probleminde çözüm sağlar."
   ]
  },
  {
   "cell_type": "code",
   "execution_count": null,
   "metadata": {},
   "outputs": [],
   "source": [
    "               # rec(9)\n",
    "    # rec(8)      +       rec(7)\n",
    "# rec(7) + rec(6)      rec(6) + rec(5)   "
   ]
  },
  {
   "cell_type": "code",
   "execution_count": 44,
   "metadata": {},
   "outputs": [],
   "source": [
    "# fibonacci numbers\n",
    "def recur_fibo(n):\n",
    "    \"\"\"\n",
    "    recursion function for fibonacci sequence\n",
    "    \"\"\"\n",
    "    # base case\n",
    "    if n <= 1:\n",
    "        return n \n",
    "    else:\n",
    "        return recur_fibo(n-1)+recur_fibo(n-2)\n",
    "        "
   ]
  },
  {
   "cell_type": "code",
   "execution_count": 46,
   "metadata": {},
   "outputs": [
    {
     "data": {
      "text/plain": [
       "34"
      ]
     },
     "execution_count": 46,
     "metadata": {},
     "output_type": "execute_result"
    }
   ],
   "source": [
    "recur_fibo(9)"
   ]
  },
  {
   "cell_type": "markdown",
   "metadata": {},
   "source": [
    "Bu kod, Fibonacci serisini hesaplamak için kullanılan **rekürsif** bir fonksiyon. Fibonacci serisi, her sayının, kendisinden önceki iki sayının toplamı ile bulunduğu bir sayı dizisidir. İlk iki sayı genellikle şu şekilde tanımlanır:\r\n",
    "\r\n",
    "- **F(0) = 0**\r\n",
    "- **F(1) = 1**\r\n",
    "\r\n",
    "Bu kurallar kullanılarak Fibonacci dizisinin her sayısı şu şekilde hesaplanır:\r\n",
    "\r\n",
    "- **F(n) = F(n-1) + F(n-2)** (n ≥ 2)\r\n",
    "\r\n",
    "Şimdi, bu rekürsif fonksiyonun nasıl çalıştığını adım adım açıklayalım:\r\n",
    "\r\n",
    "### Fonksiyonun Yapısı\r\n",
    "\r\n",
    "```python\r\n",
    "def recur_fibo(n):\r\n",
    "    \"\"\"\r\n",
    "    recursion function for fibonacci sequence\r\n",
    "    \"\"\"\r\n",
    "    # base case\r\n",
    "    if n <= 1:\r\n",
    "        return n \r\n",
    "    else:\r\n",
    "        return recur_fibo(n-1) + recur_fibo(n-2)\r\n",
    "```\r\n",
    "\r\n",
    "### 1. **Base Case (Temel Durum):**\r\n",
    "\r\n",
    "Fonksiyonda ilk kontrol edilen durum şu satırda bulunuyor:\r\n",
    "```python\r\n",
    "if n <= 1:\r\n",
    "    return n\r\n",
    "```\r\n",
    "Bu, **temel durum**dur (base case). Fibonacci serisinin ilk iki elemanı sabit olduğu için:\r\n",
    "- Eğer **n = 0** veya **n = 1** ise, fonksiyon direkt olarak **n**'i döndürüyor. \r\n",
    "- Yani:\r\n",
    "  - **F(0) = 0**\r\n",
    "  - **F(1) = 1**\r\n",
    "\r\n",
    "Bu, rekürsif fonksiyonun durma koşuludur. Eğer temel duruma ulaşmazsak, fonksiyon sürekli kendini çağırarak sonsuz döngüye girebilir. Bu yüzden temel durumu ekliyoruz.\r\n",
    "\r\n",
    "### 2. **Recursive Case (Rekürsif Durum):**\r\n",
    "\r\n",
    "Fonksiyonun en önemli kısmı rekürsif durumu. Şu satırlarda gerçekleşiyor:\r\n",
    "\r\n",
    "```python\r\n",
    "else:\r\n",
    "    return recur_fibo(n-1) + recur_fibo(n-2)\r\n",
    "```\r\n",
    "\r\n",
    "Eğer **n > 1** ise, fonksiyon iki alt probleme bölünür:\r\n",
    "- **recur_fibo(n-1)**: Fibonacci dizisindeki bir önceki sayıyı hesaplar.\r\n",
    "- **recur_fibo(n-2)**: Fibonacci dizisindeki iki önceki sayıyı hesaplar.\r\n",
    "\r\n",
    "Bu iki alt problem hesaplandıktan sonra, sonuçlar toplanarak **F(n)** değeri elde edilir. \r\n",
    "\r\n",
    "Bu yapı, problem çözümlenene kadar fonksiyonun tekrar tekrar çağrılmasına neden olur. Yani, büyük bir problemi (n. Fibonacci sayısını) daha küçük alt problemlere (n-1 ve n-2 Fibonacci sayıları) bölerek çözer.\r\n",
    "\r\n",
    "### Örnek Çalışma: **recur_fibo(4)**\r\n",
    "\r\n",
    "1. **recur_fibo(4)** çağrılır.\r\n",
    "   - Bu, **recur_fibo(3)** ve **recur_fibo(2)** hesaplamasını gerektirir.\r\n",
    "   \r\n",
    "2. **recur_fibo(3)** çağrılır.\r\n",
    "   - Bu da **recur_fibo(2)** ve **recur_fibo(1)** hesaplamasını gerektirir.\r\n",
    "\r\n",
    "3. **recur_fibo(2)** çağrılır.\r\n",
    "   - Bu da **recur_fibo(1)** ve **recur_fibo(0)** hesaplamasını gerektirir.\r\n",
    "   \r\n",
    "4. **recur_fibo(1)** çağrıldığında, temel duruma ulaşılır ve **1** döndürülür.\r\n",
    "   \r\n",
    "5. **recur_fibo(0)** çağrıldığında, temel duruma ulaşılır ve **0** döndürülür.\r\n",
    "\r\n",
    "Bu adımların sonucunda:\r\n",
    "- **recur_fibo(2)** sonucu: **1 + 0 = 1**\r\n",
    "- **recur_fibo(3)** sonucu: **1 + 1 = 2**\r\n",
    "- **recur_fibo(4)** sonucu: **2 + 1 = 3**\r\n",
    "\r\n",
    "### Genel Mantık\r\n",
    "\r\n",
    "Bu fonksiyon, Fibonacci sayısını bulmak için daha küçük Fibonacci sayılarının çözümüne ihtiyaç duyar. Her bir rekürsif çağrı, bir başka rekürsif çağrıya neden olur, ta ki temel duruma ulaşılana kadar."
   ]
  },
  {
   "cell_type": "markdown",
   "metadata": {},
   "source": [
    "Rekürsif Fibonacci yöntemi her seferinde aynı alt problemleri tekrar tekrar çözdüğü için verimsizdir. Zaman karmaşıklığı **T(n) = T(n-1) + T(n-2)** olup, bu **O(2^n)** (üstel) bir büyüme gösterir. Her Fibonacci sayısını hesaplamak için birçok gereksiz hesaplama yapılır. Bu nedenle bu yöntem, büyük **n** değerleri için oldukça yavaş ve uygun olmayan bir yaklaşımdır.\n",
    "\n",
    "### Problem: Tekrarlayan Hesaplamalar (Repeated Work)\n",
    "Rekürsif Fibonacci fonksiyonu birçok kez aynı Fibonacci sayılarını hesaplar. Örneğin, **F(3)**'ü hesaplamak için hem **F(2)** hem de **F(1)** tekrar tekrar hesaplanır. Bu tekrarlı işlemler, algoritmanın hızını önemli ölçüde düşürür.\n",
    "\n",
    "### Çözüm: Dynamic Programming ile Optimizasyon\n",
    "Dynamic programming, tekrarlayan hesaplamaları önlemek için mükemmel bir çözüm sunar. Fibonacci sayılarını bir kez hesapladıktan sonra bu hesaplamaları bellekte saklayarak (memoization) tekrar hesaplanmasını engelleriz. Bu yaklaşım, zaman karmaşıklığını üstelden **O(n)** seviyesine indirir."
   ]
  },
  {
   "cell_type": "code",
   "execution_count": 41,
   "metadata": {},
   "outputs": [
    {
     "name": "stdout",
     "output_type": "stream",
     "text": [
      "2 {2: 1}\n",
      "3 {2: 1, 3: 2}\n",
      "4 {2: 1, 3: 2, 4: 3}\n",
      "5 {2: 1, 3: 2, 4: 3, 5: 5}\n",
      "6 {2: 1, 3: 2, 4: 3, 5: 5, 6: 8}\n",
      "7 {2: 1, 3: 2, 4: 3, 5: 5, 6: 8, 7: 13}\n",
      "8 {2: 1, 3: 2, 4: 3, 5: 5, 6: 8, 7: 13, 8: 21}\n"
     ]
    },
    {
     "data": {
      "text/plain": [
       "21"
      ]
     },
     "execution_count": 41,
     "metadata": {},
     "output_type": "execute_result"
    }
   ],
   "source": [
    "# dynamic programming ( Memoization)\n",
    "def dynamic_fibo(n,memo={}):\n",
    "    \n",
    "    if n in memo:\n",
    "        return memo[n]\n",
    "    if n<=1:\n",
    "        return n\n",
    "    memo[n]=dynamic_fibo(n-1)+dynamic_fibo(n-2)\n",
    "    print(n,memo)\n",
    "    return memo[n]\n",
    "    \n",
    "dynamic_fibo(8)"
   ]
  },
  {
   "cell_type": "markdown",
   "metadata": {},
   "source": [
    "\n",
    "\r\n",
    "### Daha net ifade edersek:\r\n",
    "- Fonksiyon, verdiğin **n** değeri için hesaplamaya başlıyor, **ama önce temel durumlara (base case)** ulaşana kadar küçük parçalara bölüyor.\r\n",
    "- Yani önce **en küçük Fibonacci sayılarına** (F(1), F(0)) kadar geri gidiyor.\r\n",
    "- Daha sonra bu küçük problemlerin çözümlerini birleştirerek yukarı çıkıyor ve sonunda verdiğin **n** değerine ulaşıyor.\r\n",
    "\r\n",
    "Bunu **bir merdivenden adım adım inip, sonra tekrar yukarı çıkmaya** benzetebilirsin. İlk olarak, temel duruma kadar aşağı iniliyor (rekürsif çağrılarla). Sonra, bu temel durumlardan başlayarak yukarıya doğru hesaplamalar tamamlanıyor (geri dönüş aşaması).\r\n",
    "\r\n",
    "### Özetle:\r\n",
    "- İlk önce **n**'den başlayıp, en küçük değerler olan **F(0)** ve **F(1)**'e gidiliyor.\r\n",
    "- Sonra, bu değerler kullanılarak yukarı doğru çıkarak **n** değerine ulaşılıyor.\r\n",
    "\r\n",
    "Aklında bu şekilde tutmak oldukça mantıklı ve doğ bu yüzden aklınızda böyle tutunru olacaktır!"
   ]
  },
  {
   "cell_type": "code",
   "execution_count": 44,
   "metadata": {},
   "outputs": [
    {
     "data": {
      "text/plain": [
       "21"
      ]
     },
     "execution_count": 44,
     "metadata": {},
     "output_type": "execute_result"
    }
   ],
   "source": [
    "# dynamic programming (Tabulation)\n",
    "def dynamic_fibo(n):\n",
    "    fibo_list = [0, 1] + [0] * (n - 1)\n",
    "    \n",
    "    if n <= 1:\n",
    "        return n\n",
    "    \n",
    "    for i in range(2, n + 1):\n",
    "        fibo_list[i] = fibo_list[i - 1] + fibo_list[i - 2]\n",
    "    \n",
    "    return fibo_list[n]\n",
    "dynamic_fibo(8)"
   ]
  },
  {
   "cell_type": "markdown",
   "metadata": {},
   "source": [
    "* Time complexity of dynamic_fibo O(n)"
   ]
  },
  {
   "cell_type": "markdown",
   "metadata": {},
   "source": [
    "<a id=\"55\"></a>\n",
    "### Dinamik Programlama İş Mülakatı Soru-Cevap\r\n",
    "\r\n",
    "#### 1. **Dinamik Programlamayı ne zaman kullanmalıyız?**\r\n",
    "**Cevap:**  \r\n",
    "Dinamik Programlama (DP), bir problemin üst problemleri ile örtüşen alt problemlerine ayrılabiliyorsa genellikle kullanılır. Eğer problem, optimal alt yapı (optimal çözüm, alt problemlerin optimal çözümlerinden inşa edilebilir) ve örtüşen alt problemler (alt problemler birden fazla kez çözülür) özelliklerini gösteriyorsa, DP uygun bir yaklaşımdır. Bu yöntem, çözülmüş alt problemlerin sonuçlarını saklayarak gereksiz hesaplamaları önler.\r\n",
    "\r\n",
    "#### 2. **Dinamik Programlamada Memoizasyon nedir?**\r\n",
    "**Cevap:**  \r\n",
    "Memoizasyon, pahalı fonksiyon çağrılarını depolayarak tekrar kullanma tekniğidir. Aynı alt problem ile karşılaşıldığında, sonucu yeniden hesaplamak yerine daha önce hesaplanmış olan sonucu kullanır. Böylece, zaman tasarrufu sağlanır ve verimlilik artırılır.\r\n",
    "\r\n",
    "---\r\n",
    "\r\n",
    "### Dinamik Programlama ile İlgili Ek Sorular\r\n",
    "\r\n",
    "#### 3. **Dinamik Programlamada üstten aşağı (Memoizasyon) ve alttan yukarı (Tabulasyon) yaklaşımları arasındaki fark nedir?**\r\n",
    "**Cevap:**  \r\n",
    "- **Üstten aşağı yaklaşımı (Memoizasyon):**  \r\n",
    "  Bu yöntem, orijinal problemi çözmeye başlayarak, problemi özyinelemeli olarak daha küçük alt problemlere böler. Bir alt problemle ilk kez karşılaşıldığında, çözülür ve sonucu saklanır. Yeniden karşılaşıldığında, saklanan sonuç (memoizasyon) kullanılır.\r\n",
    "\r\n",
    "- **Alttan yukarı yaklaşımı (Tabulasyon):**  \r\n",
    "  Bu yöntem, problemi iteratif olarak, en küçük alt problemlerden başlayarak çözer. Alt problemlerin çözümleri bir tablo (veya dizi) içinde saklanır, böylece her alt problem yalnızca bir kez çözülür.\r\n",
    "\r\n",
    "#### 4. **Dinamik Programlama kullanarak Fibonacci dizisini nasıl çözeriz?**\r\n",
    "**Cevap:**  \r\n",
    "Fibonacci dizisi, DP ile çözülebilecek klasik bir örnektir. Dizi şu şekilde tanımlanır:\r\n",
    "\\[\r\n",
    "F(n) = F(n-1) + F(n-2)\r\n",
    "\\]\r\n",
    "temel durumları \\(F(0) = 0\\) ve \\(F(1) = 1\\) olarak kabul edilir.\r\n",
    "\r\n",
    "- **Üstten aşağı (Memoizasyon) yaklaşımı:**\r\n",
    "```python\r\n",
    "def fib(n, memo={}):\r\n",
    "    if n in memo:\r\n",
    "        return memo[n]\r\n",
    "    if n == 0:\r\n",
    "        return 0\r\n",
    "    if n == 1:\r\n",
    "        return 1\r\n",
    "    memo[n] = fib(n-1, memo) + fib(n-2, memo)\r\n",
    "    return memo[n]\r\n",
    "```\r\n",
    "- **Alttan yukarı (Tabulasyon) yaklaşımı:**\r\n",
    "```python\r\n",
    "def fib(n):\r\n",
    "    if n == 0:\r\n",
    "        return 0\r\n",
    "    if n == 1:\r\n",
    "        return 1\r\n",
    "    dp = [0] * (n+1)\r\n",
    "    dp[1] = 1\r\n",
    "    for i in range(2, n+1):\r\n",
    "        dp[i] = dp[i-1] + dp[i-2]\r\n",
    "    return dp[n]\r\n",
    "```\r\n",
    "\r\n",
    "Her iki yaklaşım da orijinal özyinelemeli çözümü optimize ederek zaman karmaşıklığını \\(O(2^n)\\) den \\(O(n)\\) ye düşürür.\r\n",
    "\r\n",
    "#### 5. **\"Optimal alt yapı\" özelliği nedir ve Dinamik Programlamada neden önemlidir?**\r\n",
    "**Cevap:**  \r\n",
    "Optimal alt yapı, bir problemi çözmenin, o problemin alt problemlerinin çözümlerinden inşa edilebileceğini ifade eder. Başka bir deyişle, bir problemi daha küçük parçalara ayırabiliyorsanız, bu parçaları optimal bir şekilde çözüp, bu çözümleri birleştirerek bütün problemin optimal çözümünü oluşturabiliyorsanız, problem optimal alt yapıya sahiptir. Bu özellik, dinamik programlamanın temelini oluşturur ve sorunların özyinelemeli olarak çözülmesine olanak tanır.\r\n",
    "\r\n",
    "#### 6. **0/1 Sırt Çantası (Knapsack) problemini Dinamik Programlama ile nasıl çözersiniz?**\r\n",
    "**Cevap:**  \r\n",
    "0/1 Sırt Çantası problemi, bir çantaya belirli bir ağırlık kapasitesini aşmadan en yüksek değeri taşıyan eşyaları yerleştirme sorusudur. Her bir eşya ya dahil edilir (1) ya da dışarıda bırakılır (0).\r\n",
    "\r\n",
    "- \\(val[i]\\) i'nci eşyanın değerini, \\(wt[i]\\) ise ağırlığını temsil etsin.\r\n",
    "- \\(dp[i][w]\\), ilk \\(i\\) eşyası ve ağırlık limiti \\(w\\) olan maksimum değeri temsil eder.\r\n",
    "\r\n",
    "**DP Formülü:**  \r\n",
    "\\[\r\n",
    "dp[i][w] = \\max(dp[i-1][w], val[i-1] + dp[i-1][w - wt[i-1]])\r\n",
    "\\]\r\n",
    "burada \\(dp[i-1][w]\\) eşyayı dışarıda bırakma durumunu, \\(val[i-1] + dp[i-1][w - wt[i-1]}\\) ise eşyayı dahil etme durumunu temsil eder.\r\n",
    "\r\n",
    "**Alttan yukarı DP çözümü:**\r\n",
    "```python\r\n",
    "def knapsack(W, wt, val, n):\r\n",
    "    dp = [[0 for _ in range(W+1)] for _ in range(n+1)]\r\n",
    "    \r\n",
    "    for i in range(1, n+1):\r\n",
    "        for w in range(1, W+1):\r\n",
    "            if wt[i-1] <= w:\r\n",
    "                dp[i][w] = max(dp[i-1][w], val[i-1] + dp[i-1][w-wt[i-1]])\r\n",
    "            else:\r\n",
    "                dp[i][w] = dp[i-1][w]\r\n",
    "    \r\n",
    "    return dp[n][W]\r\n",
    "```\r\n",
    "Bu yaklaşım, problemi \\(O(nW)\\) zamanında çözer.\r\n",
    "\r\n",
    "#### 7. **\"En Uzun Artan Alt Dizi\" (Longest Increasing Subsequence) problemini nasıl çözersiniz?**\r\n",
    "**Cevap:**  \r\n",
    "En Uzun Artan Alt Dizi (LIS) problemi, verilen bir dizide, elemanlarının sıkı bir şekilde artan sırada olduğu en uzun alt diziyi bulma sorusudur.\r\n",
    "\r\n",
    "**DP Yaklaşımı:**  \r\n",
    "- Bir `dp` dizisi oluşturun, burada `dp[i]`, \\(i\\) indeksinde biten en uzun artan alt dizinin uzunluğunu temsil eder.\r\n",
    "- Her bir \\(i\\) elemanı için, önceki tüm elemanları \\(j\\) (burada \\(j < i\\)) kontrol edin ve eğer \\(arr[j] < arr[i]\\) ise, `dp[i]` değerini güncelleyin: \\(dp[i] = \\max(dp[i], dp[j] + 1)\\).\r\n",
    "\r\n",
    "**Çözüm:**\r\n",
    "```python\r\n",
    "def length_of_lis(nums):\r\n",
    "    if not nums:\r\n",
    "        return 0\r\n",
    "    \r\n",
    "    dp = [1] * len(nums)\r\n",
    "    \r\n",
    "    for i in range(1, len(nums)):\r\n",
    "        for j in range(i):\r\n",
    "            if nums[j] < nums[i]:\r\n",
    "                dp[i] = max(dp[i], dp[j] + 1)\r\n",
    "    \r\n",
    "    return max(dp)\r\n",
    "` net ve öz bir şekilde ifade ederek, dinamik programlama ve uygulamaları hakkında derin bir anlayış sergileyeceksiniz."
   ]
  },
  {
   "cell_type": "markdown",
   "metadata": {},
   "source": [
    "<a id=\"66\"></a>\n",
    "## Dynamic Programming Python Challenge/Problem\n",
    "1) nth Catalan Number"
   ]
  },
  {
   "cell_type": "markdown",
   "metadata": {},
   "source": [
    "### nth Catalan Number\n",
    "* ![Time](cat.jpg)"
   ]
  },
  {
   "cell_type": "code",
   "execution_count": 177,
   "metadata": {},
   "outputs": [
    {
     "data": {
      "text/plain": [
       "42"
      ]
     },
     "execution_count": 177,
     "metadata": {},
     "output_type": "execute_result"
    }
   ],
   "source": [
    "def recursive_catalan(n):\n",
    "    if n<=1:\n",
    "        return 1\n",
    "    results=0\n",
    "    for i in range(n):\n",
    "        results+=recursive_catalan(i)*recursive_catalan(n-1-i)\n",
    "\n",
    "    return results\n",
    "\n",
    "recursive_catalan(5)\n"
   ]
  },
  {
   "cell_type": "code",
   "execution_count": 78,
   "metadata": {},
   "outputs": [
    {
     "name": "stdout",
     "output_type": "stream",
     "text": [
      "1\n",
      "1\n",
      "2\n",
      "5\n",
      "14\n",
      "42\n",
      "132\n",
      "429\n",
      "1430\n",
      "4862\n"
     ]
    }
   ],
   "source": [
    "for i in range(10):\n",
    "    print(recursive_catalan(i))"
   ]
  },
  {
   "cell_type": "code",
   "execution_count": 227,
   "metadata": {},
   "outputs": [],
   "source": [
    "# catalan with dynamic\n",
    "def dynamic_catalan(n):\n",
    "    # base case\n",
    "    if n <= 1:\n",
    "        return 1\n",
    "    catalan=[1,1]+([0]*(n-1))\n",
    "    \n",
    "    # listeyi doldur\n",
    "    for i in range(2,n+1):\n",
    "        for j in range(i):\n",
    "            #print(catalan[i],catalan[j],catalan[i-j-1])\n",
    "            catalan[i] = catalan[i] + catalan[j]*catalan[i-j-1]\n",
    "    return catalan[n]"
   ]
  },
  {
   "cell_type": "code",
   "execution_count": 229,
   "metadata": {},
   "outputs": [
    {
     "name": "stdout",
     "output_type": "stream",
     "text": [
      "1\n",
      "1\n",
      "2\n",
      "5\n",
      "14\n",
      "42\n",
      "132\n",
      "429\n",
      "1430\n",
      "4862\n"
     ]
    }
   ],
   "source": [
    "for i in range(10):\n",
    "    print(dynamic_catalan(i))"
   ]
  },
  {
   "cell_type": "markdown",
   "metadata": {},
   "source": [
    "<a id=\"99\"></a>\n",
    "## Neler Öğrendik\n",
    "* Dynamic Programming\n",
    "* Dynamic Programming İş Mülakatları Soru-Cevap\n",
    "* Dynamic Programming Python Challenge/Problem"
   ]
  }
 ],
 "metadata": {
  "kernelspec": {
   "display_name": "Python 3 (ipykernel)",
   "language": "python",
   "name": "python3"
  },
  "language_info": {
   "codemirror_mode": {
    "name": "ipython",
    "version": 3
   },
   "file_extension": ".py",
   "mimetype": "text/x-python",
   "name": "python",
   "nbconvert_exporter": "python",
   "pygments_lexer": "ipython3",
   "version": "3.11.9"
  }
 },
 "nbformat": 4,
 "nbformat_minor": 4
}
